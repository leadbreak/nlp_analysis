{
 "cells": [
  {
   "cell_type": "code",
   "execution_count": 2,
   "id": "2c5b800f",
   "metadata": {},
   "outputs": [],
   "source": [
    "import sys\n",
    "from urllib.request import Request, urlopen\n",
    "from datetime import *\n",
    "import json\n",
    "\n",
    "# error 로그 출력\n",
    "def json_request_error(e):\n",
    "    print('{0}: {1}'.format(e, datetime.now()), file=sys.stderr)\n",
    "\n",
    "# success, error에 함수를 등록해주면 그 함수를 실행시키겠다는 의미.\n",
    "# js에서 ajax의 success, error와 유사\n",
    "def json_request(url = '',  encoding = 'utf-8',\n",
    "                 success = None,\n",
    "                 error = json_request_error):\n",
    "    try:\n",
    "        req = Request(url)     # request 객체 생성\n",
    "        res = urlopen(req)     # URL에 연결하여 response 객체 반환\n",
    "        if res.getcode() == 200:\n",
    "            res_body = res.read().decode(encoding)  # json string\n",
    "            # print(res_body, type(res_body))\n",
    "            res_json = json.loads(res_body)         # python 자료형인 Dictionary로 반환\n",
    "             # print(json_result, type(json_result))\n",
    "\n",
    "            if callable(success) is False:\n",
    "                return res_json\n",
    "            success(res_json)\n",
    "\n",
    "    except Exception as e:\n",
    "        callable(error) and error('%s %s' % (str(e), url))"
   ]
  },
  {
   "cell_type": "code",
   "execution_count": 13,
   "id": "051d6ad2",
   "metadata": {},
   "outputs": [],
   "source": [
    "# 필요한 모듈과 라이브러리를 로딩\n",
    "from bs4 import BeautifulSoup\n",
    "from selenium import webdriver\n",
    "from selenium.webdriver.support.ui import WebDriverWait\n",
    "from selenium.webdriver.common.by import By\n",
    "from selenium.webdriver.support import expected_conditions as EC\n",
    "from selenium.webdriver.common.keys import Keys\n",
    "import pandas as pd\n",
    "import time, os, math, random, sys, datetime\n",
    "from datetime import date, timedelta, datetime\n",
    "import pyautogui\n",
    "from tqdm import tqdm\n",
    "import requests, re\n",
    "\n",
    "# chromedriver 자동 설치\n",
    "import chromedriver_autoinstaller\n",
    "\n",
    "from selenium.webdriver.common.action_chains import ActionChains\n"
   ]
  },
  {
   "cell_type": "code",
   "execution_count": 12,
   "id": "0f1edf47",
   "metadata": {},
   "outputs": [
    {
     "name": "stdout",
     "output_type": "stream",
     "text": [
      "None\n"
     ]
    },
    {
     "name": "stderr",
     "output_type": "stream",
     "text": [
      "HTTP Error 404: Not Found https://graph.facebook.com/v3.0/JTBC/?access_token=EAAxKPJPtfEoBAJOXvBZCH7Ejt9jXZAsB1bgpZBLZBHwYtK9ZCKz6jkzKfl7Y2tViHDpz5WFnxZCgN2v2x7uAlaa5NZBtamie8E5GI6OaFK8LdPkH2sIU8woWmuelbw69YeTsCBuEsGdqJ8m7imyVwXDM6LDh2TDZCKBK2Awcx0ynESXICDlyzIMHF32qmfjf4boxQZAbWwN6K2W9IV44DvjiDDOKugvdfnKh7UbljGQMDFSVUGEcnmEzZA: 2021-05-18 12:33:31.964151\n"
     ]
    },
    {
     "ename": "AttributeError",
     "evalue": "'NoneType' object has no attribute 'get'",
     "output_type": "error",
     "traceback": [
      "\u001b[1;31m---------------------------------------------------------------------------\u001b[0m",
      "\u001b[1;31mAttributeError\u001b[0m                            Traceback (most recent call last)",
      "\u001b[1;32m<ipython-input-12-3c121511218d>\u001b[0m in \u001b[0;36m<module>\u001b[1;34m\u001b[0m\n\u001b[0;32m     42\u001b[0m     \u001b[1;32mreturn\u001b[0m \u001b[0mjson_result\u001b[0m\u001b[1;33m\u001b[0m\u001b[1;33m\u001b[0m\u001b[0m\n\u001b[0;32m     43\u001b[0m \u001b[1;33m\u001b[0m\u001b[0m\n\u001b[1;32m---> 44\u001b[1;33m \u001b[0mposts\u001b[0m \u001b[1;33m=\u001b[0m \u001b[0mfb_fetch_post\u001b[0m\u001b[1;33m(\u001b[0m\u001b[1;34m'JTBC'\u001b[0m\u001b[1;33m,\u001b[0m \u001b[1;34m'2021-05-14'\u001b[0m\u001b[1;33m,\u001b[0m \u001b[1;34m'2021-05-17'\u001b[0m\u001b[1;33m)\u001b[0m\u001b[1;33m\u001b[0m\u001b[1;33m\u001b[0m\u001b[0m\n\u001b[0m\u001b[0;32m     45\u001b[0m \u001b[0mprint\u001b[0m\u001b[1;33m(\u001b[0m\u001b[0mposts\u001b[0m\u001b[1;33m)\u001b[0m\u001b[1;33m\u001b[0m\u001b[1;33m\u001b[0m\u001b[0m\n",
      "\u001b[1;32m<ipython-input-12-3c121511218d>\u001b[0m in \u001b[0;36mfb_fetch_post\u001b[1;34m(pagename, since, until)\u001b[0m\n\u001b[0;32m     28\u001b[0m     \u001b[1;31m# URL 생성 시, 여러 파라미터를 전달\u001b[0m\u001b[1;33m\u001b[0m\u001b[1;33m\u001b[0m\u001b[1;33m\u001b[0m\u001b[0m\n\u001b[0;32m     29\u001b[0m     url = fb_generate_url(\n\u001b[1;32m---> 30\u001b[1;33m         \u001b[0mnode\u001b[0m \u001b[1;33m=\u001b[0m \u001b[0mfb_name_to_id\u001b[0m\u001b[1;33m(\u001b[0m \u001b[0mpagename\u001b[0m \u001b[1;33m)\u001b[0m \u001b[1;33m+\u001b[0m \u001b[1;34m'/posts'\u001b[0m\u001b[1;33m,\u001b[0m\u001b[1;33m\u001b[0m\u001b[1;33m\u001b[0m\u001b[0m\n\u001b[0m\u001b[0;32m     31\u001b[0m         \u001b[0mfields\u001b[0m \u001b[1;33m=\u001b[0m\u001b[0;31m \u001b[0m\u001b[0;31m'\u001b[0m\u001b[0mid\u001b[0m\u001b[1;33m,\u001b[0m \u001b[0mmessage\u001b[0m\u001b[1;33m,\u001b[0m \u001b[0mlink\u001b[0m\u001b[1;33m,\u001b[0m \u001b[0mname\u001b[0m\u001b[1;33m,\u001b[0m \u001b[0mtype\u001b[0m\u001b[1;33m,\u001b[0m \u001b[0mshares\u001b[0m\u001b[1;33m,\u001b[0m \u001b[0mcreated_time\u001b[0m\u001b[1;33m,\u001b[0m\u001b[0;31m\\\u001b[0m\u001b[1;33m\u001b[0m\u001b[1;33m\u001b[0m\u001b[0m\n\u001b[0;32m     32\u001b[0m                   \u001b[0mreactions\u001b[0m\u001b[1;33m.\u001b[0m\u001b[0mlimit\u001b[0m\u001b[1;33m(\u001b[0m\u001b[1;36m0\u001b[0m\u001b[1;33m)\u001b[0m\u001b[1;33m.\u001b[0m\u001b[0msummary\u001b[0m\u001b[1;33m(\u001b[0m\u001b[0mtrue\u001b[0m\u001b[1;33m)\u001b[0m\u001b[1;33m,\u001b[0m\u001b[0;31m\\\u001b[0m\u001b[1;33m\u001b[0m\u001b[1;33m\u001b[0m\u001b[0m\n",
      "\u001b[1;32m<ipython-input-12-3c121511218d>\u001b[0m in \u001b[0;36mfb_name_to_id\u001b[1;34m(pagename)\u001b[0m\n\u001b[0;32m     20\u001b[0m     \u001b[0mjson_result\u001b[0m \u001b[1;33m=\u001b[0m \u001b[0mjson_request\u001b[0m\u001b[1;33m(\u001b[0m\u001b[0murl\u001b[0m\u001b[1;33m)\u001b[0m\u001b[1;33m\u001b[0m\u001b[1;33m\u001b[0m\u001b[0m\n\u001b[0;32m     21\u001b[0m     \u001b[0mprint\u001b[0m\u001b[1;33m(\u001b[0m\u001b[0mjson_result\u001b[0m\u001b[1;33m)\u001b[0m                \u001b[1;31m# {'name': 'JTBC 뉴스', 'id': '240263402699918'}\u001b[0m\u001b[1;33m\u001b[0m\u001b[1;33m\u001b[0m\u001b[0m\n\u001b[1;32m---> 22\u001b[1;33m     \u001b[1;32mreturn\u001b[0m \u001b[0mjson_result\u001b[0m\u001b[1;33m.\u001b[0m\u001b[0mget\u001b[0m\u001b[1;33m(\u001b[0m\u001b[1;34m'id'\u001b[0m\u001b[1;33m)\u001b[0m\u001b[1;33m\u001b[0m\u001b[1;33m\u001b[0m\u001b[0m\n\u001b[0m\u001b[0;32m     23\u001b[0m \u001b[1;33m\u001b[0m\u001b[0m\n\u001b[0;32m     24\u001b[0m \u001b[1;33m\u001b[0m\u001b[0m\n",
      "\u001b[1;31mAttributeError\u001b[0m: 'NoneType' object has no attribute 'get'"
     ]
    }
   ],
   "source": [
    "from urllib.parse import urlencode\n",
    "# from collection import json_request as jr\n",
    "\n",
    "# jr = json_request()\n",
    "\n",
    "BASE_URL_FB_API = 'https://graph.facebook.com/v3.0'\n",
    "ACCESS_TOKEN = 'EAAxKPJPtfEoBAJOXvBZCH7Ejt9jXZAsB1bgpZBLZBHwYtK9ZCKz6jkzKfl7Y2tViHDpz5WFnxZCgN2v2x7uAlaa5NZBtamie8E5GI6OaFK8LdPkH2sIU8woWmuelbw69YeTsCBuEsGdqJ8m7imyVwXDM6LDh2TDZCKBK2Awcx0ynESXICDlyzIMHF32qmfjf4boxQZAbWwN6K2W9IV44DvjiDDOKugvdfnKh7UbljGQMDFSVUGEcnmEzZA'\n",
    "\n",
    "\n",
    "# 여러 파라미터에 대하여, url을 생성\n",
    "def fb_generate_url(base = BASE_URL_FB_API, node = '', **param):\n",
    "    return '%s/%s/?%s' % (base, node, urlencode(param))\n",
    "\n",
    "\n",
    "# API를 사용할 때 'JTBC 뉴스' 라는 페이지 이름이 아닌, 페이지의 id가 필요하다.\n",
    "# 여기서 매개변수 pagename은 JTBC 뉴스 페이지 URL( https://www.facebook.com/jtbcnews/?ref=br_rs )에 붙은 것을 의미한다.\n",
    "def fb_name_to_id(pagename):\n",
    "    url = fb_generate_url(node = pagename, access_token = ACCESS_TOKEN)\n",
    "    # print(url)\n",
    "    json_result = json_request(url)\n",
    "    print(json_result)                # {'name': 'JTBC 뉴스', 'id': '240263402699918'}\n",
    "    return json_result.get('id')\n",
    "\n",
    "\n",
    "# 게시글 가져오기 - 크롤러는 최종적으로 이 함수를 사용한다.\n",
    "# 인자로 페이스북 페이지명과 게시글 일자 기간을 넘겨준다.\n",
    "def fb_fetch_post(pagename, since, until):\n",
    "    # URL 생성 시, 여러 파라미터를 전달\n",
    "    url = fb_generate_url(\n",
    "        node = fb_name_to_id( pagename ) + '/posts',\n",
    "        fields = 'id, message, link, name, type, shares, created_time,\\\n",
    "                  reactions.limit(0).summary(true),\\\n",
    "                  comments.limit(0).summary(true)',\n",
    "        since = since,  # 시작 날짜\n",
    "         until = until,  # 끝 날짜\n",
    "         limit = 30,     # 개수\n",
    "         access_token = ACCESS_TOKEN\n",
    "    )\n",
    "    # print(url)\n",
    "\n",
    "    json_result = json_request(url)\n",
    "    return json_result\n",
    "\n",
    "posts = fb_fetch_post('JTBC', '2021-05-14', '2021-05-17')\n",
    "print(posts)"
   ]
  },
  {
   "cell_type": "code",
   "execution_count": null,
   "id": "45c567ae",
   "metadata": {},
   "outputs": [],
   "source": []
  },
  {
   "cell_type": "code",
   "execution_count": null,
   "id": "2676d611",
   "metadata": {},
   "outputs": [],
   "source": []
  }
 ],
 "metadata": {
  "kernelspec": {
   "display_name": "Python 3",
   "language": "python",
   "name": "python3"
  },
  "language_info": {
   "codemirror_mode": {
    "name": "ipython",
    "version": 3
   },
   "file_extension": ".py",
   "mimetype": "text/x-python",
   "name": "python",
   "nbconvert_exporter": "python",
   "pygments_lexer": "ipython3",
   "version": "3.9.5"
  }
 },
 "nbformat": 4,
 "nbformat_minor": 5
}
