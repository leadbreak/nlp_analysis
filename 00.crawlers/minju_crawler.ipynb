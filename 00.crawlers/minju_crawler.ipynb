{
 "cells": [
  {
   "cell_type": "code",
   "execution_count": null,
   "metadata": {},
   "outputs": [],
   "source": [
    "# 필요한 모듈과 라이브러리를 로딩\n",
    "from bs4 import BeautifulSoup\n",
    "from selenium import webdriver\n",
    "from selenium.webdriver.support.ui import WebDriverWait\n",
    "from selenium.webdriver.common.by import By\n",
    "from selenium.webdriver.support import expected_conditions as EC\n",
    "from selenium.webdriver.common.keys import Keys\n",
    "import pandas as pd\n",
    "import time, os, math, random, sys, datetime\n",
    "from datetime import date, timedelta, datetime\n",
    "import pyautogui\n",
    "from tqdm import tqdm\n",
    "\n",
    "# chromedriver 자동 설치\n",
    "import chromedriver_autoinstaller\n",
    "\n",
    "from selenium.webdriver.common.action_chains import ActionChains\n"
   ]
  },
  {
   "cell_type": "code",
   "execution_count": null,
   "metadata": {},
   "outputs": [],
   "source": [
    "from_day = 7 # 7일 전부터\n",
    "to_day = 1 # 1일 전부터\n",
    "page_num = 1 # 1페이지부터"
   ]
  },
  {
   "cell_type": "code",
   "execution_count": null,
   "metadata": {},
   "outputs": [],
   "source": [
    "# 작업 시간과 고유 dir 등 생성\n",
    "n = time.localtime()\n",
    "s = '%04d-%02d-%02d' % (n.tm_year, n.tm_mon, n.tm_mday)\n",
    "s_time = time.time( )\n",
    "\n",
    "a = datetime.now()-timedelta(days=to_day)\n",
    "a = a.strftime('%Y-%m-%d')\n",
    "b = datetime.now()-timedelta(days=from_day)\n",
    "b = b.strftime('%Y-%m-%d')\n",
    "print(b, a)"
   ]
  },
  {
   "cell_type": "code",
   "execution_count": null,
   "metadata": {},
   "outputs": [],
   "source": [
    "print(\"=\" *80)\n",
    "print(\"         민주당 권리당원게시판 크롤러입니다.\")\n",
    "print(\"=\" *80)\n",
    "\n",
    "f_dir = os.path.expanduser('~') + f'\\\\Desktop\\\\daily\\\\{b}-{a}\\\\' # 운영체제 상관없이 바탕화면 'crawler-bot' 폴더에 작업\n",
    "\n",
    "print(\"=\" *80)\n",
    "print(\"데이터 크롤링을 시작합니다.\")\n",
    "print(\"=\" *80)"
   ]
  },
  {
   "cell_type": "code",
   "execution_count": null,
   "metadata": {},
   "outputs": [],
   "source": [
    "# 저장될 파일 경로와 이름을 지정\n",
    "# 파일을 저장할 폴더 위치를 만들고, 중복일 경우 해당 폴더를 삭제하고 새로 생성합니다.\n",
    "try : \n",
    "    os.makedirs(f_dir)\n",
    "except : pass\n",
    "else : \n",
    "    os.chdir(f_dir)\n",
    "\n",
    "fc_name=f_dir+'\\\\'+f'minju.csv'"
   ]
  },
  {
   "cell_type": "code",
   "execution_count": null,
   "metadata": {},
   "outputs": [],
   "source": [
    "# 크롤링 데이터가 들어갈 리스트 생성\n",
    "domain2 = []    # 크롤링 도메인\n",
    "keyword2 = []   # 크롤링 키워드\n",
    "title2 = []     # 게시물 제목\n",
    "user2 = []      # 게시물 작성자\n",
    "url2 = []       # 게시물 url\n",
    "date2 = []      # 게시물 작성 시간\n",
    "text2 = []      # 게시물 내용\n",
    "com_cnt2 = []   # 댓글 수\n",
    "com_user2 = []  # 작성자 본인을 제외한 댓글 유저\n",
    "com_text2 = []  # 댓글 user_id & text"
   ]
  },
  {
   "cell_type": "code",
   "execution_count": null,
   "metadata": {},
   "outputs": [],
   "source": [
    "# chromedriver-autoinstaller 이용\n",
    "chromedriver_autoinstaller.install(cwd=True)\n",
    "\n",
    "# HEADLESS MODE\n",
    "options = webdriver.ChromeOptions()\n",
    "# options.add_argument('headless')\n",
    "options.add_argument('window-size=1920x1080') \n",
    "# options.add_argument(\"--disable-gpu\")\n",
    "options.add_experimental_option('excludeSwitches', ['enable-logging'])\n",
    "options.add_argument(\"user-agent=Mozilla/5.0 (Macintosh; Intel Mac OS X 10_12_6) AppleWebKit/537.36 (KHTML, like Gecko) Chrome/61.0.3163.100 Safari/537.36\")\n",
    "args = [\"hide_console\", ]\n",
    "\n",
    "# 알림창 끄기\n",
    "options.add_experimental_option(\"prefs\", {\"profile.default_content_setting_values.notifications\": 1})\n",
    "\n",
    "# 웹사이트 접속 후 해당 메뉴로 이동\n",
    "driver = webdriver.Chrome(options=options,service_args=args)\n",
    "driver.maximize_window()"
   ]
  },
  {
   "cell_type": "code",
   "execution_count": null,
   "metadata": {},
   "outputs": [],
   "source": [
    "# 1. 권리당원 게시판 접속\n",
    "query_url= ('https://theminjoo.kr/membership/login')\n",
    "\n",
    "driver.get(query_url)\n",
    "driver.implicitly_wait(5)"
   ]
  },
  {
   "cell_type": "code",
   "execution_count": null,
   "metadata": {},
   "outputs": [],
   "source": [
    "# login\n",
    "\n",
    "minju_id = 'gorviano'\n",
    "minju_pw = 'soop*dive20'\n",
    "\n",
    "# id 입력\n",
    "driver.find_element_by_id('login_id').click()\n",
    "for i in minju_id :\n",
    "    time.sleep(0.1)\n",
    "    driver.find_element_by_id('login_id').send_keys(i)\n",
    "\n",
    "# pw 입력\n",
    "driver.find_element_by_id('login_pw').click()\n",
    "for i in minju_pw :\n",
    "    time.sleep(0.1)\n",
    "    driver.find_element_by_id('login_pw').send_keys(i)\n",
    "    \n",
    "driver.find_element_by_id('login_pw').send_keys(Keys.ENTER)\n",
    "time.sleep(2)"
   ]
  },
  {
   "cell_type": "code",
   "execution_count": null,
   "metadata": {},
   "outputs": [],
   "source": [
    "# 권리당원 게시판 이동\n",
    "query_url= ('https://theminjoo.kr/board/lists/rmboard?page=1')\n",
    "\n",
    "driver.get(query_url)\n",
    "time.sleep(2)"
   ]
  },
  {
   "cell_type": "code",
   "execution_count": null,
   "metadata": {},
   "outputs": [],
   "source": [
    "domain1 = \"권리당원게시판\""
   ]
  },
  {
   "cell_type": "code",
   "execution_count": null,
   "metadata": {},
   "outputs": [],
   "source": [
    "# 1차 크롤링 \n",
    "\n",
    "while_code = 0\n",
    "\n",
    "while True :\n",
    "    \n",
    "    if while_code == 1 :\n",
    "        break\n",
    "    \n",
    "    html = driver.page_source\n",
    "    soup = BeautifulSoup(html, 'lxml')\n",
    "    item_box = soup.find('ul', id='boardPostList').find_all('li', class_=False)\n",
    "    \n",
    "    for item in item_box :\n",
    "        date1 = item.find('td', class_='date').text.replace(\"작성일:\",\"\")\n",
    "        \n",
    "        \n",
    "        if \"초\" in date1 or \"분\" in date1 or \"시간\" in date1 :\n",
    "            date1 = a\n",
    "        elif \"1일전\" in date1 :\n",
    "            tmp_date = datetime.now()-timedelta(days=to_day+1)\n",
    "            tmp_date = tmp_date.strftime(\"%Y-%m-%d\")\n",
    "            date1 = tmp_date\n",
    "        elif \"2일전\" in date1 :\n",
    "            tmp_date = datetime.now()-timedelta(days=to_day+2)\n",
    "            tmp_date = tmp_date.strftime(\"%Y-%m-%d\")\n",
    "            date1 = tmp_date\n",
    "        else :\n",
    "            date1 = \"20\" + date1\n",
    "            \n",
    "        print(date1)\n",
    "        \n",
    "        if date1 > a :\n",
    "            pass\n",
    "        \n",
    "        elif date1 >= b : \n",
    "\n",
    "            title1 = item.find('div', class_='subject clearfix').find('a', href=True).text\n",
    "            \n",
    "            name1 = item.find('a', href=True).text\n",
    "            url1 = \"https://theminjoo.kr\" + item.find('div', class_='subject clearfix').find('a', href=True)['href']\n",
    "            \n",
    "            print(title1)\n",
    "            print(name1)\n",
    "            print(url1)\n",
    "            print(\"\\n\")\n",
    "            \n",
    "            domain2.append(domain1)\n",
    "            title2.append(title1)\n",
    "            date2.append(date1)\n",
    "            user2.append(name1)\n",
    "            url2.append(url1)\n",
    "            \n",
    "        \n",
    "        else :\n",
    "            while_code = 1\n",
    "            break\n",
    "            \n",
    "    page_num += 1\n",
    "    driver.get(f\"https://theminjoo.kr/board/lists/rmboard?page={page_num}\")\n",
    "    time.sleep(random.randint(1,2))"
   ]
  },
  {
   "cell_type": "code",
   "execution_count": null,
   "metadata": {},
   "outputs": [],
   "source": [
    "def scroll_down() :\n",
    "    element = driver.find_element_by_tag_name('body')\n",
    "    element.send_keys(Keys.END)\n",
    "    element.send_keys(Keys.PAGE_DOWN)"
   ]
  },
  {
   "cell_type": "code",
   "execution_count": null,
   "metadata": {},
   "outputs": [],
   "source": [
    "# 2차 크롤링\n",
    "\n",
    "for url in tqdm(url2) :\n",
    "    driver.get(url)\n",
    "    print(url)\n",
    "    scroll_down()\n",
    "    time.sleep(1)\n",
    "\n",
    "    while True :\n",
    "\n",
    "        try :\n",
    "            scroll_down()\n",
    "            driver.find_element_by_class_name(\"more_btn\").click() \n",
    "        except :\n",
    "            break\n",
    "        \n",
    "        time.sleep(1)\n",
    "\n",
    "    html = driver.page_source\n",
    "    soup = BeautifulSoup(html, 'lxml')\n",
    "    \n",
    "    try :\n",
    "\n",
    "        text1 = soup.find('div', class_='bv_middle').text.strip()\n",
    "        print(text1)\n",
    "\n",
    "        com_box = soup.find('ul', id='boardCmtLists').find_all('li')\n",
    "\n",
    "        com_user1 = []\n",
    "        com_text1 = []\n",
    "        for com in com_box :\n",
    "            com_name = com.find('div', class_='mem_nick').text\n",
    "            com_text = com.find('div', class_='reply_cnt').text\n",
    "\n",
    "            if \"님에 의해 삭제된 글입니다.\" in com_text :\n",
    "                pass\n",
    "            else :\n",
    "                com_user1.append(com_name)\n",
    "                com_text1.append(f\"작성자 : {com_name} :: {com_text}\")\n",
    "    except :\n",
    "        print(\"비밀글입니다.\")\n",
    "        text1 = \"비밀글\"\n",
    "        com_user1 = []\n",
    "        com_text1 = []     \n",
    "\n",
    "    print(com_user1)\n",
    "    print(com_text1)\n",
    "    text2.append(text1)\n",
    "    com_user2.append(com_user1)\n",
    "    com_text2.append(com_text1)"
   ]
  },
  {
   "cell_type": "code",
   "execution_count": null,
   "metadata": {},
   "outputs": [],
   "source": [
    "df = pd.DataFrame()\n",
    "\n",
    "df['domain'] = pd.Series(domain2)\n",
    "# df['keyword'] = pd.Series(keyword2)\n",
    "df['title'] = pd.Series(title2)\n",
    "df['user_name'] = pd.Series(user2)\n",
    "df['url'] = pd.Series(url2)\n",
    "df['date'] = pd.Series(date2)\n",
    "df['user_text'] = pd.Series(text2)\n",
    "df['com_user'] = pd.Series(com_user2)\n",
    "df['com_text'] = pd.Series(com_text2)\n",
    "\n",
    "df"
   ]
  },
  {
   "cell_type": "code",
   "execution_count": null,
   "metadata": {},
   "outputs": [],
   "source": [
    "# for i in range(len(df)) :\n",
    "    \n",
    "#     try :\n",
    "#         len(df['user_text'][i])\n",
    "#         if len(df['title'][i]) > len(df['user_text'][i]) * 0.9:\n",
    "#             df['user_text'][i] = df['title'][i]\n",
    "#     except :\n",
    "#         df['user_text'][i] = df['title'][i]\n"
   ]
  },
  {
   "cell_type": "code",
   "execution_count": null,
   "metadata": {},
   "outputs": [],
   "source": [
    "df"
   ]
  },
  {
   "cell_type": "code",
   "execution_count": null,
   "metadata": {},
   "outputs": [],
   "source": [
    "# csv 형태로 저장하기\n",
    "df.to_csv(fc_name,encoding=\"utf-8-sig\",index=False)\n",
    "\n",
    "e_time = time.time( )\n",
    "t_time = e_time - s_time\n",
    "\n",
    "print(\"\\n\")\n",
    "print(\"=\" *80)\n",
    "print(\"1.총 소요시간은 %s 초 입니다 \" %round(t_time,1))\n",
    "print(\"2.파일 저장 완료: csv 파일명 : %s \" %fc_name)\n",
    "\n",
    "driver.quit()\n",
    "sys.exit(\"프로그램을 종료합니다.\")"
   ]
  }
 ],
 "metadata": {
  "kernelspec": {
   "display_name": "Python 3",
   "language": "python",
   "name": "python3"
  },
  "language_info": {
   "codemirror_mode": {
    "name": "ipython",
    "version": 3
   },
   "file_extension": ".py",
   "mimetype": "text/x-python",
   "name": "python",
   "nbconvert_exporter": "python",
   "pygments_lexer": "ipython3",
   "version": "3.8.6"
  }
 },
 "nbformat": 4,
 "nbformat_minor": 5
}
