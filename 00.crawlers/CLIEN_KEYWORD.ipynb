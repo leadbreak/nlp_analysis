{
 "cells": [
  {
   "cell_type": "code",
   "execution_count": 1,
   "id": "1048dadf",
   "metadata": {},
   "outputs": [],
   "source": [
    "# 필요한 모듈과 라이브러리를 로딩\n",
    "from bs4 import BeautifulSoup\n",
    "from selenium import webdriver\n",
    "from selenium.webdriver.support.ui import WebDriverWait\n",
    "from selenium.webdriver.common.by import By\n",
    "from selenium.webdriver.support import expected_conditions as EC\n",
    "from selenium.webdriver.common.keys import Keys\n",
    "import pandas as pd\n",
    "import time, os, math, random, sys, datetime\n",
    "from datetime import date, timedelta, datetime\n",
    "import pyautogui\n",
    "\n",
    "# chromedriver 자동 설치\n",
    "import chromedriver_autoinstaller\n",
    "\n",
    "from selenium.webdriver.common.action_chains import ActionChains\n"
   ]
  },
  {
   "cell_type": "code",
   "execution_count": 2,
   "id": "6aa34191",
   "metadata": {},
   "outputs": [
    {
     "name": "stdout",
     "output_type": "stream",
     "text": [
      "================================================================================\n",
      "         OPINION 크롤러입니다.\n",
      "================================================================================\n",
      "================================================================================\n",
      "데이터 크롤링을 시작합니다.\n",
      "================================================================================\n"
     ]
    }
   ],
   "source": [
    "print(\"=\" *80)\n",
    "print(\"         OPINION 크롤러입니다.\")\n",
    "print(\"=\" *80)\n",
    "\n",
    "f_dir = os.path.expanduser('~') + '\\\\Desktop\\\\crawler-bot\\\\' # 운영체제 상관없이 바탕화면 'crawler-bot' 폴더에 작업\n",
    "\n",
    "print(\"=\" *80)\n",
    "print(\"데이터 크롤링을 시작합니다.\")\n",
    "print(\"=\" *80)"
   ]
  },
  {
   "cell_type": "code",
   "execution_count": 3,
   "id": "036fd731",
   "metadata": {},
   "outputs": [
    {
     "name": "stdout",
     "output_type": "stream",
     "text": [
      "2021-05-12 2021-05-12\n"
     ]
    }
   ],
   "source": [
    "# 작업 시간과 고유 dir 등 생성\n",
    "n = time.localtime()\n",
    "s = '%04d-%02d-%02d' % (n.tm_year, n.tm_mon, n.tm_mday)\n",
    "s_time = time.time( )\n",
    "\n",
    "a = datetime.now()-timedelta(days=1)\n",
    "a = a.strftime('%Y-%m-%d')\n",
    "b = datetime.now()-timedelta(days=1)\n",
    "b = b.strftime('%Y-%m-%d')\n",
    "print(a, b)"
   ]
  },
  {
   "cell_type": "code",
   "execution_count": 4,
   "id": "6dc07ac0",
   "metadata": {},
   "outputs": [],
   "source": [
    "# 저장될 파일 경로와 이름을 지정\n",
    "# 파일을 저장할 폴더 위치를 만들고, 중복일 경우 해당 폴더를 삭제하고 새로 생성합니다.\n",
    "try : \n",
    "    os.makedirs(f_dir)\n",
    "except : pass\n",
    "else : \n",
    "    os.chdir(f_dir)\n",
    "\n",
    "fc_name=f_dir+'\\\\'+f'{b}-{a}_clien.csv'"
   ]
  },
  {
   "cell_type": "code",
   "execution_count": 5,
   "id": "febc427d",
   "metadata": {},
   "outputs": [],
   "source": [
    "# 크롤링 데이터가 들어갈 리스트 생성\n",
    "domain2 = []    # 크롤링 도메인\n",
    "keyword2 = []   # 크롤링 키워드\n",
    "title2 = []     # 게시물 제목\n",
    "user2 = []      # 게시물 작성자\n",
    "url2 = []       # 게시물 url\n",
    "time2 = []      # 게시물 작성 시간\n",
    "view_cnt2 = []  # 게시물 뷰 카운트\n",
    "like_cnt2 = []  # 추천/공감 카운트\n",
    "text2 = []      # 게시물 내용\n",
    "com_cnt2 = []   # 댓글 수\n",
    "com_user2 = []  # 댓글 user\n",
    "com_text2 = []  # 댓글 user_id & text"
   ]
  },
  {
   "cell_type": "code",
   "execution_count": 6,
   "id": "0b756ad7",
   "metadata": {},
   "outputs": [],
   "source": [
    "# chromedriver-autoinstaller 이용\n",
    "chromedriver_autoinstaller.install(cwd=True)\n",
    "\n",
    "# HEADLESS MODE\n",
    "options = webdriver.ChromeOptions()\n",
    "# options.add_argument('headless')\n",
    "options.add_argument('window-size=1920x1080') \n",
    "# options.add_argument(\"--disable-gpu\")\n",
    "options.add_experimental_option('excludeSwitches', ['enable-logging'])\n",
    "options.add_argument(\"user-agent=Mozilla/5.0 (Macintosh; Intel Mac OS X 10_12_6) AppleWebKit/537.36 (KHTML, like Gecko) Chrome/61.0.3163.100 Safari/537.36\")\n",
    "args = [\"hide_console\", ]\n",
    "\n",
    "# 알림창 끄기\n",
    "options.add_experimental_option(\"prefs\", {\"profile.default_content_setting_values.notifications\": 1})\n",
    "\n",
    "# 웹사이트 접속 후 해당 메뉴로 이동\n",
    "driver = webdriver.Chrome(options=options,service_args=args)\n",
    "driver.maximize_window()"
   ]
  },
  {
   "cell_type": "code",
   "execution_count": 7,
   "id": "851f10d7",
   "metadata": {},
   "outputs": [],
   "source": [
    "# 1. 클리앙 크롤링\n",
    "query_url= ('https://www.clien.net/service/board/park')\n",
    "\n",
    "driver.get(query_url)\n",
    "driver.implicitly_wait(5)"
   ]
  },
  {
   "cell_type": "code",
   "execution_count": 8,
   "id": "477196a2",
   "metadata": {},
   "outputs": [
    {
     "name": "stdout",
     "output_type": "stream",
     "text": [
      "========== 클리앙 크롤링 진행 중 ==========\n"
     ]
    }
   ],
   "source": [
    "domain1 = \"클리앙\"\n",
    "print(\"==========\",domain1,\"크롤링 진행 중 ==========\")"
   ]
  },
  {
   "cell_type": "code",
   "execution_count": 9,
   "id": "12967102",
   "metadata": {},
   "outputs": [
    {
     "name": "stdout",
     "output_type": "stream",
     "text": [
      "로그인을 진행합니다.\n"
     ]
    }
   ],
   "source": [
    "print(\"로그인을 진행합니다.\")\n",
    "\n",
    "tmp_id = \"ddive1041\"\n",
    "tmp_pw = \"q1w2e3r4!@\"\n",
    "\n",
    "# id 입력\n",
    "driver.find_element_by_xpath('//*[@id=\"loginForm\"]/input[2]').click()\n",
    "for i in tmp_id :\n",
    "    time.sleep(0.1)\n",
    "    driver.find_element_by_xpath('//*[@id=\"loginForm\"]/input[2]').send_keys(i)\n",
    "    \n",
    "# pw 입력    \n",
    "driver.find_element_by_xpath('//*[@id=\"loginForm\"]/input[3]').click()\n",
    "for j in tmp_pw :\n",
    "    time.sleep(0.1)\n",
    "    driver.find_element_by_xpath('//*[@id=\"loginForm\"]/input[3]').send_keys(j)\n",
    "    \n",
    "driver.find_element_by_xpath('//*[@id=\"loginForm\"]/div[1]/button').click()\n",
    "time.sleep(3)"
   ]
  },
  {
   "cell_type": "code",
   "execution_count": 10,
   "id": "cdf817fb",
   "metadata": {},
   "outputs": [],
   "source": [
    "keyword = \"이낙연\"  # 현재 크롤링 키워드\n",
    "page_num = 0        # 현재 페이지 넘버"
   ]
  },
  {
   "cell_type": "code",
   "execution_count": 11,
   "id": "8ef86b9c",
   "metadata": {},
   "outputs": [],
   "source": [
    "target_page = f\"https://www.clien.net/service/search/board/park?&sk=title&sv={keyword}&pt=0&po={page_num}\"\n",
    "driver.get(target_page)"
   ]
  },
  {
   "cell_type": "code",
   "execution_count": 12,
   "id": "2cbef83f",
   "metadata": {},
   "outputs": [],
   "source": [
    "html = driver.page_source\n",
    "soup = BeautifulSoup(html, 'html.parser')\n",
    "item_box = soup.find(name='div', attrs={'class':'list_content'})\n",
    "# item_box"
   ]
  },
  {
   "cell_type": "code",
   "execution_count": 13,
   "id": "bf94ffac",
   "metadata": {},
   "outputs": [
    {
     "name": "stdout",
     "output_type": "stream",
     "text": [
      "target_url : https://www.clien.net/service/board/park/16136738?po=0&sk=title&sv=%EC%9D%B4%EB%82%99%EC%97%B0&groupCd=&pt=0\n",
      "domain : 클리앙\n",
      "keyword : 이낙연\n",
      "title : 이낙연 vs 이재명\n",
      "user_id : 나의일기\n",
      "작성 시간 : 2021-05-12 14:46:27\n",
      "조회수 :  2599\n",
      "공감/좋아요 수 : 2\n",
      "게시물 내용 : 대선 캠프?같은 거 설립식이라는데, 양쪽 의원 수나 스팩에서 차이가 꽤 나네요.클리앙의 많은 분들이 싫어할만한 현상이지만,확실히 대권주자 여론과 다르게 민주당 내부에서는 이재명이 비주류인가 봅니다..\n",
      "댓글 수 : 15\n",
      "게시물 작성자 : ['나이트미라쥬', '써바이', '하얀기적', '대심문관', '세상에_없는_생각', '드립커피', '나의일기', '꼬마별사탕', 'tsohr', 'pmpon', '드립커피', '콜로서스', '호원', '콜로서스', '밥먹고놀자']\n",
      "게시물 댓글 : ['작성자 :나이트미라쥬 :: 백날 자기들끼리 저래봐야 내년 이맘때는 제대로 알게 되겠죠.', '작성자 :써바이 :: 사면 옆에 진짜 놀라운것들만 모아놨네요ㅋㅋㅋㅋㅋㅋ', '작성자 :하얀기적 :: @써바이님 놀랍고 재미있어요ㅋㅋ', '작성자 :대심문관 :: 누가 대선후보가 될 지...오늘 헛소리한 백혜련씨 위치가 참 절묘하네요.', '작성자 :세상에_없는_생각 :: 지들끼리... 이런 느낌이 납니다.', '작성자 :드립커피 :: 저런거 보면 확실히 민주당이 보수적 성향의 의원들이 많네요... 개혁 성향이 소수고...', '작성자 :나의일기 :: @드립커피님 애초에...민주당 자체가 좌파가 아니라서요.좌파쪽은 정의당이나 진보당으로 가기 때문에..반면 국힘은..', '작성자 :꼬마별사탕 :: @나의일기님 국힘은 매국이죠', '작성자 :tsohr :: 이재명 쪽에 최고위원이 단 한명도 없네요', '작성자 :pmpon :: 민주당도 똥통이라는걸 보여주는것뿐...', '작성자 :드립커피 :: 노웅래는 웬 뜬금포로 이재명한테??', '작성자 :콜로서스 :: 경선연기 주장하는 전재수는 명단에 없네요', '작성자 :호원 :: @콜로서스님 이광재 캠프로 알려져있습니다.', '작성자 :콜로서스 :: @호원님 헐 그런가요 ㄷㄷ', '작성자 :밥먹고놀자 :: 바로직전까지 당권잡고있었으니그래도 이재명쪽에 노무현문재인 진퉁인물들이 모여주는거보면 제대로 갈듯', '삭제된 댓글입니다.']\n",
      "\n",
      "\n",
      "target_url : https://www.clien.net/service/board/park/16136600?po=0&sk=title&sv=%EC%9D%B4%EB%82%99%EC%97%B0&groupCd=&pt=0\n",
      "domain : 클리앙\n",
      "keyword : 이낙연\n",
      "title : 이낙연은 더불어시민당 반대할때부터 싹수가 보이지 않았나요??\n",
      "user_id : 관양동아스날\n",
      "작성 시간 : 2021-05-12 13:49:23\n",
      "조회수 :  1105\n",
      "공감/좋아요 수 : 1\n",
      "게시물 내용 : 무슨 정도를 걸어야 국민들에게 다가갈 수 있다는 x소리를 하는데 친여 커뮤니티 대부분은 이낙연의 의견 이라고 감싸는데 아주 환장하겠더라구요 잘 모르는 제가 봐도 어떤 생각을 갖고 사는지 훤히 보이는데....그때 이낙연의 발언에 대해 비판하고 저에게 벌레라고 하시는분들도 계셨는데 그분들은 지금 어떤 생각을 하시는지 참 궁금합니다.\n",
      "댓글 수 : 9\n",
      "게시물 작성자 : ['키움화이팅', '관양동아스날', '김치치즈탕수육', '관양동아스날', '구라김', '지갱', '나옹', '키움화이팅', 'DW6900-1V']\n",
      "게시물 댓글 : ['작성자 :키움화이팅 :: 오늘도 이낙연 패는 글 올라오네요 그냥 냅두면 안되나요?? 민주당이나 대통령님이 이낙연 이렇게 까이는거 좋아할까요??', '작성자 :관양동아스날 :: @키움화이팅님 저는 다른글은 보지 못했구요. 이낙연에 대한 글을 올리는게 불편하신가요?', '작성자 :김치치즈탕수육 :: @관양동아스날님 다른 글 보세요. 그냥 어그로입니다https://www.clien.net/service/board/park/15851002CLIEN', '작성자 :관양동아스날 :: @키움화이팅님 저도 클리앙 어그로인데 만나서 한판붙으실래요??', '작성자 :구라김 :: @관양동아스날님 참으십쇼...  인터넷으로 화내실필요 없으십니다.', '작성자 :지갱 :: @키움화이팅님', '작성자 :나옹 :: @키움화이팅님', '작성자 :키움화이팅 :: @관양동아스날님 정치에 너무 목숨걸지마세요 ㅎㅎ 다똑같은 놈들입니다', '작성자 :DW6900-1V :: 이낙연이 더불어 시민당 반대했나요 ?몰라서요 .그리고 그 당시 당원,지지자 그룹 중에서는 자유당이 먼저 깼으니 민주당도 직계 비례 해야 한다는 소리도 있던걸로 기억하는데요 .근데 민주당 비례를 뒤로 보낼 줄은 몰랐네요...그리고 더불어 시민당 면면을 보면 초선애들중에 유난히 난리치는 애들 중에는 시민당쪽에서 온 분도 많고 ...']\n",
      "\n",
      "\n",
      "검색 키워드를 변경합니다.\n",
      "크롤링을 완료했습니다.\n"
     ]
    }
   ],
   "source": [
    "keyword = \"이낙연\"  # 현재 크롤링 키워드\n",
    "\n",
    "page_num = 0        # 현재 페이지 넘버\n",
    "while_code = 0\n",
    "\n",
    "while True :\n",
    "    \n",
    "    if while_code == 1:\n",
    "        break\n",
    "\n",
    "    target_page = f\"https://www.clien.net/service/search/board/park?&sk=title&sv={keyword}&pt=0&po={page_num}\"\n",
    "    driver.get(target_page)\n",
    "    time.sleep(1)\n",
    "\n",
    "    html = driver.page_source\n",
    "    soup = BeautifulSoup(html, 'html.parser')\n",
    "    item_box = soup.find(name='div', attrs={'class':'list_content'})\n",
    "\n",
    "    for i in item_box :\n",
    "        if len(i) > 1 :\n",
    "            target_day = b\n",
    "            post_day = i.find(name='span', attrs={'class':'timestamp'}).text.strip()\n",
    "            if post_day >= target_day :\n",
    "                target_url = \"https://www.clien.net\"+i.find(name='a', attrs={'class':'list_subject'})['href']\n",
    "                print(\"target_url :\", target_url)\n",
    "                driver.get(target_url)\n",
    "                time.sleep(1)\n",
    "                print(\"domain :\", domain1)\n",
    "                print(\"keyword :\", keyword)\n",
    "\n",
    "                post_html = driver.page_source\n",
    "                post_soup = BeautifulSoup(post_html, 'html.parser')\n",
    "                post_box = post_soup.find(name='div', attrs={'class':'content_view'})\n",
    "\n",
    "                # title\n",
    "                title1 = post_box.find(name='h3', attrs={'class':'post_subject'}).text.strip().split(\"\\n\")[0]     \n",
    "                print(\"title :\", title1)\n",
    "\n",
    "                # user_id\n",
    "                try : # user_id 가 text형태인 경우\n",
    "                    user1 = post_box.find(name='a', attrs={'class':'nickname'}).find('img')['alt']\n",
    "                except :\n",
    "                    user1 = post_box.find(name='a', attrs={'class':'nickname'}).text.strip()            \n",
    "                print(\"user_id :\", user1)\n",
    "\n",
    "                # time\n",
    "                time1 = post_box.find(name='div', attrs={'class':'post_author'}).find('span').text.strip()[:19]\n",
    "                print(\"작성 시간 :\", time1)\n",
    "\n",
    "\n",
    "                # view\n",
    "                view_cnt1 = post_box.find(name='span', attrs={'class':'view_count'}).text.replace(\"\\n\", \"\").replace(\",\",\"\")\n",
    "                print(\"조회수 :\", view_cnt1)\n",
    "\n",
    "                # like\n",
    "                try :\n",
    "                    like_cnt1 = post_box.find(name='div', attrs={'class':'post_title symph_row'}).find('div').text.strip()\n",
    "                except :\n",
    "                    like_cnt1 = 0\n",
    "                print(\"공감/좋아요 수 :\", like_cnt1)\n",
    "                \n",
    "                # text\n",
    "                text1 = post_box.find(name='div', attrs={'post_article'}).text.strip().replace(\"\\n\",\"\")\n",
    "                print('게시물 내용 :', text1) \n",
    "                \n",
    "                # com_cnt\n",
    "                try :                    \n",
    "                    com_cnt1 = post_box.find(name='h3', attrs={'class':'post_subject'}).text.strip().split(\"\\n\")[-1]\n",
    "                    com_cnt1 = int(com_cnt1)\n",
    "                except :\n",
    "                    com_cnt1 = 0\n",
    "                print(\"댓글 수 :\", com_cnt1)\n",
    "                \n",
    "                # com_text\n",
    "                com_box = post_box.find(name='div', attrs={'class':'comment'})\n",
    "                com_list = []\n",
    "                user_list = []\n",
    "\n",
    "                for j in com_box :\n",
    "                    \n",
    "                    if len(j) > 1 :  \n",
    "                        \n",
    "                        try :\n",
    "                            # comment_user_id\n",
    "                            try : # user_id 가 text형태인 경우\n",
    "                                com_user = j.find(name='a', attrs={'class':'nickname'}).find('img')['alt']\n",
    "                            except :\n",
    "                                com_user = j.find(name='a', attrs={'class':'nickname'}).text.strip()\n",
    "\n",
    "                        \n",
    "                            com_text = j.find(name='div', attrs={'class':'comment_content'}).text.strip().replace(\"\\n\",\"\")\n",
    "                            com_list.append(\"작성자 :\" + com_user + \" :: \" + com_text)\n",
    "                            user_list.append(com_user)\n",
    "                        except :\n",
    "                            com_list.append(\"삭제된 댓글입니다.\")\n",
    "                    \n",
    "                print(\"게시물 작성자 :\", user_list)\n",
    "                print('게시물 댓글 :', com_list)\n",
    "\n",
    "                domain2.append(domain1)\n",
    "                keyword2.append(keyword)\n",
    "                title2.append(title1)\n",
    "                user2.append(user1)\n",
    "                url2.append(target_url)\n",
    "                time2.append(time1)\n",
    "                view_cnt2.append(view_cnt1)\n",
    "                like_cnt2.append(like_cnt1)\n",
    "                text2.append(text1)\n",
    "                com_cnt2.append(com_cnt1)\n",
    "                com_user2.append(user_list)\n",
    "                com_text2.append(com_list)\n",
    "                \n",
    "                print(\"\\n\")\n",
    "\n",
    "\n",
    "            else :\n",
    "                if keyword == \"이낙연\" :   \n",
    "                    print(\"검색 키워드를 변경합니다.\")\n",
    "                    keyword = \"이재명\"\n",
    "                    page_num = 0\n",
    "                    break\n",
    "                else :\n",
    "                    print(\"크롤링을 완료했습니다.\")\n",
    "                    while_code = 1\n",
    "                    break\n",
    "        \n",
    "    page_num += 1\n"
   ]
  },
  {
   "cell_type": "code",
   "execution_count": 14,
   "id": "ab6449b0",
   "metadata": {
    "scrolled": true
   },
   "outputs": [
    {
     "data": {
      "text/html": [
       "<div>\n",
       "<style scoped>\n",
       "    .dataframe tbody tr th:only-of-type {\n",
       "        vertical-align: middle;\n",
       "    }\n",
       "\n",
       "    .dataframe tbody tr th {\n",
       "        vertical-align: top;\n",
       "    }\n",
       "\n",
       "    .dataframe thead th {\n",
       "        text-align: right;\n",
       "    }\n",
       "</style>\n",
       "<table border=\"1\" class=\"dataframe\">\n",
       "  <thead>\n",
       "    <tr style=\"text-align: right;\">\n",
       "      <th></th>\n",
       "      <th>domain</th>\n",
       "      <th>keyword</th>\n",
       "      <th>title</th>\n",
       "      <th>writer</th>\n",
       "      <th>url</th>\n",
       "      <th>DATE</th>\n",
       "      <th>view_cnt</th>\n",
       "      <th>like_cnt</th>\n",
       "      <th>user_text</th>\n",
       "      <th>com_cnt</th>\n",
       "      <th>com_text</th>\n",
       "    </tr>\n",
       "  </thead>\n",
       "  <tbody>\n",
       "    <tr>\n",
       "      <th>0</th>\n",
       "      <td>클리앙</td>\n",
       "      <td>이낙연</td>\n",
       "      <td>이낙연 vs 이재명</td>\n",
       "      <td>나의일기</td>\n",
       "      <td>https://www.clien.net/service/board/park/16136...</td>\n",
       "      <td>2021-05-12 14:46:27</td>\n",
       "      <td>2599</td>\n",
       "      <td>2</td>\n",
       "      <td>대선 캠프?같은 거 설립식이라는데, 양쪽 의원 수나 스팩에서 차이가 꽤 나네요.클리...</td>\n",
       "      <td>15</td>\n",
       "      <td>[작성자 :나이트미라쥬 :: 백날 자기들끼리 저래봐야 내년 이맘때는 제대로 알게 되...</td>\n",
       "    </tr>\n",
       "    <tr>\n",
       "      <th>1</th>\n",
       "      <td>클리앙</td>\n",
       "      <td>이낙연</td>\n",
       "      <td>이낙연은 더불어시민당 반대할때부터 싹수가 보이지 않았나요??</td>\n",
       "      <td>관양동아스날</td>\n",
       "      <td>https://www.clien.net/service/board/park/16136...</td>\n",
       "      <td>2021-05-12 13:49:23</td>\n",
       "      <td>1105</td>\n",
       "      <td>1</td>\n",
       "      <td>무슨 정도를 걸어야 국민들에게 다가갈 수 있다는 x소리를 하는데 친여 커뮤니티 대부...</td>\n",
       "      <td>9</td>\n",
       "      <td>[작성자 :키움화이팅 :: 오늘도 이낙연 패는 글 올라오네요 그냥 냅두면 안되나요?...</td>\n",
       "    </tr>\n",
       "  </tbody>\n",
       "</table>\n",
       "</div>"
      ],
      "text/plain": [
       "  domain keyword                              title  writer  \\\n",
       "0    클리앙     이낙연                         이낙연 vs 이재명    나의일기   \n",
       "1    클리앙     이낙연  이낙연은 더불어시민당 반대할때부터 싹수가 보이지 않았나요??  관양동아스날   \n",
       "\n",
       "                                                 url                 DATE  \\\n",
       "0  https://www.clien.net/service/board/park/16136...  2021-05-12 14:46:27   \n",
       "1  https://www.clien.net/service/board/park/16136...  2021-05-12 13:49:23   \n",
       "\n",
       "  view_cnt like_cnt                                          user_text  \\\n",
       "0     2599        2  대선 캠프?같은 거 설립식이라는데, 양쪽 의원 수나 스팩에서 차이가 꽤 나네요.클리...   \n",
       "1     1105        1  무슨 정도를 걸어야 국민들에게 다가갈 수 있다는 x소리를 하는데 친여 커뮤니티 대부...   \n",
       "\n",
       "   com_cnt                                           com_text  \n",
       "0       15  [작성자 :나이트미라쥬 :: 백날 자기들끼리 저래봐야 내년 이맘때는 제대로 알게 되...  \n",
       "1        9  [작성자 :키움화이팅 :: 오늘도 이낙연 패는 글 올라오네요 그냥 냅두면 안되나요?...  "
      ]
     },
     "execution_count": 14,
     "metadata": {},
     "output_type": "execute_result"
    }
   ],
   "source": [
    "df = pd.DataFrame()\n",
    "\n",
    "df['domain'] = pd.Series(domain2)\n",
    "df['keyword'] = pd.Series(keyword2)\n",
    "df['title'] = pd.Series(title2)\n",
    "df['user_name'] = pd.Series(user2)\n",
    "df['url'] = pd.Series(url2)\n",
    "df['date'] = pd.Series(time2)\n",
    "df['view_cnt'] = pd.Series(view_cnt2)\n",
    "df['like_cnt'] = pd.Series(like_cnt2)\n",
    "df['user_text'] = pd.Series(text2)\n",
    "df['com_cnt'] = pd.Series(com_cnt2)\n",
    "df['com_text'] = pd.Series(com_text2)\n",
    "\n",
    "df"
   ]
  },
  {
   "cell_type": "code",
   "execution_count": 15,
   "id": "7f243c60",
   "metadata": {},
   "outputs": [],
   "source": [
    "for i in range(len(df)) :\n",
    "    if len(df['user_text'][i]) < 5 :\n",
    "        df['user_text'][i] = df['title'][i]"
   ]
  },
  {
   "cell_type": "code",
   "execution_count": 16,
   "id": "7721b440",
   "metadata": {},
   "outputs": [
    {
     "name": "stdout",
     "output_type": "stream",
     "text": [
      "\n",
      "\n",
      "================================================================================\n",
      "1.총 소요시간은 48.3 초 입니다 \n",
      "2.파일 저장 완료: csv 파일명 : C:\\Users\\JPARK-02\\Desktop\\crawler-bot\\\\2021-05-12-2021-05-12_clien.csv \n"
     ]
    },
    {
     "ename": "SystemExit",
     "evalue": "프로그램을 종료합니다.",
     "output_type": "error",
     "traceback": [
      "An exception has occurred, use %tb to see the full traceback.\n",
      "\u001b[1;31mSystemExit\u001b[0m\u001b[1;31m:\u001b[0m 프로그램을 종료합니다.\n"
     ]
    },
    {
     "name": "stderr",
     "output_type": "stream",
     "text": [
      "c:\\python39\\lib\\site-packages\\IPython\\core\\interactiveshell.py:3449: UserWarning: To exit: use 'exit', 'quit', or Ctrl-D.\n",
      "  warn(\"To exit: use 'exit', 'quit', or Ctrl-D.\", stacklevel=1)\n"
     ]
    }
   ],
   "source": [
    "# csv 형태로 저장하기\n",
    "df.to_csv(fc_name,encoding=\"utf-8-sig\",index=False)\n",
    "\n",
    "e_time = time.time( )\n",
    "t_time = e_time - s_time\n",
    "\n",
    "print(\"\\n\")\n",
    "print(\"=\" *80)\n",
    "print(\"1.총 소요시간은 %s 초 입니다 \" %round(t_time,1))\n",
    "print(\"2.파일 저장 완료: csv 파일명 : %s \" %fc_name)\n",
    "\n",
    "driver.quit()\n",
    "sys.exit(\"프로그램을 종료합니다.\")"
   ]
  },
  {
   "cell_type": "code",
   "execution_count": null,
   "id": "d74e6f2d",
   "metadata": {},
   "outputs": [],
   "source": []
  }
 ],
 "metadata": {
  "kernelspec": {
   "display_name": "Python 3",
   "language": "python",
   "name": "python3"
  },
  "language_info": {
   "codemirror_mode": {
    "name": "ipython",
    "version": 3
   },
   "file_extension": ".py",
   "mimetype": "text/x-python",
   "name": "python",
   "nbconvert_exporter": "python",
   "pygments_lexer": "ipython3",
   "version": "3.8.10"
  }
 },
 "nbformat": 4,
 "nbformat_minor": 5
}
