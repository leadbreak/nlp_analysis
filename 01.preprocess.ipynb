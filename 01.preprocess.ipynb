{
 "cells": [
  {
   "cell_type": "code",
   "execution_count": 2,
   "metadata": {},
   "outputs": [],
   "source": [
    "import pandas as pd"
   ]
  },
  {
   "cell_type": "code",
   "execution_count": 3,
   "metadata": {},
   "outputs": [
    {
     "data": {
      "text/html": [
       "<div>\n",
       "<style scoped>\n",
       "    .dataframe tbody tr th:only-of-type {\n",
       "        vertical-align: middle;\n",
       "    }\n",
       "\n",
       "    .dataframe tbody tr th {\n",
       "        vertical-align: top;\n",
       "    }\n",
       "\n",
       "    .dataframe thead th {\n",
       "        text-align: right;\n",
       "    }\n",
       "</style>\n",
       "<table border=\"1\" class=\"dataframe\">\n",
       "  <thead>\n",
       "    <tr style=\"text-align: right;\">\n",
       "      <th></th>\n",
       "      <th>title</th>\n",
       "      <th>cleanBody</th>\n",
       "      <th>category</th>\n",
       "    </tr>\n",
       "  </thead>\n",
       "  <tbody>\n",
       "    <tr>\n",
       "      <th>0</th>\n",
       "      <td>\"아시안 증오를 멈춰라\"…미 전역서 규탄·추모 시위</td>\n",
       "      <td>[앵커] 애틀랜타 총격 사건으로 미국 시민들은 또한번 거리로 나왔습니다. 슬프고, ...</td>\n",
       "      <td>international</td>\n",
       "    </tr>\n",
       "    <tr>\n",
       "      <th>1</th>\n",
       "      <td>한인 4명 신원 공개…희생자 아들 \"명백한 증오범죄\"</td>\n",
       "      <td>[앵커] 이번 사건에서 희생된 한인 4명의 신원이 사흘 만에 공개됐습니다. 유가족과...</td>\n",
       "      <td>international</td>\n",
       "    </tr>\n",
       "    <tr>\n",
       "      <th>2</th>\n",
       "      <td>오늘(12일) 소상공인 버팀목자금 '짝수' 신청날…13일부터 모두 신청</td>\n",
       "      <td>12일 오전 8시부터 '버팀목자금.kr'을 통해 짝수 소상공인들로부터 버팀목자금 신...</td>\n",
       "      <td>economy</td>\n",
       "    </tr>\n",
       "    <tr>\n",
       "      <th>3</th>\n",
       "      <td>\"노래방에서 혼자 노래 중입니다\"…새벽에도 들어온 '버팀목자금'</td>\n",
       "      <td>11일 오후 서울 황학동 중앙시장 중고가전제품 판매점에 진열된 TV에서 문재인 대통...</td>\n",
       "      <td>economy</td>\n",
       "    </tr>\n",
       "    <tr>\n",
       "      <th>4</th>\n",
       "      <td>'실종 2주째' 고양시 발달장애인 점퍼 한강서 발견</td>\n",
       "      <td>'실종 2주째' 고양시 발달장애인 점퍼 한강서 발견 경기 고양시 행주산성둘레길에서 ...</td>\n",
       "      <td>society</td>\n",
       "    </tr>\n",
       "    <tr>\n",
       "      <th>...</th>\n",
       "      <td>...</td>\n",
       "      <td>...</td>\n",
       "      <td>...</td>\n",
       "    </tr>\n",
       "    <tr>\n",
       "      <th>3133</th>\n",
       "      <td>日코로나 신규확진 600명…\"인슐린주사기로 백신1병에 7회\"</td>\n",
       "      <td>일본 수도권 일부 지역에 신종 코로나바이러스 감염증(코로나19) 긴급사태가 발령 중...</td>\n",
       "      <td>society</td>\n",
       "    </tr>\n",
       "    <tr>\n",
       "      <th>3134</th>\n",
       "      <td>[슬라이드 뉴스] 이지은 누구? '금홍아 금홍아'로 신인상 휩쓴 '청춘스타'</td>\n",
       "      <td>숨진 채 발견된 배우 이지은에 대해 관심이 쏠리고 있다. 1971년생인 이지은은 1...</td>\n",
       "      <td>entertain</td>\n",
       "    </tr>\n",
       "    <tr>\n",
       "      <th>3135</th>\n",
       "      <td>文 “검찰 공정성 신뢰 나아지지 않아… 기소·수사권 분리, 나아가야 할 방향”</td>\n",
       "      <td>문재인 캐리커처 문재인(얼굴) 대통령은 8일 \"기소권과 수사권 분리는 앞으로도 꾸준...</td>\n",
       "      <td>politics</td>\n",
       "    </tr>\n",
       "    <tr>\n",
       "      <th>3136</th>\n",
       "      <td>中, '백신여권' 도입에 \"편리한 인원왕래 요구 절실\"</td>\n",
       "      <td>[서울=뉴시스] 중국 외교부가 '중국판 백신 여권'에 대해 추가적인 설명을 내놓았다...</td>\n",
       "      <td>international</td>\n",
       "    </tr>\n",
       "    <tr>\n",
       "      <th>3137</th>\n",
       "      <td>獨 여당 의원, 중국산 마스크 중개수수료 꿀꺽…메르켈에 부담 [인더머니]</td>\n",
       "      <td>[AP] 앙겔라 메르켈 독일 총리가 소속된 기독민주당(CDU)·기독사회당(CSU) ...</td>\n",
       "      <td>international</td>\n",
       "    </tr>\n",
       "  </tbody>\n",
       "</table>\n",
       "<p>3138 rows × 3 columns</p>\n",
       "</div>"
      ],
      "text/plain": [
       "                                            title  \\\n",
       "0                    \"아시안 증오를 멈춰라\"…미 전역서 규탄·추모 시위   \n",
       "1                   한인 4명 신원 공개…희생자 아들 \"명백한 증오범죄\"   \n",
       "2         오늘(12일) 소상공인 버팀목자금 '짝수' 신청날…13일부터 모두 신청   \n",
       "3             \"노래방에서 혼자 노래 중입니다\"…새벽에도 들어온 '버팀목자금'   \n",
       "4                    '실종 2주째' 고양시 발달장애인 점퍼 한강서 발견   \n",
       "...                                           ...   \n",
       "3133            日코로나 신규확진 600명…\"인슐린주사기로 백신1병에 7회\"   \n",
       "3134   [슬라이드 뉴스] 이지은 누구? '금홍아 금홍아'로 신인상 휩쓴 '청춘스타'   \n",
       "3135  文 “검찰 공정성 신뢰 나아지지 않아… 기소·수사권 분리, 나아가야 할 방향”   \n",
       "3136               中, '백신여권' 도입에 \"편리한 인원왕래 요구 절실\"   \n",
       "3137     獨 여당 의원, 중국산 마스크 중개수수료 꿀꺽…메르켈에 부담 [인더머니]   \n",
       "\n",
       "                                              cleanBody       category  \n",
       "0     [앵커] 애틀랜타 총격 사건으로 미국 시민들은 또한번 거리로 나왔습니다. 슬프고, ...  international  \n",
       "1     [앵커] 이번 사건에서 희생된 한인 4명의 신원이 사흘 만에 공개됐습니다. 유가족과...  international  \n",
       "2     12일 오전 8시부터 '버팀목자금.kr'을 통해 짝수 소상공인들로부터 버팀목자금 신...        economy  \n",
       "3     11일 오후 서울 황학동 중앙시장 중고가전제품 판매점에 진열된 TV에서 문재인 대통...        economy  \n",
       "4     '실종 2주째' 고양시 발달장애인 점퍼 한강서 발견 경기 고양시 행주산성둘레길에서 ...        society  \n",
       "...                                                 ...            ...  \n",
       "3133  일본 수도권 일부 지역에 신종 코로나바이러스 감염증(코로나19) 긴급사태가 발령 중...        society  \n",
       "3134  숨진 채 발견된 배우 이지은에 대해 관심이 쏠리고 있다. 1971년생인 이지은은 1...      entertain  \n",
       "3135  문재인 캐리커처 문재인(얼굴) 대통령은 8일 \"기소권과 수사권 분리는 앞으로도 꾸준...       politics  \n",
       "3136  [서울=뉴시스] 중국 외교부가 '중국판 백신 여권'에 대해 추가적인 설명을 내놓았다...  international  \n",
       "3137  [AP] 앙겔라 메르켈 독일 총리가 소속된 기독민주당(CDU)·기독사회당(CSU) ...  international  \n",
       "\n",
       "[3138 rows x 3 columns]"
      ]
     },
     "execution_count": 3,
     "metadata": {},
     "output_type": "execute_result"
    }
   ],
   "source": [
    "train = pd.read_csv(\"train_data.csv\")\n",
    "test = pd.read_csv(\"test_data.csv\")\n",
    "data = pd.concat([train, test], ignore_index=True)\n",
    "\n",
    "data"
   ]
  },
  {
   "cell_type": "code",
   "execution_count": 4,
   "metadata": {},
   "outputs": [],
   "source": [
    "data.to_csv(\"data.csv\", index=False, encoding='utf-8-sig')"
   ]
  },
  {
   "cell_type": "code",
   "execution_count": 6,
   "metadata": {},
   "outputs": [
    {
     "data": {
      "text/plain": [
       "array(['international', 'economy', 'society', 'sport', 'it', 'politics',\n",
       "       'entertain', 'culture'], dtype=object)"
      ]
     },
     "execution_count": 6,
     "metadata": {},
     "output_type": "execute_result"
    }
   ],
   "source": [
    "data['category'].unique()"
   ]
  }
 ],
 "metadata": {
  "kernelspec": {
   "display_name": "Python 3.11.0 64-bit",
   "language": "python",
   "name": "python3"
  },
  "language_info": {
   "codemirror_mode": {
    "name": "ipython",
    "version": 3
   },
   "file_extension": ".py",
   "mimetype": "text/x-python",
   "name": "python",
   "nbconvert_exporter": "python",
   "pygments_lexer": "ipython3",
   "version": "3.11.0"
  },
  "orig_nbformat": 4,
  "vscode": {
   "interpreter": {
    "hash": "c261aea317cc0286b3b3261fbba9abdec21eaa57589985bb7a274bf54d6cc0a7"
   }
  }
 },
 "nbformat": 4,
 "nbformat_minor": 2
}
