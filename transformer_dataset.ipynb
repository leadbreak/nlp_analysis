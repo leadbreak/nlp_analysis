{
 "cells": [
  {
   "cell_type": "code",
   "execution_count": 56,
   "metadata": {},
   "outputs": [
    {
     "name": "stdout",
     "output_type": "stream",
     "text": [
      "Requirement already satisfied: pip in /usr/local/lib/python3.8/dist-packages (22.3.1)\n",
      "\u001b[33mWARNING: Running pip as the 'root' user can result in broken permissions and conflicting behaviour with the system package manager. It is recommended to use a virtual environment instead: https://pip.pypa.io/warnings/venv\u001b[0m\u001b[33m\n",
      "\u001b[0m"
     ]
    }
   ],
   "source": [
    "!python3 -m pip install --upgrade pip"
   ]
  },
  {
   "cell_type": "code",
   "execution_count": 57,
   "metadata": {},
   "outputs": [
    {
     "name": "stdout",
     "output_type": "stream",
     "text": [
      "Requirement already satisfied: sentencepiece in /usr/local/lib/python3.8/dist-packages (0.1.97)\n",
      "\u001b[33mWARNING: Running pip as the 'root' user can result in broken permissions and conflicting behaviour with the system package manager. It is recommended to use a virtual environment instead: https://pip.pypa.io/warnings/venv\u001b[0m\u001b[33m\n",
      "\u001b[0m"
     ]
    }
   ],
   "source": [
    "!pip install sentencepiece"
   ]
  },
  {
   "cell_type": "code",
   "execution_count": 58,
   "metadata": {},
   "outputs": [],
   "source": [
    "DATASET_PATH = './data.csv'"
   ]
  },
  {
   "cell_type": "code",
   "execution_count": 59,
   "metadata": {},
   "outputs": [],
   "source": [
    "import pandas as pd\n",
    "import numpy as np"
   ]
  },
  {
   "cell_type": "code",
   "execution_count": 60,
   "metadata": {},
   "outputs": [
    {
     "data": {
      "text/html": [
       "<div>\n",
       "<style scoped>\n",
       "    .dataframe tbody tr th:only-of-type {\n",
       "        vertical-align: middle;\n",
       "    }\n",
       "\n",
       "    .dataframe tbody tr th {\n",
       "        vertical-align: top;\n",
       "    }\n",
       "\n",
       "    .dataframe thead th {\n",
       "        text-align: right;\n",
       "    }\n",
       "</style>\n",
       "<table border=\"1\" class=\"dataframe\">\n",
       "  <thead>\n",
       "    <tr style=\"text-align: right;\">\n",
       "      <th></th>\n",
       "      <th>title</th>\n",
       "      <th>cleanBody</th>\n",
       "      <th>category</th>\n",
       "    </tr>\n",
       "  </thead>\n",
       "  <tbody>\n",
       "    <tr>\n",
       "      <th>0</th>\n",
       "      <td>\"아시안 증오를 멈춰라\"…미 전역서 규탄·추모 시위</td>\n",
       "      <td>[앵커] 애틀랜타 총격 사건으로 미국 시민들은 또한번 거리로 나왔습니다. 슬프고, ...</td>\n",
       "      <td>international</td>\n",
       "    </tr>\n",
       "    <tr>\n",
       "      <th>1</th>\n",
       "      <td>한인 4명 신원 공개…희생자 아들 \"명백한 증오범죄\"</td>\n",
       "      <td>[앵커] 이번 사건에서 희생된 한인 4명의 신원이 사흘 만에 공개됐습니다. 유가족과...</td>\n",
       "      <td>international</td>\n",
       "    </tr>\n",
       "    <tr>\n",
       "      <th>2</th>\n",
       "      <td>오늘(12일) 소상공인 버팀목자금 '짝수' 신청날…13일부터 모두 신청</td>\n",
       "      <td>12일 오전 8시부터 '버팀목자금.kr'을 통해 짝수 소상공인들로부터 버팀목자금 신...</td>\n",
       "      <td>economy</td>\n",
       "    </tr>\n",
       "    <tr>\n",
       "      <th>3</th>\n",
       "      <td>\"노래방에서 혼자 노래 중입니다\"…새벽에도 들어온 '버팀목자금'</td>\n",
       "      <td>11일 오후 서울 황학동 중앙시장 중고가전제품 판매점에 진열된 TV에서 문재인 대통...</td>\n",
       "      <td>economy</td>\n",
       "    </tr>\n",
       "    <tr>\n",
       "      <th>4</th>\n",
       "      <td>'실종 2주째' 고양시 발달장애인 점퍼 한강서 발견</td>\n",
       "      <td>'실종 2주째' 고양시 발달장애인 점퍼 한강서 발견 경기 고양시 행주산성둘레길에서 ...</td>\n",
       "      <td>society</td>\n",
       "    </tr>\n",
       "  </tbody>\n",
       "</table>\n",
       "</div>"
      ],
      "text/plain": [
       "                                     title  \\\n",
       "0             \"아시안 증오를 멈춰라\"…미 전역서 규탄·추모 시위   \n",
       "1            한인 4명 신원 공개…희생자 아들 \"명백한 증오범죄\"   \n",
       "2  오늘(12일) 소상공인 버팀목자금 '짝수' 신청날…13일부터 모두 신청   \n",
       "3      \"노래방에서 혼자 노래 중입니다\"…새벽에도 들어온 '버팀목자금'   \n",
       "4             '실종 2주째' 고양시 발달장애인 점퍼 한강서 발견   \n",
       "\n",
       "                                           cleanBody       category  \n",
       "0  [앵커] 애틀랜타 총격 사건으로 미국 시민들은 또한번 거리로 나왔습니다. 슬프고, ...  international  \n",
       "1  [앵커] 이번 사건에서 희생된 한인 4명의 신원이 사흘 만에 공개됐습니다. 유가족과...  international  \n",
       "2  12일 오전 8시부터 '버팀목자금.kr'을 통해 짝수 소상공인들로부터 버팀목자금 신...        economy  \n",
       "3  11일 오후 서울 황학동 중앙시장 중고가전제품 판매점에 진열된 TV에서 문재인 대통...        economy  \n",
       "4  '실종 2주째' 고양시 발달장애인 점퍼 한강서 발견 경기 고양시 행주산성둘레길에서 ...        society  "
      ]
     },
     "execution_count": 60,
     "metadata": {},
     "output_type": "execute_result"
    }
   ],
   "source": [
    "df = pd.read_csv(DATASET_PATH)\n",
    "df.head()"
   ]
  },
  {
   "cell_type": "code",
   "execution_count": 61,
   "metadata": {},
   "outputs": [
    {
     "data": {
      "text/plain": [
       "<AxesSubplot:>"
      ]
     },
     "execution_count": 61,
     "metadata": {},
     "output_type": "execute_result"
    },
    {
     "data": {
      "image/png": "[encoded data removed]",
      "text/plain": [
       "<Figure size 432x288 with 1 Axes>"
      ]
     },
     "metadata": {
      "needs_background": "light"
     },
     "output_type": "display_data"
    }
   ],
   "source": [
    "df['category'].hist()"
   ]
  },
  {
   "cell_type": "code",
   "execution_count": 62,
   "metadata": {},
   "outputs": [
    {
     "data": {
      "text/plain": [
       "<AxesSubplot:>"
      ]
     },
     "execution_count": 62,
     "metadata": {},
     "output_type": "execute_result"
    },
    {
     "data": {
      "image/png": "[encoded data removed]",
      "text/plain": [
       "<Figure size 432x288 with 1 Axes>"
      ]
     },
     "metadata": {
      "needs_background": "light"
     },
     "output_type": "display_data"
    }
   ],
   "source": [
    "df['title'].str.len().hist()"
   ]
  },
  {
   "cell_type": "code",
   "execution_count": 63,
   "metadata": {},
   "outputs": [
    {
     "data": {
      "text/plain": [
       "<AxesSubplot:>"
      ]
     },
     "execution_count": 63,
     "metadata": {},
     "output_type": "execute_result"
    },
    {
     "data": {
      "image/png": "[encoded data removed]",
      "text/plain": [
       "<Figure size 432x288 with 1 Axes>"
      ]
     },
     "metadata": {
      "needs_background": "light"
     },
     "output_type": "display_data"
    }
   ],
   "source": [
    "df['cleanBody'].str.len().hist()"
   ]
  },
  {
   "cell_type": "code",
   "execution_count": 64,
   "metadata": {},
   "outputs": [
    {
     "data": {
      "text/plain": [
       "['\"아시안 증오를 멈춰라\"…미 전역서 규탄·추모 시위',\n",
       " '한인 4명 신원 공개…희생자 아들 \"명백한 증오범죄\"',\n",
       " \"오늘(12일) 소상공인 버팀목자금 '짝수' 신청날…13일부터 모두 신청\",\n",
       " '\"노래방에서 혼자 노래 중입니다\"…새벽에도 들어온 \\'버팀목자금\\'',\n",
       " \"'실종 2주째' 고양시 발달장애인 점퍼 한강서 발견\",\n",
       " '공군부대, 125만원 치킨먹고 환불에 별점 테러 의혹',\n",
       " \"'치킨 125만 원' 환불 받은 공군부대가 남긴 별점\",\n",
       " '키움 이정후, 김하성 넘었다…5억5천만원 5년차 최고연봉 경신',\n",
       " \"2021 KLPGA투어, 총31개 대회 '역대최고 총상금 280억원' 확정\",\n",
       " \"기관vs개미 대혈투에 증시는 '빅뱅'...개미 한달 치 화력 하루에 몰빵\"]"
      ]
     },
     "execution_count": 64,
     "metadata": {},
     "output_type": "execute_result"
    }
   ],
   "source": [
    "ko_train = df['title'].tolist()\n",
    "ko_train[:10]"
   ]
  },
  {
   "cell_type": "code",
   "execution_count": 65,
   "metadata": {},
   "outputs": [
    {
     "name": "stdout",
     "output_type": "stream",
     "text": [
      "3138 3138\n"
     ]
    }
   ],
   "source": [
    "category = df['category'].tolist()\n",
    "bodytext = df['cleanBody'].tolist()\n",
    "print(len(category), len(bodytext))"
   ]
  },
  {
   "cell_type": "code",
   "execution_count": 66,
   "metadata": {},
   "outputs": [],
   "source": [
    "import torch\n",
    "import torch.nn as nn\n",
    "import torch.nn.functional as F\n",
    "from torch.utils.data import Dataset, DataLoader\n",
    "\n",
    "import pandas as pd\n",
    "import numpy as np\n",
    "\n",
    "import sentencepiece as spm\n",
    "\n",
    "from sklearn.metrics import mean_squared_error\n",
    "from sklearn.model_selection import train_test_split\n",
    "import joblib\n",
    "import os"
   ]
  },
  {
   "cell_type": "code",
   "execution_count": 67,
   "metadata": {},
   "outputs": [],
   "source": [
    "with open('src.txt', mode='w', encoding='utf-8-sig') as f :\n",
    "    f.write('\\n'.join(df['title']))\n",
    "with open('src2.txt', mode='w', encoding='utf-8-sig') as f :\n",
    "    f.write('\\n'.join(df['cleanBody']))\n",
    "with open('trg.txt', mode='w', encoding='utf-8-sig') as f :\n",
    "    f.write('\\n'.join(df['category']))"
   ]
  },
  {
   "cell_type": "code",
   "execution_count": 68,
   "metadata": {},
   "outputs": [
    {
     "data": {
      "text/plain": [
       "15"
      ]
     },
     "execution_count": 68,
     "metadata": {},
     "output_type": "execute_result"
    }
   ],
   "source": [
    "max(df['title'].str.split().str.len())"
   ]
  },
  {
   "cell_type": "code",
   "execution_count": 69,
   "metadata": {},
   "outputs": [
    {
     "data": {
      "text/plain": [
       "60"
      ]
     },
     "execution_count": 69,
     "metadata": {},
     "output_type": "execute_result"
    }
   ],
   "source": [
    "max(df['title'].str.len())"
   ]
  },
  {
   "cell_type": "code",
   "execution_count": 70,
   "metadata": {},
   "outputs": [],
   "source": [
    "# 문장 토큰화 - title\n",
    "\n",
    "corpus = 'src.txt'\n",
    "prefix = 'src'\n",
    "\n",
    "VOCAB_SIZE = 15*100*8\n",
    "SEQ_LEN = 60*2\n",
    "\n",
    "spm.SentencePieceTrainer.train(\n",
    "    f\"--input={corpus} --model_prefix={prefix} --vocab_size={VOCAB_SIZE}\" +\n",
    "    \" --model_type=bpe\" + \n",
    "    f\" --max_sentence_length={SEQ_LEN}\" +\n",
    "    \" --pad_id=0 --pad_piece=[PAD]\" +\n",
    "    \" --unk_id=1 --unk_piece=[UNK]\" +\n",
    "    \" --bos_id=2 --bos_piece=[BOS]\" +\n",
    "    \" --eos_id=3 --eos_piece=[EOS]\" +\n",
    "    \" --user_defined_symbols=[SEP],[CLS],[MASK]\"\n",
    ")"
   ]
  },
  {
   "cell_type": "code",
   "execution_count": 71,
   "metadata": {},
   "outputs": [
    {
     "name": "stdout",
     "output_type": "stream",
     "text": [
      "\"아시안 증오를 멈춰라\"…미 전역서 규탄·추모 시위\n",
      "['▁\"', '아', '시안', '▁증오를', '▁멈춰', '라', '\"...', '미', '▁전역서', '▁규탄', '·', '추', '모', '▁시위']\n",
      "[10, 10872, 4844, 8755, 5078, 10911, 62, 10900, 8004, 2614, 10857, 10948, 10959, 1092]\n",
      "한인 4명 신원 공개…희생자 아들 \"명백한 증오범죄\"\n",
      "['▁한인', '▁4', '명', '▁신', '원', '▁공개', '...', '희', '생', '자', '▁아들', '▁\"', '명', '백', '한', '▁증오범죄', '\"']\n",
      "[5595, 56, 10859, 39, 10854, 190, 8, 11121, 10978, 10860, 980, 10, 10859, 10946, 10868, 6983, 10833]\n",
      "오늘(12일) 소상공인 버팀목자금 '짝수' 신청날…13일부터 모두 신청\n",
      "['▁오늘', '(12', '일', ')', '▁소상공인', '▁버팀목자금', \"▁'\", '짝', '수', \"'\", '▁신청', '날', '...1', '3', '일부터', '▁모두', '▁신청']\n",
      "[149, 8207, 10880, 10981, 2273, 4170, 9, 11510, 10848, 10834, 601, 11119, 469, 10881, 707, 554, 601]\n"
     ]
    }
   ],
   "source": [
    "# 정수화\n",
    "sp_src = spm.SentencePieceProcessor()\n",
    "sp_src.Load('src.model')\n",
    "\n",
    "for idx in range(3) :\n",
    "    sentence = df['title'][idx]\n",
    "    print(df['title'][idx])\n",
    "    print(sp_src.EncodeAsPieces(sentence))\n",
    "    print(sp_src.EncodeAsIds(sentence))"
   ]
  },
  {
   "cell_type": "code",
   "execution_count": 72,
   "metadata": {},
   "outputs": [
    {
     "data": {
      "text/plain": [
       "1108"
      ]
     },
     "execution_count": 72,
     "metadata": {},
     "output_type": "execute_result"
    }
   ],
   "source": [
    "max(df['cleanBody'].str.split().str.len())"
   ]
  },
  {
   "cell_type": "code",
   "execution_count": 73,
   "metadata": {},
   "outputs": [
    {
     "data": {
      "text/plain": [
       "4674"
      ]
     },
     "execution_count": 73,
     "metadata": {},
     "output_type": "execute_result"
    }
   ],
   "source": [
    "max(df['cleanBody'].str.len())"
   ]
  },
  {
   "cell_type": "code",
   "execution_count": 74,
   "metadata": {},
   "outputs": [],
   "source": [
    "# 문장 토큰화 - body\n",
    "\n",
    "corpus = 'src2.txt'\n",
    "prefix = 'src2'\n",
    "\n",
    "VOCAB_SIZE2 = 1108*8\n",
    "SEQ_LEN2 = 4674*2\n",
    "\n",
    "\n",
    "spm.SentencePieceTrainer.train(\n",
    "    f\"--input={corpus} --model_prefix={prefix} --vocab_size={VOCAB_SIZE2}\" +\n",
    "    \" --model_type=bpe\" + \n",
    "    f\" --max_sentence_length={SEQ_LEN2}\" +\n",
    "    \" --pad_id=0 --pad_piece=[PAD]\" +\n",
    "    \" --unk_id=1 --unk_piece=[UNK]\" +\n",
    "    \" --bos_id=2 --bos_piece=[BOS]\" +\n",
    "    \" --eos_id=3 --eos_piece=[EOS]\" +\n",
    "    \" --user_defined_symbols=[SEP],[CLS],[MASK]\"\n",
    ")"
   ]
  },
  {
   "cell_type": "code",
   "execution_count": 75,
   "metadata": {},
   "outputs": [
    {
     "name": "stdout",
     "output_type": "stream",
     "text": [
      "\"아시안 증오를 멈춰라\"…미 전역서 규탄·추모 시위\n",
      "['▁\"', '아', '시안', '▁증오를', '▁멈춰', '라', '\"...', '미', '▁전역서', '▁규탄', '·', '추', '모', '▁시위']\n",
      "[10, 10872, 4844, 8755, 5078, 10911, 62, 10900, 8004, 2614, 10857, 10948, 10959, 1092]\n",
      "한인 4명 신원 공개…희생자 아들 \"명백한 증오범죄\"\n",
      "['▁한인', '▁4', '명', '▁신', '원', '▁공개', '...', '희', '생', '자', '▁아들', '▁\"', '명', '백', '한', '▁증오범죄', '\"']\n",
      "[5595, 56, 10859, 39, 10854, 190, 8, 11121, 10978, 10860, 980, 10, 10859, 10946, 10868, 6983, 10833]\n",
      "오늘(12일) 소상공인 버팀목자금 '짝수' 신청날…13일부터 모두 신청\n",
      "['▁오늘', '(12', '일', ')', '▁소상공인', '▁버팀목자금', \"▁'\", '짝', '수', \"'\", '▁신청', '날', '...1', '3', '일부터', '▁모두', '▁신청']\n",
      "[149, 8207, 10880, 10981, 2273, 4170, 9, 11510, 10848, 10834, 601, 11119, 469, 10881, 707, 554, 601]\n"
     ]
    }
   ],
   "source": [
    "# 정수화\n",
    "sp_src2 = spm.SentencePieceProcessor()\n",
    "sp_src2.Load('src.model')\n",
    "\n",
    "for idx in range(3) :\n",
    "    sentence = df['title'][idx]\n",
    "    print(df['title'][idx])\n",
    "    print(sp_src.EncodeAsPieces(sentence))\n",
    "    print(sp_src.EncodeAsIds(sentence))"
   ]
  },
  {
   "cell_type": "code",
   "execution_count": 76,
   "metadata": {},
   "outputs": [],
   "source": [
    "def encoder1(tmpstr:str) -> np.array :\n",
    "    tmpstr = np.array(sp_src.EncodeAsIds(tmpstr))\n",
    " \n",
    "    if len(tmpstr) > SEQ_LEN :\n",
    "        tmpstr = tmpstr[:SEQ_LEN]\n",
    "   \n",
    "    else :\n",
    "        tmpstr = np.pad(tmpstr, (0, SEQ_LEN - len(tmpstr)), 'constant', constant_values = sp_src.pad_id())\n",
    "    \n",
    "    return tmpstr\n",
    "\n",
    "def encoder2(tmpstr:str) -> np.array :\n",
    "    tmpstr = np.array(sp_src2.EncodeAsIds(tmpstr))\n",
    " \n",
    "    if len(tmpstr) > SEQ_LEN2 :\n",
    "        tmpstr = tmpstr[:SEQ_LEN2]\n",
    "   \n",
    "    else :\n",
    "        tmpstr = np.pad(tmpstr, (0, SEQ_LEN - len(tmpstr)), 'constant', constant_values = sp_src.pad_id())\n",
    "    \n",
    "    return tmpstr\n"
   ]
  },
  {
   "cell_type": "code",
   "execution_count": 77,
   "metadata": {},
   "outputs": [
    {
     "data": {
      "text/plain": [
       "array([   10, 10872,  4844,  8755,  5078, 10911,    62, 10900,  8004,\n",
       "        2614, 10857, 10948, 10959,  1092,     0,     0,     0,     0,\n",
       "           0,     0,     0,     0,     0,     0,     0,     0,     0,\n",
       "           0,     0,     0,     0,     0,     0,     0,     0,     0,\n",
       "           0,     0,     0,     0,     0,     0,     0,     0,     0,\n",
       "           0,     0,     0,     0,     0,     0,     0,     0,     0,\n",
       "           0,     0,     0,     0,     0,     0,     0,     0,     0,\n",
       "           0,     0,     0,     0,     0,     0,     0,     0,     0,\n",
       "           0,     0,     0,     0,     0,     0,     0,     0,     0,\n",
       "           0,     0,     0,     0,     0,     0,     0,     0,     0,\n",
       "           0,     0,     0,     0,     0,     0,     0,     0,     0,\n",
       "           0,     0,     0,     0,     0,     0,     0,     0,     0,\n",
       "           0,     0,     0,     0,     0,     0,     0,     0,     0,\n",
       "           0,     0,     0])"
      ]
     },
     "execution_count": 77,
     "metadata": {},
     "output_type": "execute_result"
    }
   ],
   "source": [
    "src_data = df['title']\n",
    "\n",
    "src_list = []\n",
    "\n",
    "for idx in range(len(src_data)):\n",
    "    src_list.append(encoder1(src_data[idx]))\n",
    "\n",
    "src_list[0]"
   ]
  },
  {
   "cell_type": "code",
   "execution_count": 78,
   "metadata": {},
   "outputs": [
    {
     "data": {
      "text/plain": [
       "array([   12,  4534, 10871,  1857,   702,   528,    85,   370,   876,\n",
       "        2394,   171, 10868, 11104,  6221,  5626,  3866, 10832,  5110,\n",
       "       10990, 10864, 10835,   148,  3117, 10835,  9152, 11329,    31,\n",
       "        4844,  8755,  1890, 10948,  4299,   242, 11511,  3866, 10832,\n",
       "         191,   163, 10851,  9359, 11016, 11290,   812,    10,  4656,\n",
       "        1400,    24, 11117, 10836,  3535, 10833, 11329,    10, 10931,\n",
       "       10923, 10842,  5625, 10983,  1498, 10833, 10864,  9350, 11290,\n",
       "         764, 11458,  3866, 10832,  2081,    39, 10863,    44,  2500,\n",
       "         290,  2192,   160,  2741,  3155,  8364, 10832,    12, 10846,\n",
       "       10860, 10871,     9, 10872,  4844,  8755,  5078, 10911, 10834,\n",
       "       10888,   132, 10890, 11290,  3043, 10852,  2760, 10836,    47,\n",
       "       10944, 11118,   772, 10858, 11329,   292, 11212,  1178, 10832,\n",
       "         183, 10840,   311,   743, 10880,   232, 11057, 10842,  5440,\n",
       "          49,  1986, 10836])"
      ]
     },
     "execution_count": 78,
     "metadata": {},
     "output_type": "execute_result"
    }
   ],
   "source": [
    "src_data2 = df['cleanBody']\n",
    "\n",
    "src_list2 = []\n",
    "\n",
    "for idx in range(len(src_data2)):\n",
    "    src_list2.append(encoder1(src_data2[idx]))\n",
    "\n",
    "src_list2[0]"
   ]
  },
  {
   "cell_type": "code",
   "execution_count": 80,
   "metadata": {},
   "outputs": [],
   "source": [
    "src_train, src_valid, trg_train, trg_valid = train_test_split(src_list, category, test_size=0.2, random_state=42)"
   ]
  },
  {
   "cell_type": "code",
   "execution_count": 81,
   "metadata": {},
   "outputs": [],
   "source": [
    "src_train2, src_valid2, trg_train2, trg_valid2 = train_test_split(src_list2, category, test_size=0.2, random_state=42)"
   ]
  },
  {
   "cell_type": "code",
   "execution_count": 82,
   "metadata": {},
   "outputs": [
    {
     "data": {
      "text/plain": [
       "['trg_list.pkl']"
      ]
     },
     "execution_count": 82,
     "metadata": {},
     "output_type": "execute_result"
    }
   ],
   "source": [
    "joblib.dump(src_train, 'src_train.pkl')\n",
    "joblib.dump(trg_train, 'trg_train.pkl')\n",
    "joblib.dump(src_valid, 'src_valid.pkl')\n",
    "joblib.dump(trg_valid, 'trg_valid.pkl')\n",
    "joblib.dump(src_list, 'src_list.pkl')\n",
    "joblib.dump(category, 'trg_list.pkl')"
   ]
  },
  {
   "cell_type": "code",
   "execution_count": 83,
   "metadata": {},
   "outputs": [
    {
     "data": {
      "text/plain": [
       "['src_list2.pkl']"
      ]
     },
     "execution_count": 83,
     "metadata": {},
     "output_type": "execute_result"
    }
   ],
   "source": [
    "joblib.dump(src_train2, 'src_train2.pkl')\n",
    "joblib.dump(trg_train2, 'trg_train2.pkl')\n",
    "joblib.dump(src_valid2, 'src_valid2.pkl')\n",
    "joblib.dump(trg_valid2, 'trg_valid2.pkl')\n",
    "joblib.dump(src_list2, 'src_list2.pkl')"
   ]
  },
  {
   "cell_type": "code",
   "execution_count": null,
   "metadata": {},
   "outputs": [],
   "source": []
  }
 ],
 "metadata": {
  "kernelspec": {
   "display_name": "Python 3.8.10 64-bit",
   "language": "python",
   "name": "python3"
  },
  "language_info": {
   "codemirror_mode": {
    "name": "ipython",
    "version": 3
   },
   "file_extension": ".py",
   "mimetype": "text/x-python",
   "name": "python",
   "nbconvert_exporter": "python",
   "pygments_lexer": "ipython3",
   "version": "3.8.10"
  },
  "orig_nbformat": 4,
  "vscode": {
   "interpreter": {
    "hash": "916dbcbb3f70747c44a77c7bcd40155683ae19c65e1c03b4aa3499c5328201f1"
   }
  }
 },
 "nbformat": 4,
 "nbformat_minor": 2
}
