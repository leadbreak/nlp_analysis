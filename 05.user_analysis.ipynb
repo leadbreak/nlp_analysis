{
 "cells": [
  {
   "cell_type": "code",
   "execution_count": 1,
   "metadata": {},
   "outputs": [],
   "source": [
    "# 만약 fonts 폴더에 나눔고딕 폰트가 없을 경우, ./Theme/exctract_sentiment.py 에서 해당 코드를 수정하거나, 나눔고딕 폰트를 다운받으세요\n",
    "\n",
    "#연관 단어 시각화\n",
    "#document-term matrix (count 기반)\n",
    "import pandas as pd\n",
    "import time, os\n",
    "\n",
    "#시각화 packages\n",
    "import networkx as nx\n",
    "import matplotlib.pyplot as plt\n",
    "from matplotlib import font_manager, rc\n",
    "\n",
    "font_name = font_manager.FontProperties(fname=\"C:\\\\Windows\\\\Fonts\\\\malgun.ttf\").get_name() # 시각화시 한글 설정\n",
    "rc('font', family=font_name)"
   ]
  },
  {
   "cell_type": "code",
   "execution_count": 14,
   "metadata": {},
   "outputs": [
    {
     "data": {
      "text/html": [
       "<div>\n",
       "<style scoped>\n",
       "    .dataframe tbody tr th:only-of-type {\n",
       "        vertical-align: middle;\n",
       "    }\n",
       "\n",
       "    .dataframe tbody tr th {\n",
       "        vertical-align: top;\n",
       "    }\n",
       "\n",
       "    .dataframe thead th {\n",
       "        text-align: right;\n",
       "    }\n",
       "</style>\n",
       "<table border=\"1\" class=\"dataframe\">\n",
       "  <thead>\n",
       "    <tr style=\"text-align: right;\">\n",
       "      <th></th>\n",
       "      <th>domain</th>\n",
       "      <th>keyword</th>\n",
       "      <th>title</th>\n",
       "      <th>writer</th>\n",
       "      <th>url</th>\n",
       "      <th>time</th>\n",
       "      <th>view_cnt</th>\n",
       "      <th>like_cnt</th>\n",
       "      <th>content</th>\n",
       "      <th>com_cnt</th>\n",
       "      <th>com_text</th>\n",
       "      <th>user_text</th>\n",
       "    </tr>\n",
       "  </thead>\n",
       "  <tbody>\n",
       "    <tr>\n",
       "      <th>0</th>\n",
       "      <td>딴지</td>\n",
       "      <td>이낙연</td>\n",
       "      <td>설훈 \"이낙연 사면론, 국민통합에 집중…당원들, 쿨다운해야\"</td>\n",
       "      <td>ddanzinews</td>\n",
       "      <td>https://www.ddanzi.com/index.php?_filter=searc...</td>\n",
       "      <td>2021-01-04</td>\n",
       "      <td>3100</td>\n",
       "      <td>36.0</td>\n",
       "      <td>https://news.naver.com/main/read.nhn?mode=LSD&amp;...</td>\n",
       "      <td>42</td>\n",
       "      <td>[\"'soulking' 2021-01-04 20:47 : 이낙연에 줄선 놈들 같이 ...</td>\n",
       "      <td>https://news.naver.com/main/read.nhn?mode=LSD&amp;...</td>\n",
       "    </tr>\n",
       "    <tr>\n",
       "      <th>1</th>\n",
       "      <td>딴지</td>\n",
       "      <td>이낙연</td>\n",
       "      <td>이낙연은...문재인 대통령을 너무 만만하게 보네요....</td>\n",
       "      <td>출근하는남자</td>\n",
       "      <td>https://www.ddanzi.com/index.php?_filter=searc...</td>\n",
       "      <td>2021-01-04</td>\n",
       "      <td>5973</td>\n",
       "      <td>50.0</td>\n",
       "      <td>청와대 협의도 없이 ...지맘대로 ,,저러는거 같은데.... 에효 ......</td>\n",
       "      <td>43</td>\n",
       "      <td>['마이더스손 2021-01-04 20:45 : 도랐네', '출근하는남자본문 글쓴이...</td>\n",
       "      <td>청와대 협의도 없이 ...지맘대로 ,,저러는거 같은데.... 에효 ......</td>\n",
       "    </tr>\n",
       "    <tr>\n",
       "      <th>2</th>\n",
       "      <td>딴지</td>\n",
       "      <td>이낙연</td>\n",
       "      <td>이낙연 대표 대학생 면담은 받아라</td>\n",
       "      <td>다저스월시우승</td>\n",
       "      <td>https://www.ddanzi.com/index.php?_filter=searc...</td>\n",
       "      <td>2021-01-04</td>\n",
       "      <td>240</td>\n",
       "      <td>2.0</td>\n",
       "      <td>마지막 지지율 올릴 수 있는 방법이라고 병신같은 놈아... 이해가 안되네...</td>\n",
       "      <td>0</td>\n",
       "      <td>[]</td>\n",
       "      <td>마지막 지지율 올릴 수 있는 방법이라고 병신같은 놈아... 이해가 안되네...</td>\n",
       "    </tr>\n",
       "    <tr>\n",
       "      <th>3</th>\n",
       "      <td>딴지</td>\n",
       "      <td>이낙연</td>\n",
       "      <td>이낙연 대표 면담 요청한 학생들에게 시민들이 식사를</td>\n",
       "      <td>막내야</td>\n",
       "      <td>https://www.ddanzi.com/index.php?_filter=searc...</td>\n",
       "      <td>2021-01-04</td>\n",
       "      <td>9099</td>\n",
       "      <td>207.0</td>\n",
       "      <td>7시간 넘게 이낙연 대표를 면담하고자 민주당사 앞에서 농성중인 학생들이 그나마 식사...</td>\n",
       "      <td>54</td>\n",
       "      <td>['하얀잠자리 2021-01-04 20:41 : 어우나견이 때문에 화병 생기겠어요학...</td>\n",
       "      <td>7시간 넘게 이낙연 대표를 면담하고자 민주당사 앞에서 농성중인 학생들이 그나마 식사...</td>\n",
       "    </tr>\n",
       "    <tr>\n",
       "      <th>4</th>\n",
       "      <td>딴지</td>\n",
       "      <td>이낙연</td>\n",
       "      <td>이낙연 '대통령 사면 제한법' 대표 발의</td>\n",
       "      <td>우리는언제</td>\n",
       "      <td>https://www.ddanzi.com/index.php?_filter=searc...</td>\n",
       "      <td>2021-01-04</td>\n",
       "      <td>1550</td>\n",
       "      <td>17.0</td>\n",
       "      <td>강금원 회장 참 좋은 사람이었습니다...그 지역에서는 다 아는 사실....</td>\n",
       "      <td>10</td>\n",
       "      <td>['K_______ 2021-01-04 20:42 : 개시발놈', '우리는언제본문 ...</td>\n",
       "      <td>강금원 회장 참 좋은 사람이었습니다...그 지역에서는 다 아는 사실....</td>\n",
       "    </tr>\n",
       "    <tr>\n",
       "      <th>...</th>\n",
       "      <td>...</td>\n",
       "      <td>...</td>\n",
       "      <td>...</td>\n",
       "      <td>...</td>\n",
       "      <td>...</td>\n",
       "      <td>...</td>\n",
       "      <td>...</td>\n",
       "      <td>...</td>\n",
       "      <td>...</td>\n",
       "      <td>...</td>\n",
       "      <td>...</td>\n",
       "      <td>...</td>\n",
       "    </tr>\n",
       "    <tr>\n",
       "      <th>3881</th>\n",
       "      <td>딴지</td>\n",
       "      <td>이재명</td>\n",
       "      <td>이재명이 그랬으면 미처 날뛰었겠죠</td>\n",
       "      <td>이단</td>\n",
       "      <td>https://www.ddanzi.com/index.php?_filter=searc...</td>\n",
       "      <td>2021-01-01</td>\n",
       "      <td>357</td>\n",
       "      <td>NaN</td>\n",
       "      <td>다행히 엄중이라 그냥 못본척 사실이 아닌척 엄중무새들 최소한도로 공평은 해야지 힘도...</td>\n",
       "      <td>6</td>\n",
       "      <td>['[N🔴]좋은사람/하루아빠🐱🐶 2021-01-01 09:28 : 메모는 사이언스'...</td>\n",
       "      <td>다행히 엄중이라 그냥 못본척 사실이 아닌척 엄중무새들 최소한도로 공평은 해야지 힘도...</td>\n",
       "    </tr>\n",
       "    <tr>\n",
       "      <th>3882</th>\n",
       "      <td>딴지</td>\n",
       "      <td>이재명</td>\n",
       "      <td>이재명 스타일은 많이 무섭습니다만 요즘은 생각이 조금 바뀌네요</td>\n",
       "      <td>캡틴아프리카청춘이다</td>\n",
       "      <td>https://www.ddanzi.com/index.php?_filter=searc...</td>\n",
       "      <td>2021-01-01</td>\n",
       "      <td>5920</td>\n",
       "      <td>63.0</td>\n",
       "      <td>강단있게 결정한 바를 밀어붙이는게 물론 긍정적인 부분이 훨씬 많겠지만 억울하게 선의...</td>\n",
       "      <td>34</td>\n",
       "      <td>['더민주2020 2021-01-01 08:59 : [ 본인 요청에 의해 삭제된 댓...</td>\n",
       "      <td>강단있게 결정한 바를 밀어붙이는게 물론 긍정적인 부분이 훨씬 많겠지만 억울하게 선의...</td>\n",
       "    </tr>\n",
       "    <tr>\n",
       "      <th>3883</th>\n",
       "      <td>딴지</td>\n",
       "      <td>이재명</td>\n",
       "      <td>신년사 - 이재명 경기도지사</td>\n",
       "      <td>⚡️전기팔이소년⚡️</td>\n",
       "      <td>https://www.ddanzi.com/index.php?_filter=searc...</td>\n",
       "      <td>2021-01-01</td>\n",
       "      <td>435</td>\n",
       "      <td>16.0</td>\n",
       "      <td>존경하는 1,380만 경기도민 여러분,신축년 새해가 밝았습니다. 도민 여러분의 가정...</td>\n",
       "      <td>3</td>\n",
       "      <td>['HallelujahEssaim 2021-01-01 08:51 : 다행히 사면건의...</td>\n",
       "      <td>존경하는 1,380만 경기도민 여러분,신축년 새해가 밝았습니다. 도민 여러분의 가정...</td>\n",
       "    </tr>\n",
       "    <tr>\n",
       "      <th>3884</th>\n",
       "      <td>딴지</td>\n",
       "      <td>이재명</td>\n",
       "      <td>이재명 지지자입니다만....</td>\n",
       "      <td>🎗초우</td>\n",
       "      <td>https://www.ddanzi.com/index.php?_filter=searc...</td>\n",
       "      <td>2021-01-01</td>\n",
       "      <td>685</td>\n",
       "      <td>9.0</td>\n",
       "      <td>할 말은 많지만 하지 않겠습니다 펙트체크 될때까지 지켜봅시다</td>\n",
       "      <td>11</td>\n",
       "      <td>['HallelujahEssaim 2021-01-01 08:35 : 사면건의 발언 ...</td>\n",
       "      <td>할 말은 많지만 하지 않겠습니다 펙트체크 될때까지 지켜봅시다</td>\n",
       "    </tr>\n",
       "    <tr>\n",
       "      <th>3885</th>\n",
       "      <td>딴지</td>\n",
       "      <td>이재명</td>\n",
       "      <td>이재명, 예고대로 다주택자 공무원 승진 안시켰다</td>\n",
       "      <td>옆집아져씨</td>\n",
       "      <td>https://www.ddanzi.com/index.php?_filter=searc...</td>\n",
       "      <td>2021-01-01</td>\n",
       "      <td>7406</td>\n",
       "      <td>126.0</td>\n",
       "      <td>승진하려면 다주택 정리하라고 미리 예고하고진짜로 승진 안시킴 ㅋㅋㅋㅋㅋ</td>\n",
       "      <td>28</td>\n",
       "      <td>['코볼 2021-01-01 07:05 : 민주정부가 이런 강단이 있어야 하는데.....</td>\n",
       "      <td>승진하려면 다주택 정리하라고 미리 예고하고진짜로 승진 안시킴 ㅋㅋㅋㅋㅋ</td>\n",
       "    </tr>\n",
       "  </tbody>\n",
       "</table>\n",
       "<p>3886 rows × 12 columns</p>\n",
       "</div>"
      ],
      "text/plain": [
       "     domain keyword                               title      writer  \\\n",
       "0        딴지     이낙연   설훈 \"이낙연 사면론, 국민통합에 집중…당원들, 쿨다운해야\"  ddanzinews   \n",
       "1        딴지     이낙연     이낙연은...문재인 대통령을 너무 만만하게 보네요....      출근하는남자   \n",
       "2        딴지     이낙연                  이낙연 대표 대학생 면담은 받아라     다저스월시우승   \n",
       "3        딴지     이낙연        이낙연 대표 면담 요청한 학생들에게 시민들이 식사를         막내야   \n",
       "4        딴지     이낙연              이낙연 '대통령 사면 제한법' 대표 발의       우리는언제   \n",
       "...     ...     ...                                 ...         ...   \n",
       "3881     딴지     이재명                  이재명이 그랬으면 미처 날뛰었겠죠          이단   \n",
       "3882     딴지     이재명  이재명 스타일은 많이 무섭습니다만 요즘은 생각이 조금 바뀌네요  캡틴아프리카청춘이다   \n",
       "3883     딴지     이재명                     신년사 - 이재명 경기도지사  ⚡️전기팔이소년⚡️   \n",
       "3884     딴지     이재명                     이재명 지지자입니다만....         🎗초우   \n",
       "3885     딴지     이재명          이재명, 예고대로 다주택자 공무원 승진 안시켰다       옆집아져씨   \n",
       "\n",
       "                                                    url        time  view_cnt  \\\n",
       "0     https://www.ddanzi.com/index.php?_filter=searc...  2021-01-04      3100   \n",
       "1     https://www.ddanzi.com/index.php?_filter=searc...  2021-01-04      5973   \n",
       "2     https://www.ddanzi.com/index.php?_filter=searc...  2021-01-04       240   \n",
       "3     https://www.ddanzi.com/index.php?_filter=searc...  2021-01-04      9099   \n",
       "4     https://www.ddanzi.com/index.php?_filter=searc...  2021-01-04      1550   \n",
       "...                                                 ...         ...       ...   \n",
       "3881  https://www.ddanzi.com/index.php?_filter=searc...  2021-01-01       357   \n",
       "3882  https://www.ddanzi.com/index.php?_filter=searc...  2021-01-01      5920   \n",
       "3883  https://www.ddanzi.com/index.php?_filter=searc...  2021-01-01       435   \n",
       "3884  https://www.ddanzi.com/index.php?_filter=searc...  2021-01-01       685   \n",
       "3885  https://www.ddanzi.com/index.php?_filter=searc...  2021-01-01      7406   \n",
       "\n",
       "      like_cnt                                            content  com_cnt  \\\n",
       "0         36.0  https://news.naver.com/main/read.nhn?mode=LSD&...       42   \n",
       "1         50.0        청와대 협의도 없이 ...지맘대로 ,,저러는거 같은데.... 에효 ......       43   \n",
       "2          2.0        마지막 지지율 올릴 수 있는 방법이라고 병신같은 놈아... 이해가 안되네...        0   \n",
       "3        207.0  7시간 넘게 이낙연 대표를 면담하고자 민주당사 앞에서 농성중인 학생들이 그나마 식사...       54   \n",
       "4         17.0          강금원 회장 참 좋은 사람이었습니다...그 지역에서는 다 아는 사실....       10   \n",
       "...        ...                                                ...      ...   \n",
       "3881       NaN  다행히 엄중이라 그냥 못본척 사실이 아닌척 엄중무새들 최소한도로 공평은 해야지 힘도...        6   \n",
       "3882      63.0  강단있게 결정한 바를 밀어붙이는게 물론 긍정적인 부분이 훨씬 많겠지만 억울하게 선의...       34   \n",
       "3883      16.0  존경하는 1,380만 경기도민 여러분,신축년 새해가 밝았습니다. 도민 여러분의 가정...        3   \n",
       "3884       9.0                  할 말은 많지만 하지 않겠습니다 펙트체크 될때까지 지켜봅시다       11   \n",
       "3885     126.0            승진하려면 다주택 정리하라고 미리 예고하고진짜로 승진 안시킴 ㅋㅋㅋㅋㅋ       28   \n",
       "\n",
       "                                               com_text  \\\n",
       "0     [\"'soulking' 2021-01-04 20:47 : 이낙연에 줄선 놈들 같이 ...   \n",
       "1     ['마이더스손 2021-01-04 20:45 : 도랐네', '출근하는남자본문 글쓴이...   \n",
       "2                                                    []   \n",
       "3     ['하얀잠자리 2021-01-04 20:41 : 어우나견이 때문에 화병 생기겠어요학...   \n",
       "4     ['K_______ 2021-01-04 20:42 : 개시발놈', '우리는언제본문 ...   \n",
       "...                                                 ...   \n",
       "3881  ['[N🔴]좋은사람/하루아빠🐱🐶 2021-01-01 09:28 : 메모는 사이언스'...   \n",
       "3882  ['더민주2020 2021-01-01 08:59 : [ 본인 요청에 의해 삭제된 댓...   \n",
       "3883  ['HallelujahEssaim 2021-01-01 08:51 : 다행히 사면건의...   \n",
       "3884  ['HallelujahEssaim 2021-01-01 08:35 : 사면건의 발언 ...   \n",
       "3885  ['코볼 2021-01-01 07:05 : 민주정부가 이런 강단이 있어야 하는데.....   \n",
       "\n",
       "                                              user_text  \n",
       "0     https://news.naver.com/main/read.nhn?mode=LSD&...  \n",
       "1           청와대 협의도 없이 ...지맘대로 ,,저러는거 같은데.... 에효 ......  \n",
       "2           마지막 지지율 올릴 수 있는 방법이라고 병신같은 놈아... 이해가 안되네...  \n",
       "3     7시간 넘게 이낙연 대표를 면담하고자 민주당사 앞에서 농성중인 학생들이 그나마 식사...  \n",
       "4             강금원 회장 참 좋은 사람이었습니다...그 지역에서는 다 아는 사실....  \n",
       "...                                                 ...  \n",
       "3881  다행히 엄중이라 그냥 못본척 사실이 아닌척 엄중무새들 최소한도로 공평은 해야지 힘도...  \n",
       "3882  강단있게 결정한 바를 밀어붙이는게 물론 긍정적인 부분이 훨씬 많겠지만 억울하게 선의...  \n",
       "3883  존경하는 1,380만 경기도민 여러분,신축년 새해가 밝았습니다. 도민 여러분의 가정...  \n",
       "3884                  할 말은 많지만 하지 않겠습니다 펙트체크 될때까지 지켜봅시다  \n",
       "3885            승진하려면 다주택 정리하라고 미리 예고하고진짜로 승진 안시킴 ㅋㅋㅋㅋㅋ  \n",
       "\n",
       "[3886 rows x 12 columns]"
      ]
     },
     "execution_count": 14,
     "metadata": {},
     "output_type": "execute_result"
    }
   ],
   "source": [
    "import pandas as pd\n",
    "\n",
    "df1 = pd.read_csv(\"./preprocessing/ddanzzi.csv\")\n",
    "df2 = pd.read_csv(\"./preprocessing/clien.csv\")\n",
    "df3 = pd.read_csv(\"./preprocessing/bobe.csv\")\n",
    "\n",
    "df1"
   ]
  },
  {
   "cell_type": "code",
   "execution_count": 15,
   "metadata": {},
   "outputs": [
    {
     "data": {
      "text/html": [
       "<div>\n",
       "<style scoped>\n",
       "    .dataframe tbody tr th:only-of-type {\n",
       "        vertical-align: middle;\n",
       "    }\n",
       "\n",
       "    .dataframe tbody tr th {\n",
       "        vertical-align: top;\n",
       "    }\n",
       "\n",
       "    .dataframe thead th {\n",
       "        text-align: right;\n",
       "    }\n",
       "</style>\n",
       "<table border=\"1\" class=\"dataframe\">\n",
       "  <thead>\n",
       "    <tr style=\"text-align: right;\">\n",
       "      <th></th>\n",
       "      <th>Unnamed: 0</th>\n",
       "      <th>domain</th>\n",
       "      <th>keyword</th>\n",
       "      <th>title</th>\n",
       "      <th>writer</th>\n",
       "      <th>url</th>\n",
       "      <th>time</th>\n",
       "      <th>view_cnt</th>\n",
       "      <th>like_cnt</th>\n",
       "      <th>user_text</th>\n",
       "      <th>com_cnt</th>\n",
       "      <th>com_text</th>\n",
       "    </tr>\n",
       "  </thead>\n",
       "  <tbody>\n",
       "    <tr>\n",
       "      <th>0</th>\n",
       "      <td>0</td>\n",
       "      <td>클리앙</td>\n",
       "      <td>이낙연</td>\n",
       "      <td>오늘 아침 이낙연 의원 CBS 김현정의 뉴스쇼에서 인터뷰한 내용</td>\n",
       "      <td>하이타이거</td>\n",
       "      <td>https://www.clien.net/service/board/park/16034...</td>\n",
       "      <td>2021-04-06 12:00:42</td>\n",
       "      <td>2719</td>\n",
       "      <td>6</td>\n",
       "      <td>이낙연의원이 김현정의 뉴스쇼에 나와서 한 발언중 일부를 가져왔습니다.이길수도 있을것...</td>\n",
       "      <td>5</td>\n",
       "      <td>['날라리어부 : 김현정 이인간은 계속 미끼를 던지네요.  덥썩 물기라도 하면 \"으...</td>\n",
       "    </tr>\n",
       "    <tr>\n",
       "      <th>1</th>\n",
       "      <td>1</td>\n",
       "      <td>클리앙</td>\n",
       "      <td>이낙연</td>\n",
       "      <td>이낙연의원 트윗으로 유추해보는 선거판세.jpg</td>\n",
       "      <td>하이타이거</td>\n",
       "      <td>https://www.clien.net/service/board/park/16033...</td>\n",
       "      <td>2021-04-06 11:38:23</td>\n",
       "      <td>6893</td>\n",
       "      <td>28</td>\n",
       "      <td>어떤분이 그러시더군요.선거판세를 예상하려면월요일이나 화요일에 '수고했습니다! 감사합...</td>\n",
       "      <td>15</td>\n",
       "      <td>['store : 2016년 총선도투표 전날까지 새누리당이 180석 먹는게 그냥 기...</td>\n",
       "    </tr>\n",
       "    <tr>\n",
       "      <th>2</th>\n",
       "      <td>2</td>\n",
       "      <td>클리앙</td>\n",
       "      <td>이낙연</td>\n",
       "      <td>똥아) 서민 '이낙연, 친문(클량)이 외면해서 대권가도 이탈했다'...?</td>\n",
       "      <td>blowtorch</td>\n",
       "      <td>https://www.clien.net/service/board/park/16033...</td>\n",
       "      <td>2021-04-06 09:55:30</td>\n",
       "      <td>1741</td>\n",
       "      <td>7</td>\n",
       "      <td>출처: 주간동아 최신호요약)1. 찌라시를 읽어보니 이낙연의 새해 사면론 카드는 문통...</td>\n",
       "      <td>9</td>\n",
       "      <td>['해피하게 : 진중권같은 서민이네..', '감마고 : 저 분은 의학인으로서 별 재...</td>\n",
       "    </tr>\n",
       "    <tr>\n",
       "      <th>3</th>\n",
       "      <td>3</td>\n",
       "      <td>클리앙</td>\n",
       "      <td>이낙연</td>\n",
       "      <td>다른건 모르겠고 이낙연씨가 아무리 옳은 말 해도 이쁘게 보이진 않네요</td>\n",
       "      <td>요해</td>\n",
       "      <td>https://www.clien.net/service/board/park/16029...</td>\n",
       "      <td>2021-04-04 20:26:32</td>\n",
       "      <td>1472</td>\n",
       "      <td>6</td>\n",
       "      <td>외계인이 쳐들어오면 소련 미국 북한 남한 다 아군이라지만...이낙연씨는 외계인들 첩...</td>\n",
       "      <td>4</td>\n",
       "      <td>['생귄 : 민주당의 망령이죠. 다시는 안봤으면 좋겠어요.', '솥단지 : 대통령도...</td>\n",
       "    </tr>\n",
       "    <tr>\n",
       "      <th>4</th>\n",
       "      <td>4</td>\n",
       "      <td>클리앙</td>\n",
       "      <td>이낙연</td>\n",
       "      <td>이낙연 ''10년전 돌아간다는 오세훈, 초등생 밥한끼 주기 싫다고 하던 그 시절 사절''</td>\n",
       "      <td>판사부정</td>\n",
       "      <td>https://www.clien.net/service/board/park/16029...</td>\n",
       "      <td>2021-04-04 20:10:14</td>\n",
       "      <td>3292</td>\n",
       "      <td>4</td>\n",
       "      <td>이낙연 \"10년전으로 돌아간다는 오세훈, 초등생 밥한끼 주기 싫다고 하던 그 시절 ...</td>\n",
       "      <td>3</td>\n",
       "      <td>['-익명- : 박영선이 대세긴한가보네요. 박쥐가 붙는 것 보면...', '독음운 ...</td>\n",
       "    </tr>\n",
       "    <tr>\n",
       "      <th>...</th>\n",
       "      <td>...</td>\n",
       "      <td>...</td>\n",
       "      <td>...</td>\n",
       "      <td>...</td>\n",
       "      <td>...</td>\n",
       "      <td>...</td>\n",
       "      <td>...</td>\n",
       "      <td>...</td>\n",
       "      <td>...</td>\n",
       "      <td>...</td>\n",
       "      <td>...</td>\n",
       "      <td>...</td>\n",
       "    </tr>\n",
       "    <tr>\n",
       "      <th>2885</th>\n",
       "      <td>2885</td>\n",
       "      <td>클리앙</td>\n",
       "      <td>이재명</td>\n",
       "      <td>이재명 민주당 대선후보만들기 본부 본부장 이낙연인가요</td>\n",
       "      <td>sian</td>\n",
       "      <td>https://www.clien.net/service/board/park/15752...</td>\n",
       "      <td>2021-01-01 09:23:52</td>\n",
       "      <td>835</td>\n",
       "      <td>0</td>\n",
       "      <td>이낙연씨 참 꾸준하네요그렇게 이재명을 대통령 만들어주고싶은건지</td>\n",
       "      <td>2</td>\n",
       "      <td>['지나가던이 : 정치적 자살이 취미신듯 ㅇ', '빛틀 : 애초 저는 그 분에 대한...</td>\n",
       "    </tr>\n",
       "    <tr>\n",
       "      <th>2886</th>\n",
       "      <td>2886</td>\n",
       "      <td>클리앙</td>\n",
       "      <td>이재명</td>\n",
       "      <td>저는 이재명 지사 극도로 싫어하는 사람이지만</td>\n",
       "      <td>misde989</td>\n",
       "      <td>https://www.clien.net/service/board/park/15751...</td>\n",
       "      <td>2021-01-01 08:49:36</td>\n",
       "      <td>1397</td>\n",
       "      <td>1</td>\n",
       "      <td>이낙연 대표 워딩 보고왜 이재명 지사를 지지하는 사람들이 많은지 이해가 됐네요강하게...</td>\n",
       "      <td>6</td>\n",
       "      <td>['misde989 : (추가) 이재명 지사 외에 다른 대안도 많다고봅니다', 's...</td>\n",
       "    </tr>\n",
       "    <tr>\n",
       "      <th>2887</th>\n",
       "      <td>2887</td>\n",
       "      <td>클리앙</td>\n",
       "      <td>이재명</td>\n",
       "      <td>추미애 이재명 지지합니다</td>\n",
       "      <td>달짝지근</td>\n",
       "      <td>https://www.clien.net/service/board/park/15751...</td>\n",
       "      <td>2021-01-01 08:07:11</td>\n",
       "      <td>1166</td>\n",
       "      <td>4</td>\n",
       "      <td>맘속 1순위 이낙연이었는데 명명백백하고 납득 가능한 해명이 있다면 모를까 지지철회합...</td>\n",
       "      <td>2</td>\n",
       "      <td>['해피하게 : 저도 갈아탑니다. 지난 당대표 경선에서 밀었던게 부끄럽네요.', '...</td>\n",
       "    </tr>\n",
       "    <tr>\n",
       "      <th>2888</th>\n",
       "      <td>2888</td>\n",
       "      <td>클리앙</td>\n",
       "      <td>이재명</td>\n",
       "      <td>이재명, 다주택자 공무원 승진 진짜로 안 시킴 ㄷㄷ</td>\n",
       "      <td>대머리찰스</td>\n",
       "      <td>https://www.clien.net/service/board/park/15751...</td>\n",
       "      <td>2021-01-01 07:45:46</td>\n",
       "      <td>51836</td>\n",
       "      <td>99+</td>\n",
       "      <td>https://n.news.naver.com/article/003/001027134...</td>\n",
       "      <td>125</td>\n",
       "      <td>['Castle : 하나하나 말한걸 실천하는 중이군요', '고미- : 이재명 지지율...</td>\n",
       "    </tr>\n",
       "    <tr>\n",
       "      <th>2889</th>\n",
       "      <td>2889</td>\n",
       "      <td>클리앙</td>\n",
       "      <td>이재명</td>\n",
       "      <td>대권 지지율 이재명&gt;윤석열&gt;이낙연</td>\n",
       "      <td>kagajotaro</td>\n",
       "      <td>https://www.clien.net/service/board/park/15751...</td>\n",
       "      <td>2021-01-01 07:38:44</td>\n",
       "      <td>1824</td>\n",
       "      <td>0</td>\n",
       "      <td>올 9월 여야 대선 후보 경선이 예정된 가운데 대권주자 적합도 신년 여론조사에서 이...</td>\n",
       "      <td>2</td>\n",
       "      <td>['고미- : 당장 당내 1위라도 탈환해야 한다는 작태죠당이나 국가는 생각 안하는겁...</td>\n",
       "    </tr>\n",
       "  </tbody>\n",
       "</table>\n",
       "<p>2890 rows × 12 columns</p>\n",
       "</div>"
      ],
      "text/plain": [
       "      Unnamed: 0 domain keyword  \\\n",
       "0              0    클리앙     이낙연   \n",
       "1              1    클리앙     이낙연   \n",
       "2              2    클리앙     이낙연   \n",
       "3              3    클리앙     이낙연   \n",
       "4              4    클리앙     이낙연   \n",
       "...          ...    ...     ...   \n",
       "2885        2885    클리앙     이재명   \n",
       "2886        2886    클리앙     이재명   \n",
       "2887        2887    클리앙     이재명   \n",
       "2888        2888    클리앙     이재명   \n",
       "2889        2889    클리앙     이재명   \n",
       "\n",
       "                                                  title      writer  \\\n",
       "0                   오늘 아침 이낙연 의원 CBS 김현정의 뉴스쇼에서 인터뷰한 내용       하이타이거   \n",
       "1                             이낙연의원 트윗으로 유추해보는 선거판세.jpg       하이타이거   \n",
       "2              똥아) 서민 '이낙연, 친문(클량)이 외면해서 대권가도 이탈했다'...?   blowtorch   \n",
       "3                다른건 모르겠고 이낙연씨가 아무리 옳은 말 해도 이쁘게 보이진 않네요          요해   \n",
       "4     이낙연 ''10년전 돌아간다는 오세훈, 초등생 밥한끼 주기 싫다고 하던 그 시절 사절''        판사부정   \n",
       "...                                                 ...         ...   \n",
       "2885                      이재명 민주당 대선후보만들기 본부 본부장 이낙연인가요        sian   \n",
       "2886                           저는 이재명 지사 극도로 싫어하는 사람이지만    misde989   \n",
       "2887                                      추미애 이재명 지지합니다        달짝지근   \n",
       "2888                       이재명, 다주택자 공무원 승진 진짜로 안 시킴 ㄷㄷ       대머리찰스   \n",
       "2889                                 대권 지지율 이재명>윤석열>이낙연  kagajotaro   \n",
       "\n",
       "                                                    url                 time  \\\n",
       "0     https://www.clien.net/service/board/park/16034...  2021-04-06 12:00:42   \n",
       "1     https://www.clien.net/service/board/park/16033...  2021-04-06 11:38:23   \n",
       "2     https://www.clien.net/service/board/park/16033...  2021-04-06 09:55:30   \n",
       "3     https://www.clien.net/service/board/park/16029...  2021-04-04 20:26:32   \n",
       "4     https://www.clien.net/service/board/park/16029...  2021-04-04 20:10:14   \n",
       "...                                                 ...                  ...   \n",
       "2885  https://www.clien.net/service/board/park/15752...  2021-01-01 09:23:52   \n",
       "2886  https://www.clien.net/service/board/park/15751...  2021-01-01 08:49:36   \n",
       "2887  https://www.clien.net/service/board/park/15751...  2021-01-01 08:07:11   \n",
       "2888  https://www.clien.net/service/board/park/15751...  2021-01-01 07:45:46   \n",
       "2889  https://www.clien.net/service/board/park/15751...  2021-01-01 07:38:44   \n",
       "\n",
       "      view_cnt like_cnt                                          user_text  \\\n",
       "0         2719        6  이낙연의원이 김현정의 뉴스쇼에 나와서 한 발언중 일부를 가져왔습니다.이길수도 있을것...   \n",
       "1         6893       28  어떤분이 그러시더군요.선거판세를 예상하려면월요일이나 화요일에 '수고했습니다! 감사합...   \n",
       "2         1741        7  출처: 주간동아 최신호요약)1. 찌라시를 읽어보니 이낙연의 새해 사면론 카드는 문통...   \n",
       "3         1472        6  외계인이 쳐들어오면 소련 미국 북한 남한 다 아군이라지만...이낙연씨는 외계인들 첩...   \n",
       "4         3292        4  이낙연 \"10년전으로 돌아간다는 오세훈, 초등생 밥한끼 주기 싫다고 하던 그 시절 ...   \n",
       "...        ...      ...                                                ...   \n",
       "2885       835        0                 이낙연씨 참 꾸준하네요그렇게 이재명을 대통령 만들어주고싶은건지   \n",
       "2886      1397        1  이낙연 대표 워딩 보고왜 이재명 지사를 지지하는 사람들이 많은지 이해가 됐네요강하게...   \n",
       "2887      1166        4  맘속 1순위 이낙연이었는데 명명백백하고 납득 가능한 해명이 있다면 모를까 지지철회합...   \n",
       "2888     51836      99+  https://n.news.naver.com/article/003/001027134...   \n",
       "2889      1824        0  올 9월 여야 대선 후보 경선이 예정된 가운데 대권주자 적합도 신년 여론조사에서 이...   \n",
       "\n",
       "      com_cnt                                           com_text  \n",
       "0           5  ['날라리어부 : 김현정 이인간은 계속 미끼를 던지네요.  덥썩 물기라도 하면 \"으...  \n",
       "1          15  ['store : 2016년 총선도투표 전날까지 새누리당이 180석 먹는게 그냥 기...  \n",
       "2           9  ['해피하게 : 진중권같은 서민이네..', '감마고 : 저 분은 의학인으로서 별 재...  \n",
       "3           4  ['생귄 : 민주당의 망령이죠. 다시는 안봤으면 좋겠어요.', '솥단지 : 대통령도...  \n",
       "4           3  ['-익명- : 박영선이 대세긴한가보네요. 박쥐가 붙는 것 보면...', '독음운 ...  \n",
       "...       ...                                                ...  \n",
       "2885        2  ['지나가던이 : 정치적 자살이 취미신듯 ㅇ', '빛틀 : 애초 저는 그 분에 대한...  \n",
       "2886        6  ['misde989 : (추가) 이재명 지사 외에 다른 대안도 많다고봅니다', 's...  \n",
       "2887        2  ['해피하게 : 저도 갈아탑니다. 지난 당대표 경선에서 밀었던게 부끄럽네요.', '...  \n",
       "2888      125  ['Castle : 하나하나 말한걸 실천하는 중이군요', '고미- : 이재명 지지율...  \n",
       "2889        2  ['고미- : 당장 당내 1위라도 탈환해야 한다는 작태죠당이나 국가는 생각 안하는겁...  \n",
       "\n",
       "[2890 rows x 12 columns]"
      ]
     },
     "execution_count": 15,
     "metadata": {},
     "output_type": "execute_result"
    }
   ],
   "source": [
    "df2"
   ]
  },
  {
   "cell_type": "code",
   "execution_count": 16,
   "metadata": {},
   "outputs": [
    {
     "data": {
      "text/html": [
       "<div>\n",
       "<style scoped>\n",
       "    .dataframe tbody tr th:only-of-type {\n",
       "        vertical-align: middle;\n",
       "    }\n",
       "\n",
       "    .dataframe tbody tr th {\n",
       "        vertical-align: top;\n",
       "    }\n",
       "\n",
       "    .dataframe thead th {\n",
       "        text-align: right;\n",
       "    }\n",
       "</style>\n",
       "<table border=\"1\" class=\"dataframe\">\n",
       "  <thead>\n",
       "    <tr style=\"text-align: right;\">\n",
       "      <th></th>\n",
       "      <th>domain</th>\n",
       "      <th>keyword</th>\n",
       "      <th>title</th>\n",
       "      <th>writer</th>\n",
       "      <th>url</th>\n",
       "      <th>time</th>\n",
       "      <th>view_cnt</th>\n",
       "      <th>like_cnt</th>\n",
       "      <th>user_text</th>\n",
       "      <th>com_cnt</th>\n",
       "      <th>com_text</th>\n",
       "    </tr>\n",
       "  </thead>\n",
       "  <tbody>\n",
       "    <tr>\n",
       "      <th>0</th>\n",
       "      <td>보배드림</td>\n",
       "      <td>이낙연</td>\n",
       "      <td>넣어흥은 왜 아직도 이낙연을 지지하는겨[4]</td>\n",
       "      <td>국민웨건볼보</td>\n",
       "      <td>https://www.bobaedream.co.kr/view?code=politic...</td>\n",
       "      <td>2021.04.03</td>\n",
       "      <td>115</td>\n",
       "      <td>0 &amp; 0</td>\n",
       "      <td>우리 같이 지지할래?</td>\n",
       "      <td>4</td>\n",
       "      <td>['당구장박사님짱 : 다마네기 이낙연 빨땐 언제고ㅋㅋ', 'colt69 : 이낙연은...</td>\n",
       "    </tr>\n",
       "    <tr>\n",
       "      <th>1</th>\n",
       "      <td>보배드림</td>\n",
       "      <td>이낙연</td>\n",
       "      <td>이낙연 지지율 40%대에서 7%로[8]</td>\n",
       "      <td>푸를청</td>\n",
       "      <td>https://www.bobaedream.co.kr/view?code=politic...</td>\n",
       "      <td>2021.04.03</td>\n",
       "      <td>196</td>\n",
       "      <td>0 &amp; 0</td>\n",
       "      <td>한때 이낙연 지지율이 40%대에 이른적이 있었죠.....총리시절인가? ?그때였을 겁...</td>\n",
       "      <td>6</td>\n",
       "      <td>['국민웨건볼보 : 문재인 대통령 적통은 이낙연밖에 없습니다.진골도 아닌 성골입니다...</td>\n",
       "    </tr>\n",
       "    <tr>\n",
       "      <th>2</th>\n",
       "      <td>보배드림</td>\n",
       "      <td>이낙연</td>\n",
       "      <td>나라다운 나라 만들었는지\"...반성하며 靑과 거리 둔 이낙연</td>\n",
       "      <td>보배다</td>\n",
       "      <td>https://www.bobaedream.co.kr/view?code=politic...</td>\n",
       "      <td>2021.04.01</td>\n",
       "      <td>60</td>\n",
       "      <td>5 &amp; 0</td>\n",
       "      <td>https://news.naver.com/main/read.nhn?mode=LSD&amp;...</td>\n",
       "      <td>0</td>\n",
       "      <td>[]</td>\n",
       "    </tr>\n",
       "    <tr>\n",
       "      <th>3</th>\n",
       "      <td>보배드림</td>\n",
       "      <td>이낙연</td>\n",
       "      <td>'박원순 재평가' 원하는 與 일각…박영선·이낙연 '난감'</td>\n",
       "      <td>pdbd</td>\n",
       "      <td>https://www.bobaedream.co.kr/view?code=politic...</td>\n",
       "      <td>2021.03.25</td>\n",
       "      <td>94</td>\n",
       "      <td>6 &amp; 0</td>\n",
       "      <td>더듬어만진당 지도층과 그 지지자들 수준이란 가관이다. 등신들.'박원순 옹호' 임종석...</td>\n",
       "      <td>0</td>\n",
       "      <td>[]</td>\n",
       "    </tr>\n",
       "    <tr>\n",
       "      <th>4</th>\n",
       "      <td>보배드림</td>\n",
       "      <td>이낙연</td>\n",
       "      <td>이낙연 “국민 여러분, 도와주십시오”…與, 냉담한 여론에 ‘읍[2]</td>\n",
       "      <td>문재앙탄핵연구소</td>\n",
       "      <td>https://www.bobaedream.co.kr/view?code=politic...</td>\n",
       "      <td>2021.03.25</td>\n",
       "      <td>136</td>\n",
       "      <td>4 &amp; 0</td>\n",
       "      <td>이 위원장은?25일 자신의?SNS를 통해 “앞으로 가자는 후보와, 뒤로 가자는 후보...</td>\n",
       "      <td>0</td>\n",
       "      <td>[]</td>\n",
       "    </tr>\n",
       "    <tr>\n",
       "      <th>...</th>\n",
       "      <td>...</td>\n",
       "      <td>...</td>\n",
       "      <td>...</td>\n",
       "      <td>...</td>\n",
       "      <td>...</td>\n",
       "      <td>...</td>\n",
       "      <td>...</td>\n",
       "      <td>...</td>\n",
       "      <td>...</td>\n",
       "      <td>...</td>\n",
       "      <td>...</td>\n",
       "    </tr>\n",
       "    <tr>\n",
       "      <th>241</th>\n",
       "      <td>보배드림</td>\n",
       "      <td>이재명</td>\n",
       "      <td>첫 30%대 지지율 기록… 2위 이재명 20.3%</td>\n",
       "      <td>Uhlalala</td>\n",
       "      <td>https://www.bobaedream.co.kr/view?code=politic...</td>\n",
       "      <td>2021.01.03</td>\n",
       "      <td>141</td>\n",
       "      <td>3 &amp; 0</td>\n",
       "      <td>첫 30%대 지지율 기록… 2위 이재명 20.3%http://www.segye.co...</td>\n",
       "      <td>0</td>\n",
       "      <td>[]</td>\n",
       "    </tr>\n",
       "    <tr>\n",
       "      <th>242</th>\n",
       "      <td>보배드림</td>\n",
       "      <td>이재명</td>\n",
       "      <td>'안착' 이재명 '단단한' 윤석열 '바쁜' 이낙연..[2]</td>\n",
       "      <td>장칼빈</td>\n",
       "      <td>https://www.bobaedream.co.kr/view?code=politic...</td>\n",
       "      <td>2021.01.03</td>\n",
       "      <td>161</td>\n",
       "      <td>0 &amp; 0</td>\n",
       "      <td>https://news.v.daum.net/v/20210103055555933</td>\n",
       "      <td>2</td>\n",
       "      <td>['도넛 : 작년 9월 설문...', '장칼빈 : https://news.v.dau...</td>\n",
       "    </tr>\n",
       "    <tr>\n",
       "      <th>243</th>\n",
       "      <td>보배드림</td>\n",
       "      <td>이재명</td>\n",
       "      <td>이재명은 지금 그냥 가만히 있으면 알아서 지지율 오르겠네</td>\n",
       "      <td>최트로이</td>\n",
       "      <td>https://www.bobaedream.co.kr/view?code=politic...</td>\n",
       "      <td>2021.01.02</td>\n",
       "      <td>165</td>\n",
       "      <td>3 &amp; 0</td>\n",
       "      <td>이낙연이 알아서 내려가겠다는데?당대표 되고 그냥 존재감이 사라진대다 한번씩 하는 말...</td>\n",
       "      <td>0</td>\n",
       "      <td>[]</td>\n",
       "    </tr>\n",
       "    <tr>\n",
       "      <th>244</th>\n",
       "      <td>보배드림</td>\n",
       "      <td>이재명</td>\n",
       "      <td>이낙연이 싫고 이재명이 싫어도 국짐당은 절대 안찍는다[4]</td>\n",
       "      <td>최트로이</td>\n",
       "      <td>https://www.bobaedream.co.kr/view?code=politic...</td>\n",
       "      <td>2021.01.01</td>\n",
       "      <td>207</td>\n",
       "      <td>3 &amp; 0</td>\n",
       "      <td>이런 마음이면 아무리 언론에서 흔들어대도 흔들리지만 바뀌진않을겁니다</td>\n",
       "      <td>4</td>\n",
       "      <td>['l문재인l : 그람요~ 절대안되지라~니덜 좋아죽는 김정은 찍으심되지라~', '맹...</td>\n",
       "    </tr>\n",
       "    <tr>\n",
       "      <th>245</th>\n",
       "      <td>보배드림</td>\n",
       "      <td>이재명</td>\n",
       "      <td>이재명 코인탑승 완료.[7]</td>\n",
       "      <td>흑백논리파괴자</td>\n",
       "      <td>https://www.bobaedream.co.kr/view?code=politic...</td>\n",
       "      <td>2021.01.01</td>\n",
       "      <td>274</td>\n",
       "      <td>6 &amp; 0</td>\n",
       "      <td>오늘부로 탑승완료.지금은 책사보다 검투사가 필요하다는게 제 결론.</td>\n",
       "      <td>6</td>\n",
       "      <td>['Uhlalala : 이재명같이 미쳐 날뛰면 지금 문정권의 패거리들보다 해악이 백...</td>\n",
       "    </tr>\n",
       "  </tbody>\n",
       "</table>\n",
       "<p>246 rows × 11 columns</p>\n",
       "</div>"
      ],
      "text/plain": [
       "    domain keyword                                  title    writer  \\\n",
       "0     보배드림     이낙연               넣어흥은 왜 아직도 이낙연을 지지하는겨[4]    국민웨건볼보   \n",
       "1     보배드림     이낙연                  이낙연 지지율 40%대에서 7%로[8]       푸를청   \n",
       "2     보배드림     이낙연      나라다운 나라 만들었는지\"...반성하며 靑과 거리 둔 이낙연       보배다   \n",
       "3     보배드림     이낙연        '박원순 재평가' 원하는 與 일각…박영선·이낙연 '난감'      pdbd   \n",
       "4     보배드림     이낙연  이낙연 “국민 여러분, 도와주십시오”…與, 냉담한 여론에 ‘읍[2]  문재앙탄핵연구소   \n",
       "..     ...     ...                                    ...       ...   \n",
       "241   보배드림     이재명            첫 30%대 지지율 기록… 2위 이재명 20.3%  Uhlalala   \n",
       "242   보배드림     이재명       '안착' 이재명 '단단한' 윤석열 '바쁜' 이낙연..[2]       장칼빈   \n",
       "243   보배드림     이재명        이재명은 지금 그냥 가만히 있으면 알아서 지지율 오르겠네      최트로이   \n",
       "244   보배드림     이재명       이낙연이 싫고 이재명이 싫어도 국짐당은 절대 안찍는다[4]      최트로이   \n",
       "245   보배드림     이재명                        이재명 코인탑승 완료.[7]   흑백논리파괴자   \n",
       "\n",
       "                                                   url         time  view_cnt  \\\n",
       "0    https://www.bobaedream.co.kr/view?code=politic...   2021.04.03       115   \n",
       "1    https://www.bobaedream.co.kr/view?code=politic...   2021.04.03       196   \n",
       "2    https://www.bobaedream.co.kr/view?code=politic...   2021.04.01        60   \n",
       "3    https://www.bobaedream.co.kr/view?code=politic...   2021.03.25        94   \n",
       "4    https://www.bobaedream.co.kr/view?code=politic...   2021.03.25       136   \n",
       "..                                                 ...          ...       ...   \n",
       "241  https://www.bobaedream.co.kr/view?code=politic...   2021.01.03       141   \n",
       "242  https://www.bobaedream.co.kr/view?code=politic...   2021.01.03       161   \n",
       "243  https://www.bobaedream.co.kr/view?code=politic...   2021.01.02       165   \n",
       "244  https://www.bobaedream.co.kr/view?code=politic...   2021.01.01       207   \n",
       "245  https://www.bobaedream.co.kr/view?code=politic...   2021.01.01       274   \n",
       "\n",
       "    like_cnt                                          user_text  com_cnt  \\\n",
       "0      0 & 0                                        우리 같이 지지할래?        4   \n",
       "1      0 & 0  한때 이낙연 지지율이 40%대에 이른적이 있었죠.....총리시절인가? ?그때였을 겁...        6   \n",
       "2      5 & 0  https://news.naver.com/main/read.nhn?mode=LSD&...        0   \n",
       "3      6 & 0  더듬어만진당 지도층과 그 지지자들 수준이란 가관이다. 등신들.'박원순 옹호' 임종석...        0   \n",
       "4      4 & 0  이 위원장은?25일 자신의?SNS를 통해 “앞으로 가자는 후보와, 뒤로 가자는 후보...        0   \n",
       "..       ...                                                ...      ...   \n",
       "241    3 & 0  첫 30%대 지지율 기록… 2위 이재명 20.3%http://www.segye.co...        0   \n",
       "242    0 & 0        https://news.v.daum.net/v/20210103055555933        2   \n",
       "243    3 & 0  이낙연이 알아서 내려가겠다는데?당대표 되고 그냥 존재감이 사라진대다 한번씩 하는 말...        0   \n",
       "244    3 & 0              이런 마음이면 아무리 언론에서 흔들어대도 흔들리지만 바뀌진않을겁니다        4   \n",
       "245    6 & 0               오늘부로 탑승완료.지금은 책사보다 검투사가 필요하다는게 제 결론.        6   \n",
       "\n",
       "                                              com_text  \n",
       "0    ['당구장박사님짱 : 다마네기 이낙연 빨땐 언제고ㅋㅋ', 'colt69 : 이낙연은...  \n",
       "1    ['국민웨건볼보 : 문재인 대통령 적통은 이낙연밖에 없습니다.진골도 아닌 성골입니다...  \n",
       "2                                                   []  \n",
       "3                                                   []  \n",
       "4                                                   []  \n",
       "..                                                 ...  \n",
       "241                                                 []  \n",
       "242  ['도넛 : 작년 9월 설문...', '장칼빈 : https://news.v.dau...  \n",
       "243                                                 []  \n",
       "244  ['l문재인l : 그람요~ 절대안되지라~니덜 좋아죽는 김정은 찍으심되지라~', '맹...  \n",
       "245  ['Uhlalala : 이재명같이 미쳐 날뛰면 지금 문정권의 패거리들보다 해악이 백...  \n",
       "\n",
       "[246 rows x 11 columns]"
      ]
     },
     "execution_count": 16,
     "metadata": {},
     "output_type": "execute_result"
    }
   ],
   "source": [
    "df3"
   ]
  },
  {
   "cell_type": "code",
   "execution_count": 21,
   "metadata": {},
   "outputs": [
    {
     "name": "stderr",
     "output_type": "stream",
     "text": [
      "<ipython-input-21-de9250e86a78>:14: SettingWithCopyWarning: \n",
      "A value is trying to be set on a copy of a slice from a DataFrame\n",
      "\n",
      "See the caveats in the documentation: https://pandas.pydata.org/pandas-docs/stable/user_guide/indexing.html#returning-a-view-versus-a-copy\n",
      "  df_old['count'][i] = len( [  x for x in df['writer'] if x == df_old['name'][i]  ])\n"
     ]
    },
    {
     "data": {
      "text/html": [
       "<div>\n",
       "<style scoped>\n",
       "    .dataframe tbody tr th:only-of-type {\n",
       "        vertical-align: middle;\n",
       "    }\n",
       "\n",
       "    .dataframe tbody tr th {\n",
       "        vertical-align: top;\n",
       "    }\n",
       "\n",
       "    .dataframe thead th {\n",
       "        text-align: right;\n",
       "    }\n",
       "</style>\n",
       "<table border=\"1\" class=\"dataframe\">\n",
       "  <thead>\n",
       "    <tr style=\"text-align: right;\">\n",
       "      <th></th>\n",
       "      <th>딴지name</th>\n",
       "      <th>딴지count</th>\n",
       "      <th>클리앙name</th>\n",
       "      <th>클리앙count</th>\n",
       "      <th>보배드림name</th>\n",
       "      <th>보배드림count</th>\n",
       "    </tr>\n",
       "  </thead>\n",
       "  <tbody>\n",
       "    <tr>\n",
       "      <th>0</th>\n",
       "      <td>서둘</td>\n",
       "      <td>224</td>\n",
       "      <td>대머리찰스</td>\n",
       "      <td>63</td>\n",
       "      <td>보배다</td>\n",
       "      <td>14</td>\n",
       "    </tr>\n",
       "    <tr>\n",
       "      <th>1</th>\n",
       "      <td>realreality</td>\n",
       "      <td>83</td>\n",
       "      <td>kagajotaro</td>\n",
       "      <td>54</td>\n",
       "      <td>이웃과함께</td>\n",
       "      <td>13</td>\n",
       "    </tr>\n",
       "    <tr>\n",
       "      <th>2</th>\n",
       "      <td>지안군</td>\n",
       "      <td>71</td>\n",
       "      <td>Castle</td>\n",
       "      <td>39</td>\n",
       "      <td>치킨데이</td>\n",
       "      <td>11</td>\n",
       "    </tr>\n",
       "    <tr>\n",
       "      <th>3</th>\n",
       "      <td>로이거</td>\n",
       "      <td>59</td>\n",
       "      <td>Goodwillfind</td>\n",
       "      <td>34</td>\n",
       "      <td>뉘링부르2</td>\n",
       "      <td>10</td>\n",
       "    </tr>\n",
       "    <tr>\n",
       "      <th>4</th>\n",
       "      <td>기이임밥</td>\n",
       "      <td>53</td>\n",
       "      <td>sian</td>\n",
       "      <td>32</td>\n",
       "      <td>복수는처절하게</td>\n",
       "      <td>10</td>\n",
       "    </tr>\n",
       "    <tr>\n",
       "      <th>5</th>\n",
       "      <td>빵꾸뿡뿡</td>\n",
       "      <td>48</td>\n",
       "      <td>love114</td>\n",
       "      <td>32</td>\n",
       "      <td>달려누냐</td>\n",
       "      <td>9</td>\n",
       "    </tr>\n",
       "    <tr>\n",
       "      <th>6</th>\n",
       "      <td>홀리파워</td>\n",
       "      <td>47</td>\n",
       "      <td>blowtorch</td>\n",
       "      <td>27</td>\n",
       "      <td>Natureman</td>\n",
       "      <td>8</td>\n",
       "    </tr>\n",
       "    <tr>\n",
       "      <th>7</th>\n",
       "      <td>'soulking'</td>\n",
       "      <td>47</td>\n",
       "      <td>코쿠</td>\n",
       "      <td>24</td>\n",
       "      <td>닉네임없음3</td>\n",
       "      <td>6</td>\n",
       "    </tr>\n",
       "    <tr>\n",
       "      <th>8</th>\n",
       "      <td>하긔개새끠무새</td>\n",
       "      <td>45</td>\n",
       "      <td>똥간귀신</td>\n",
       "      <td>23</td>\n",
       "      <td>흑백논리파괴자</td>\n",
       "      <td>6</td>\n",
       "    </tr>\n",
       "    <tr>\n",
       "      <th>9</th>\n",
       "      <td>MastarG</td>\n",
       "      <td>41</td>\n",
       "      <td>역사의시작</td>\n",
       "      <td>22</td>\n",
       "      <td>l문재인l</td>\n",
       "      <td>6</td>\n",
       "    </tr>\n",
       "  </tbody>\n",
       "</table>\n",
       "</div>"
      ],
      "text/plain": [
       "        딴지name  딴지count       클리앙name  클리앙count   보배드림name  보배드림count\n",
       "0           서둘      224         대머리찰스        63        보배다         14\n",
       "1  realreality       83    kagajotaro        54      이웃과함께         13\n",
       "2          지안군       71        Castle        39       치킨데이         11\n",
       "3          로이거       59  Goodwillfind        34      뉘링부르2         10\n",
       "4         기이임밥       53          sian        32    복수는처절하게         10\n",
       "5         빵꾸뿡뿡       48       love114        32       달려누냐          9\n",
       "6         홀리파워       47     blowtorch        27  Natureman          8\n",
       "7   'soulking'       47            코쿠        24     닉네임없음3          6\n",
       "8      하긔개새끠무새       45          똥간귀신        23    흑백논리파괴자          6\n",
       "9      MastarG       41         역사의시작        22      l문재인l          6"
      ]
     },
     "execution_count": 21,
     "metadata": {},
     "output_type": "execute_result"
    }
   ],
   "source": [
    "# 상위 유저 파악\n",
    "\n",
    "df_list = [df1, df2, df3]\n",
    "\n",
    "df_new = pd.DataFrame()\n",
    "\n",
    "for df in df_list :\n",
    "    domain = df['domain'][0]\n",
    "    name_list = df.writer.unique().tolist()\n",
    "    df_old = pd.DataFrame()\n",
    "    df_old['name'] = pd.Series(name_list)\n",
    "    df_old['count'] = 1\n",
    "    for i in range(len(df_old)) :\n",
    "        df_old['count'][i] = len( [  x for x in df['writer'] if x == df_old['name'][i]  ])\n",
    "    \n",
    "    df_old.sort_values(by='count', inplace=True, ascending=False)\n",
    "    df_old.reset_index(drop=True, inplace=True)\n",
    "    \n",
    "    df_new[domain+'name'] = df_old['name'][:10]\n",
    "    df_new[domain+'count'] = df_old['count'][:10]\n",
    "\n",
    "df_new"
   ]
  },
  {
   "cell_type": "code",
   "execution_count": 10,
   "metadata": {},
   "outputs": [
    {
     "data": {
      "text/html": [
       "<div>\n",
       "<style scoped>\n",
       "    .dataframe tbody tr th:only-of-type {\n",
       "        vertical-align: middle;\n",
       "    }\n",
       "\n",
       "    .dataframe tbody tr th {\n",
       "        vertical-align: top;\n",
       "    }\n",
       "\n",
       "    .dataframe thead th {\n",
       "        text-align: right;\n",
       "    }\n",
       "</style>\n",
       "<table border=\"1\" class=\"dataframe\">\n",
       "  <thead>\n",
       "    <tr style=\"text-align: right;\">\n",
       "      <th></th>\n",
       "      <th>domain</th>\n",
       "      <th>keyword</th>\n",
       "      <th>date</th>\n",
       "      <th>user_name</th>\n",
       "      <th>user_text</th>\n",
       "    </tr>\n",
       "  </thead>\n",
       "  <tbody>\n",
       "    <tr>\n",
       "      <th>0</th>\n",
       "      <td>twitter</td>\n",
       "      <td>윤석열+x파일</td>\n",
       "      <td>2021-06-17</td>\n",
       "      <td>N24</td>\n",
       "      <td>이재명 같은걸 밀면서윤석열X파일같은 소리 하고 있다.트윗 인용하기허연바람™6월 17...</td>\n",
       "    </tr>\n",
       "    <tr>\n",
       "      <th>1</th>\n",
       "      <td>twitter</td>\n",
       "      <td>윤석열+x파일</td>\n",
       "      <td>2021-06-17</td>\n",
       "      <td>조국의시간</td>\n",
       "      <td>윤석열x파일이 어디</td>\n",
       "    </tr>\n",
       "    <tr>\n",
       "      <th>2</th>\n",
       "      <td>twitter</td>\n",
       "      <td>윤석열+x파일</td>\n",
       "      <td>2021-06-17</td>\n",
       "      <td>담비</td>\n",
       "      <td>추미애 전 법무부 장관 -대담집 통해 미완의 상태 검찰 개혁 언급할 것 -추-윤 갈...</td>\n",
       "    </tr>\n",
       "    <tr>\n",
       "      <th>3</th>\n",
       "      <td>twitter</td>\n",
       "      <td>윤석열+x파일</td>\n",
       "      <td>2021-06-17</td>\n",
       "      <td>시라소니</td>\n",
       "      <td>윤석열X 파일난 떳떳해 충격! 추미애 검찰당 후보 곧 허상 보게된다!https://...</td>\n",
       "    </tr>\n",
       "    <tr>\n",
       "      <th>4</th>\n",
       "      <td>twitter</td>\n",
       "      <td>윤석열+x파일</td>\n",
       "      <td>2021-06-17</td>\n",
       "      <td>커리커리</td>\n",
       "      <td>송영길 \"윤석열X파일, 이명박 BBK처럼 野 경선서 밝혀질 것\"  이 병신봐라 이명...</td>\n",
       "    </tr>\n",
       "    <tr>\n",
       "      <th>...</th>\n",
       "      <td>...</td>\n",
       "      <td>...</td>\n",
       "      <td>...</td>\n",
       "      <td>...</td>\n",
       "      <td>...</td>\n",
       "    </tr>\n",
       "    <tr>\n",
       "      <th>1034</th>\n",
       "      <td>twitter</td>\n",
       "      <td>윤석열+x파일</td>\n",
       "      <td>2021-06-23</td>\n",
       "      <td>min</td>\n",
       "      <td>어제 유재일씨가 먼저 알린  그분이구만.. 열린공감tv 열린민주당 관계단체이라던데....</td>\n",
       "    </tr>\n",
       "    <tr>\n",
       "      <th>1035</th>\n",
       "      <td>twitter</td>\n",
       "      <td>윤석열+x파일</td>\n",
       "      <td>2021-06-24</td>\n",
       "      <td>이청산</td>\n",
       "      <td>[폴리뉴스] [유창선 칼럼]윤석열X파일, ‘생태탕 선거’의 연장전 되지 않기를[유창...</td>\n",
       "    </tr>\n",
       "    <tr>\n",
       "      <th>1036</th>\n",
       "      <td>twitter</td>\n",
       "      <td>윤석열+x파일</td>\n",
       "      <td>2021-06-23</td>\n",
       "      <td>국민일보</td>\n",
       "      <td>장성철 \"'윤석열X파일', 사찰 · 공작 아니다…문건 파기할 것\"#SBS뉴스장성철 ...</td>\n",
       "    </tr>\n",
       "    <tr>\n",
       "      <th>1037</th>\n",
       "      <td>twitter</td>\n",
       "      <td>윤석열+x파일</td>\n",
       "      <td>2021-06-24</td>\n",
       "      <td>TIOT 박원순,가습기살균제 피해자들과 함께 합니다</td>\n",
       "      <td>틀렸습니다. 친여성향이 아니고 친이성향이겠죠. 친여와 친이는 매우 다릅니다.  '윤...</td>\n",
       "    </tr>\n",
       "    <tr>\n",
       "      <th>1038</th>\n",
       "      <td>twitter</td>\n",
       "      <td>윤석열+x파일</td>\n",
       "      <td>2021-06-23</td>\n",
       "      <td>종편 채널A TV조선 OUT</td>\n",
       "      <td>YouTube에서 '이거 끝났네~ 이준석 항복 할까, 마에스트로 동기의 폭로 육성 ...</td>\n",
       "    </tr>\n",
       "  </tbody>\n",
       "</table>\n",
       "<p>1039 rows × 5 columns</p>\n",
       "</div>"
      ],
      "text/plain": [
       "       domain  keyword        date                     user_name  \\\n",
       "0     twitter  윤석열+x파일  2021-06-17                           N24   \n",
       "1     twitter  윤석열+x파일  2021-06-17                         조국의시간   \n",
       "2     twitter  윤석열+x파일  2021-06-17                            담비   \n",
       "3     twitter  윤석열+x파일  2021-06-17                          시라소니   \n",
       "4     twitter  윤석열+x파일  2021-06-17                          커리커리   \n",
       "...       ...      ...         ...                           ...   \n",
       "1034  twitter  윤석열+x파일  2021-06-23                           min   \n",
       "1035  twitter  윤석열+x파일  2021-06-24                           이청산   \n",
       "1036  twitter  윤석열+x파일  2021-06-23                          국민일보   \n",
       "1037  twitter  윤석열+x파일  2021-06-24  TIOT 박원순,가습기살균제 피해자들과 함께 합니다   \n",
       "1038  twitter  윤석열+x파일  2021-06-23               종편 채널A TV조선 OUT   \n",
       "\n",
       "                                              user_text  \n",
       "0     이재명 같은걸 밀면서윤석열X파일같은 소리 하고 있다.트윗 인용하기허연바람™6월 17...  \n",
       "1                                            윤석열x파일이 어디  \n",
       "2     추미애 전 법무부 장관 -대담집 통해 미완의 상태 검찰 개혁 언급할 것 -추-윤 갈...  \n",
       "3     윤석열X 파일난 떳떳해 충격! 추미애 검찰당 후보 곧 허상 보게된다!https://...  \n",
       "4     송영길 \"윤석열X파일, 이명박 BBK처럼 野 경선서 밝혀질 것\"  이 병신봐라 이명...  \n",
       "...                                                 ...  \n",
       "1034  어제 유재일씨가 먼저 알린  그분이구만.. 열린공감tv 열린민주당 관계단체이라던데....  \n",
       "1035  [폴리뉴스] [유창선 칼럼]윤석열X파일, ‘생태탕 선거’의 연장전 되지 않기를[유창...  \n",
       "1036  장성철 \"'윤석열X파일', 사찰 · 공작 아니다…문건 파기할 것\"#SBS뉴스장성철 ...  \n",
       "1037  틀렸습니다. 친여성향이 아니고 친이성향이겠죠. 친여와 친이는 매우 다릅니다.  '윤...  \n",
       "1038  YouTube에서 '이거 끝났네~ 이준석 항복 할까, 마에스트로 동기의 폭로 육성 ...  \n",
       "\n",
       "[1039 rows x 5 columns]"
      ]
     },
     "execution_count": 10,
     "metadata": {},
     "output_type": "execute_result"
    }
   ],
   "source": [
    "df = pd.read_csv(\"xfile_twitter.csv\")\n",
    "df"
   ]
  },
  {
   "cell_type": "code",
   "execution_count": 9,
   "metadata": {},
   "outputs": [
    {
     "data": {
      "text/plain": [
       "이재명              7966\n",
       "X파일              6317\n",
       "이낙연              5252\n",
       "정세균              4953\n",
       "국민의힘+부동산+전수조사     699\n",
       "Name: keyword, dtype: int64"
      ]
     },
     "execution_count": 9,
     "metadata": {},
     "output_type": "execute_result"
    }
   ],
   "source": [
    "df.keyword.value_counts()"
   ]
  },
  {
   "cell_type": "code",
   "execution_count": null,
   "metadata": {},
   "outputs": [],
   "source": [
    "import plotly.graph_objects as go\n",
    "\n",
    "fig =go.Figure(go.Sunburst(\n",
    "    labels=[\"youtube\", \"딴지방송국\", \"[공식]새날\", \"이동형tv\", \"김용민tv\", \"김성회의 옳은소리\", \"알리미 황희두\", \"박시영tv\"],\n",
    "    parents=[\"\", \"youtube\", \"youtube\", \"youtube\", \"youtube\", \"youtube\", \"youtube\", \"youtube\"],\n",
    "    values=[14434,808,4693,1121,1191,531,5617,473],\n",
    "    textinfo= 'label+value+percent entry',\n",
    "    branchvalues= \"total\"))\n",
    "\n",
    "fig= fig.update_layout(title_text=\"community\",margin = dict(t=100, l=10, r=100, b=100))\n",
    "fig.show()"
   ]
  },
  {
   "cell_type": "code",
   "execution_count": 20,
   "metadata": {},
   "outputs": [
    {
     "data": {
      "application/vnd.plotly.v1+json": {
       "config": {
        "plotlyServerURL": "https://plot.ly"
       },
       "data": [
        {
         "branchvalues": "total",
         "labels": [
          "youtube",
          "딴지방송국",
          "[공식]새날",
          "이동형tv",
          "김용민tv",
          "김성회의 옳은소리",
          "알리미 황희두",
          "박시영tv"
         ],
         "parents": [
          "",
          "youtube",
          "youtube",
          "youtube",
          "youtube",
          "youtube",
          "youtube",
          "youtube"
         ],
         "textinfo": "label+value+percent entry",
         "type": "sunburst",
         "values": [
          14434,
          808,
          4693,
          1121,
          1191,
          531,
          5617,
          473
         ]
        }
       ],
       "layout": {
        "margin": {
         "b": 100,
         "l": 10,
         "r": 100,
         "t": 100
        },
        "template": {
         "data": {
          "bar": [
           {
            "error_x": {
             "color": "#2a3f5f"
            },
            "error_y": {
             "color": "#2a3f5f"
            },
            "marker": {
             "line": {
              "color": "#E5ECF6",
              "width": 0.5
             }
            },
            "type": "bar"
           }
          ],
          "barpolar": [
           {
            "marker": {
             "line": {
              "color": "#E5ECF6",
              "width": 0.5
             }
            },
            "type": "barpolar"
           }
          ],
          "carpet": [
           {
            "aaxis": {
             "endlinecolor": "#2a3f5f",
             "gridcolor": "white",
             "linecolor": "white",
             "minorgridcolor": "white",
             "startlinecolor": "#2a3f5f"
            },
            "baxis": {
             "endlinecolor": "#2a3f5f",
             "gridcolor": "white",
             "linecolor": "white",
             "minorgridcolor": "white",
             "startlinecolor": "#2a3f5f"
            },
            "type": "carpet"
           }
          ],
          "choropleth": [
           {
            "colorbar": {
             "outlinewidth": 0,
             "ticks": ""
            },
            "type": "choropleth"
           }
          ],
          "contour": [
           {
            "colorbar": {
             "outlinewidth": 0,
             "ticks": ""
            },
            "colorscale": [
             [
              0,
              "#0d0887"
             ],
             [
              0.1111111111111111,
              "#46039f"
             ],
             [
              0.2222222222222222,
              "#7201a8"
             ],
             [
              0.3333333333333333,
              "#9c179e"
             ],
             [
              0.4444444444444444,
              "#bd3786"
             ],
             [
              0.5555555555555556,
              "#d8576b"
             ],
             [
              0.6666666666666666,
              "#ed7953"
             ],
             [
              0.7777777777777778,
              "#fb9f3a"
             ],
             [
              0.8888888888888888,
              "#fdca26"
             ],
             [
              1,
              "#f0f921"
             ]
            ],
            "type": "contour"
           }
          ],
          "contourcarpet": [
           {
            "colorbar": {
             "outlinewidth": 0,
             "ticks": ""
            },
            "type": "contourcarpet"
           }
          ],
          "heatmap": [
           {
            "colorbar": {
             "outlinewidth": 0,
             "ticks": ""
            },
            "colorscale": [
             [
              0,
              "#0d0887"
             ],
             [
              0.1111111111111111,
              "#46039f"
             ],
             [
              0.2222222222222222,
              "#7201a8"
             ],
             [
              0.3333333333333333,
              "#9c179e"
             ],
             [
              0.4444444444444444,
              "#bd3786"
             ],
             [
              0.5555555555555556,
              "#d8576b"
             ],
             [
              0.6666666666666666,
              "#ed7953"
             ],
             [
              0.7777777777777778,
              "#fb9f3a"
             ],
             [
              0.8888888888888888,
              "#fdca26"
             ],
             [
              1,
              "#f0f921"
             ]
            ],
            "type": "heatmap"
           }
          ],
          "heatmapgl": [
           {
            "colorbar": {
             "outlinewidth": 0,
             "ticks": ""
            },
            "colorscale": [
             [
              0,
              "#0d0887"
             ],
             [
              0.1111111111111111,
              "#46039f"
             ],
             [
              0.2222222222222222,
              "#7201a8"
             ],
             [
              0.3333333333333333,
              "#9c179e"
             ],
             [
              0.4444444444444444,
              "#bd3786"
             ],
             [
              0.5555555555555556,
              "#d8576b"
             ],
             [
              0.6666666666666666,
              "#ed7953"
             ],
             [
              0.7777777777777778,
              "#fb9f3a"
             ],
             [
              0.8888888888888888,
              "#fdca26"
             ],
             [
              1,
              "#f0f921"
             ]
            ],
            "type": "heatmapgl"
           }
          ],
          "histogram": [
           {
            "marker": {
             "colorbar": {
              "outlinewidth": 0,
              "ticks": ""
             }
            },
            "type": "histogram"
           }
          ],
          "histogram2d": [
           {
            "colorbar": {
             "outlinewidth": 0,
             "ticks": ""
            },
            "colorscale": [
             [
              0,
              "#0d0887"
             ],
             [
              0.1111111111111111,
              "#46039f"
             ],
             [
              0.2222222222222222,
              "#7201a8"
             ],
             [
              0.3333333333333333,
              "#9c179e"
             ],
             [
              0.4444444444444444,
              "#bd3786"
             ],
             [
              0.5555555555555556,
              "#d8576b"
             ],
             [
              0.6666666666666666,
              "#ed7953"
             ],
             [
              0.7777777777777778,
              "#fb9f3a"
             ],
             [
              0.8888888888888888,
              "#fdca26"
             ],
             [
              1,
              "#f0f921"
             ]
            ],
            "type": "histogram2d"
           }
          ],
          "histogram2dcontour": [
           {
            "colorbar": {
             "outlinewidth": 0,
             "ticks": ""
            },
            "colorscale": [
             [
              0,
              "#0d0887"
             ],
             [
              0.1111111111111111,
              "#46039f"
             ],
             [
              0.2222222222222222,
              "#7201a8"
             ],
             [
              0.3333333333333333,
              "#9c179e"
             ],
             [
              0.4444444444444444,
              "#bd3786"
             ],
             [
              0.5555555555555556,
              "#d8576b"
             ],
             [
              0.6666666666666666,
              "#ed7953"
             ],
             [
              0.7777777777777778,
              "#fb9f3a"
             ],
             [
              0.8888888888888888,
              "#fdca26"
             ],
             [
              1,
              "#f0f921"
             ]
            ],
            "type": "histogram2dcontour"
           }
          ],
          "mesh3d": [
           {
            "colorbar": {
             "outlinewidth": 0,
             "ticks": ""
            },
            "type": "mesh3d"
           }
          ],
          "parcoords": [
           {
            "line": {
             "colorbar": {
              "outlinewidth": 0,
              "ticks": ""
             }
            },
            "type": "parcoords"
           }
          ],
          "pie": [
           {
            "automargin": true,
            "type": "pie"
           }
          ],
          "scatter": [
           {
            "marker": {
             "colorbar": {
              "outlinewidth": 0,
              "ticks": ""
             }
            },
            "type": "scatter"
           }
          ],
          "scatter3d": [
           {
            "line": {
             "colorbar": {
              "outlinewidth": 0,
              "ticks": ""
             }
            },
            "marker": {
             "colorbar": {
              "outlinewidth": 0,
              "ticks": ""
             }
            },
            "type": "scatter3d"
           }
          ],
          "scattercarpet": [
           {
            "marker": {
             "colorbar": {
              "outlinewidth": 0,
              "ticks": ""
             }
            },
            "type": "scattercarpet"
           }
          ],
          "scattergeo": [
           {
            "marker": {
             "colorbar": {
              "outlinewidth": 0,
              "ticks": ""
             }
            },
            "type": "scattergeo"
           }
          ],
          "scattergl": [
           {
            "marker": {
             "colorbar": {
              "outlinewidth": 0,
              "ticks": ""
             }
            },
            "type": "scattergl"
           }
          ],
          "scattermapbox": [
           {
            "marker": {
             "colorbar": {
              "outlinewidth": 0,
              "ticks": ""
             }
            },
            "type": "scattermapbox"
           }
          ],
          "scatterpolar": [
           {
            "marker": {
             "colorbar": {
              "outlinewidth": 0,
              "ticks": ""
             }
            },
            "type": "scatterpolar"
           }
          ],
          "scatterpolargl": [
           {
            "marker": {
             "colorbar": {
              "outlinewidth": 0,
              "ticks": ""
             }
            },
            "type": "scatterpolargl"
           }
          ],
          "scatterternary": [
           {
            "marker": {
             "colorbar": {
              "outlinewidth": 0,
              "ticks": ""
             }
            },
            "type": "scatterternary"
           }
          ],
          "surface": [
           {
            "colorbar": {
             "outlinewidth": 0,
             "ticks": ""
            },
            "colorscale": [
             [
              0,
              "#0d0887"
             ],
             [
              0.1111111111111111,
              "#46039f"
             ],
             [
              0.2222222222222222,
              "#7201a8"
             ],
             [
              0.3333333333333333,
              "#9c179e"
             ],
             [
              0.4444444444444444,
              "#bd3786"
             ],
             [
              0.5555555555555556,
              "#d8576b"
             ],
             [
              0.6666666666666666,
              "#ed7953"
             ],
             [
              0.7777777777777778,
              "#fb9f3a"
             ],
             [
              0.8888888888888888,
              "#fdca26"
             ],
             [
              1,
              "#f0f921"
             ]
            ],
            "type": "surface"
           }
          ],
          "table": [
           {
            "cells": {
             "fill": {
              "color": "#EBF0F8"
             },
             "line": {
              "color": "white"
             }
            },
            "header": {
             "fill": {
              "color": "#C8D4E3"
             },
             "line": {
              "color": "white"
             }
            },
            "type": "table"
           }
          ]
         },
         "layout": {
          "annotationdefaults": {
           "arrowcolor": "#2a3f5f",
           "arrowhead": 0,
           "arrowwidth": 1
          },
          "autotypenumbers": "strict",
          "coloraxis": {
           "colorbar": {
            "outlinewidth": 0,
            "ticks": ""
           }
          },
          "colorscale": {
           "diverging": [
            [
             0,
             "#8e0152"
            ],
            [
             0.1,
             "#c51b7d"
            ],
            [
             0.2,
             "#de77ae"
            ],
            [
             0.3,
             "#f1b6da"
            ],
            [
             0.4,
             "#fde0ef"
            ],
            [
             0.5,
             "#f7f7f7"
            ],
            [
             0.6,
             "#e6f5d0"
            ],
            [
             0.7,
             "#b8e186"
            ],
            [
             0.8,
             "#7fbc41"
            ],
            [
             0.9,
             "#4d9221"
            ],
            [
             1,
             "#276419"
            ]
           ],
           "sequential": [
            [
             0,
             "#0d0887"
            ],
            [
             0.1111111111111111,
             "#46039f"
            ],
            [
             0.2222222222222222,
             "#7201a8"
            ],
            [
             0.3333333333333333,
             "#9c179e"
            ],
            [
             0.4444444444444444,
             "#bd3786"
            ],
            [
             0.5555555555555556,
             "#d8576b"
            ],
            [
             0.6666666666666666,
             "#ed7953"
            ],
            [
             0.7777777777777778,
             "#fb9f3a"
            ],
            [
             0.8888888888888888,
             "#fdca26"
            ],
            [
             1,
             "#f0f921"
            ]
           ],
           "sequentialminus": [
            [
             0,
             "#0d0887"
            ],
            [
             0.1111111111111111,
             "#46039f"
            ],
            [
             0.2222222222222222,
             "#7201a8"
            ],
            [
             0.3333333333333333,
             "#9c179e"
            ],
            [
             0.4444444444444444,
             "#bd3786"
            ],
            [
             0.5555555555555556,
             "#d8576b"
            ],
            [
             0.6666666666666666,
             "#ed7953"
            ],
            [
             0.7777777777777778,
             "#fb9f3a"
            ],
            [
             0.8888888888888888,
             "#fdca26"
            ],
            [
             1,
             "#f0f921"
            ]
           ]
          },
          "colorway": [
           "#636efa",
           "#EF553B",
           "#00cc96",
           "#ab63fa",
           "#FFA15A",
           "#19d3f3",
           "#FF6692",
           "#B6E880",
           "#FF97FF",
           "#FECB52"
          ],
          "font": {
           "color": "#2a3f5f"
          },
          "geo": {
           "bgcolor": "white",
           "lakecolor": "white",
           "landcolor": "#E5ECF6",
           "showlakes": true,
           "showland": true,
           "subunitcolor": "white"
          },
          "hoverlabel": {
           "align": "left"
          },
          "hovermode": "closest",
          "mapbox": {
           "style": "light"
          },
          "paper_bgcolor": "white",
          "plot_bgcolor": "#E5ECF6",
          "polar": {
           "angularaxis": {
            "gridcolor": "white",
            "linecolor": "white",
            "ticks": ""
           },
           "bgcolor": "#E5ECF6",
           "radialaxis": {
            "gridcolor": "white",
            "linecolor": "white",
            "ticks": ""
           }
          },
          "scene": {
           "xaxis": {
            "backgroundcolor": "#E5ECF6",
            "gridcolor": "white",
            "gridwidth": 2,
            "linecolor": "white",
            "showbackground": true,
            "ticks": "",
            "zerolinecolor": "white"
           },
           "yaxis": {
            "backgroundcolor": "#E5ECF6",
            "gridcolor": "white",
            "gridwidth": 2,
            "linecolor": "white",
            "showbackground": true,
            "ticks": "",
            "zerolinecolor": "white"
           },
           "zaxis": {
            "backgroundcolor": "#E5ECF6",
            "gridcolor": "white",
            "gridwidth": 2,
            "linecolor": "white",
            "showbackground": true,
            "ticks": "",
            "zerolinecolor": "white"
           }
          },
          "shapedefaults": {
           "line": {
            "color": "#2a3f5f"
           }
          },
          "ternary": {
           "aaxis": {
            "gridcolor": "white",
            "linecolor": "white",
            "ticks": ""
           },
           "baxis": {
            "gridcolor": "white",
            "linecolor": "white",
            "ticks": ""
           },
           "bgcolor": "#E5ECF6",
           "caxis": {
            "gridcolor": "white",
            "linecolor": "white",
            "ticks": ""
           }
          },
          "title": {
           "x": 0.05
          },
          "xaxis": {
           "automargin": true,
           "gridcolor": "white",
           "linecolor": "white",
           "ticks": "",
           "title": {
            "standoff": 15
           },
           "zerolinecolor": "white",
           "zerolinewidth": 2
          },
          "yaxis": {
           "automargin": true,
           "gridcolor": "white",
           "linecolor": "white",
           "ticks": "",
           "title": {
            "standoff": 15
           },
           "zerolinecolor": "white",
           "zerolinewidth": 2
          }
         }
        },
        "title": {
         "text": "community"
        }
       }
      },
      "text/html": [
       "<div>                            <div id=\"24606d3a-80fe-49f6-80c1-031498ad5d53\" class=\"plotly-graph-div\" style=\"height:525px; width:100%;\"></div>            <script type=\"text/javascript\">                require([\"plotly\"], function(Plotly) {                    window.PLOTLYENV=window.PLOTLYENV || {};                                    if (document.getElementById(\"24606d3a-80fe-49f6-80c1-031498ad5d53\")) {                    Plotly.newPlot(                        \"24606d3a-80fe-49f6-80c1-031498ad5d53\",                        [{\"branchvalues\": \"total\", \"labels\": [\"youtube\", \"\\ub534\\uc9c0\\ubc29\\uc1a1\\uad6d\", \"[\\uacf5\\uc2dd]\\uc0c8\\ub0a0\", \"\\uc774\\ub3d9\\ud615tv\", \"\\uae40\\uc6a9\\ubbfctv\", \"\\uae40\\uc131\\ud68c\\uc758 \\uc633\\uc740\\uc18c\\ub9ac\", \"\\uc54c\\ub9ac\\ubbf8 \\ud669\\ud76c\\ub450\", \"\\ubc15\\uc2dc\\uc601tv\"], \"parents\": [\"\", \"youtube\", \"youtube\", \"youtube\", \"youtube\", \"youtube\", \"youtube\", \"youtube\"], \"textinfo\": \"label+value+percent entry\", \"type\": \"sunburst\", \"values\": [14434, 808, 4693, 1121, 1191, 531, 5617, 473]}],                        {\"margin\": {\"b\": 100, \"l\": 10, \"r\": 100, \"t\": 100}, \"template\": {\"data\": {\"bar\": [{\"error_x\": {\"color\": \"#2a3f5f\"}, \"error_y\": {\"color\": \"#2a3f5f\"}, \"marker\": {\"line\": {\"color\": \"#E5ECF6\", \"width\": 0.5}}, \"type\": \"bar\"}], \"barpolar\": [{\"marker\": {\"line\": {\"color\": \"#E5ECF6\", \"width\": 0.5}}, \"type\": \"barpolar\"}], \"carpet\": [{\"aaxis\": {\"endlinecolor\": \"#2a3f5f\", \"gridcolor\": \"white\", \"linecolor\": \"white\", \"minorgridcolor\": \"white\", \"startlinecolor\": \"#2a3f5f\"}, \"baxis\": {\"endlinecolor\": \"#2a3f5f\", \"gridcolor\": \"white\", \"linecolor\": \"white\", \"minorgridcolor\": \"white\", \"startlinecolor\": \"#2a3f5f\"}, \"type\": \"carpet\"}], \"choropleth\": [{\"colorbar\": {\"outlinewidth\": 0, \"ticks\": \"\"}, \"type\": \"choropleth\"}], \"contour\": [{\"colorbar\": {\"outlinewidth\": 0, \"ticks\": \"\"}, \"colorscale\": [[0.0, \"#0d0887\"], [0.1111111111111111, \"#46039f\"], [0.2222222222222222, \"#7201a8\"], [0.3333333333333333, \"#9c179e\"], [0.4444444444444444, \"#bd3786\"], [0.5555555555555556, \"#d8576b\"], [0.6666666666666666, \"#ed7953\"], [0.7777777777777778, \"#fb9f3a\"], [0.8888888888888888, \"#fdca26\"], [1.0, \"#f0f921\"]], \"type\": \"contour\"}], \"contourcarpet\": [{\"colorbar\": {\"outlinewidth\": 0, \"ticks\": \"\"}, \"type\": \"contourcarpet\"}], \"heatmap\": [{\"colorbar\": {\"outlinewidth\": 0, \"ticks\": \"\"}, \"colorscale\": [[0.0, \"#0d0887\"], [0.1111111111111111, \"#46039f\"], [0.2222222222222222, \"#7201a8\"], [0.3333333333333333, \"#9c179e\"], [0.4444444444444444, \"#bd3786\"], [0.5555555555555556, \"#d8576b\"], [0.6666666666666666, \"#ed7953\"], [0.7777777777777778, \"#fb9f3a\"], [0.8888888888888888, \"#fdca26\"], [1.0, \"#f0f921\"]], \"type\": \"heatmap\"}], \"heatmapgl\": [{\"colorbar\": {\"outlinewidth\": 0, \"ticks\": \"\"}, \"colorscale\": [[0.0, \"#0d0887\"], [0.1111111111111111, \"#46039f\"], [0.2222222222222222, \"#7201a8\"], [0.3333333333333333, \"#9c179e\"], [0.4444444444444444, \"#bd3786\"], [0.5555555555555556, \"#d8576b\"], [0.6666666666666666, \"#ed7953\"], [0.7777777777777778, \"#fb9f3a\"], [0.8888888888888888, \"#fdca26\"], [1.0, \"#f0f921\"]], \"type\": \"heatmapgl\"}], \"histogram\": [{\"marker\": {\"colorbar\": {\"outlinewidth\": 0, \"ticks\": \"\"}}, \"type\": \"histogram\"}], \"histogram2d\": [{\"colorbar\": {\"outlinewidth\": 0, \"ticks\": \"\"}, \"colorscale\": [[0.0, \"#0d0887\"], [0.1111111111111111, \"#46039f\"], [0.2222222222222222, \"#7201a8\"], [0.3333333333333333, \"#9c179e\"], [0.4444444444444444, \"#bd3786\"], [0.5555555555555556, \"#d8576b\"], [0.6666666666666666, \"#ed7953\"], [0.7777777777777778, \"#fb9f3a\"], [0.8888888888888888, \"#fdca26\"], [1.0, \"#f0f921\"]], \"type\": \"histogram2d\"}], \"histogram2dcontour\": [{\"colorbar\": {\"outlinewidth\": 0, \"ticks\": \"\"}, \"colorscale\": [[0.0, \"#0d0887\"], [0.1111111111111111, \"#46039f\"], [0.2222222222222222, \"#7201a8\"], [0.3333333333333333, \"#9c179e\"], [0.4444444444444444, \"#bd3786\"], [0.5555555555555556, \"#d8576b\"], [0.6666666666666666, \"#ed7953\"], [0.7777777777777778, \"#fb9f3a\"], [0.8888888888888888, \"#fdca26\"], [1.0, \"#f0f921\"]], \"type\": \"histogram2dcontour\"}], \"mesh3d\": [{\"colorbar\": {\"outlinewidth\": 0, \"ticks\": \"\"}, \"type\": \"mesh3d\"}], \"parcoords\": [{\"line\": {\"colorbar\": {\"outlinewidth\": 0, \"ticks\": \"\"}}, \"type\": \"parcoords\"}], \"pie\": [{\"automargin\": true, \"type\": \"pie\"}], \"scatter\": [{\"marker\": {\"colorbar\": {\"outlinewidth\": 0, \"ticks\": \"\"}}, \"type\": \"scatter\"}], \"scatter3d\": [{\"line\": {\"colorbar\": {\"outlinewidth\": 0, \"ticks\": \"\"}}, \"marker\": {\"colorbar\": {\"outlinewidth\": 0, \"ticks\": \"\"}}, \"type\": \"scatter3d\"}], \"scattercarpet\": [{\"marker\": {\"colorbar\": {\"outlinewidth\": 0, \"ticks\": \"\"}}, \"type\": \"scattercarpet\"}], \"scattergeo\": [{\"marker\": {\"colorbar\": {\"outlinewidth\": 0, \"ticks\": \"\"}}, \"type\": \"scattergeo\"}], \"scattergl\": [{\"marker\": {\"colorbar\": {\"outlinewidth\": 0, \"ticks\": \"\"}}, \"type\": \"scattergl\"}], \"scattermapbox\": [{\"marker\": {\"colorbar\": {\"outlinewidth\": 0, \"ticks\": \"\"}}, \"type\": \"scattermapbox\"}], \"scatterpolar\": [{\"marker\": {\"colorbar\": {\"outlinewidth\": 0, \"ticks\": \"\"}}, \"type\": \"scatterpolar\"}], \"scatterpolargl\": [{\"marker\": {\"colorbar\": {\"outlinewidth\": 0, \"ticks\": \"\"}}, \"type\": \"scatterpolargl\"}], \"scatterternary\": [{\"marker\": {\"colorbar\": {\"outlinewidth\": 0, \"ticks\": \"\"}}, \"type\": \"scatterternary\"}], \"surface\": [{\"colorbar\": {\"outlinewidth\": 0, \"ticks\": \"\"}, \"colorscale\": [[0.0, \"#0d0887\"], [0.1111111111111111, \"#46039f\"], [0.2222222222222222, \"#7201a8\"], [0.3333333333333333, \"#9c179e\"], [0.4444444444444444, \"#bd3786\"], [0.5555555555555556, \"#d8576b\"], [0.6666666666666666, \"#ed7953\"], [0.7777777777777778, \"#fb9f3a\"], [0.8888888888888888, \"#fdca26\"], [1.0, \"#f0f921\"]], \"type\": \"surface\"}], \"table\": [{\"cells\": {\"fill\": {\"color\": \"#EBF0F8\"}, \"line\": {\"color\": \"white\"}}, \"header\": {\"fill\": {\"color\": \"#C8D4E3\"}, \"line\": {\"color\": \"white\"}}, \"type\": \"table\"}]}, \"layout\": {\"annotationdefaults\": {\"arrowcolor\": \"#2a3f5f\", \"arrowhead\": 0, \"arrowwidth\": 1}, \"autotypenumbers\": \"strict\", \"coloraxis\": {\"colorbar\": {\"outlinewidth\": 0, \"ticks\": \"\"}}, \"colorscale\": {\"diverging\": [[0, \"#8e0152\"], [0.1, \"#c51b7d\"], [0.2, \"#de77ae\"], [0.3, \"#f1b6da\"], [0.4, \"#fde0ef\"], [0.5, \"#f7f7f7\"], [0.6, \"#e6f5d0\"], [0.7, \"#b8e186\"], [0.8, \"#7fbc41\"], [0.9, \"#4d9221\"], [1, \"#276419\"]], \"sequential\": [[0.0, \"#0d0887\"], [0.1111111111111111, \"#46039f\"], [0.2222222222222222, \"#7201a8\"], [0.3333333333333333, \"#9c179e\"], [0.4444444444444444, \"#bd3786\"], [0.5555555555555556, \"#d8576b\"], [0.6666666666666666, \"#ed7953\"], [0.7777777777777778, \"#fb9f3a\"], [0.8888888888888888, \"#fdca26\"], [1.0, \"#f0f921\"]], \"sequentialminus\": [[0.0, \"#0d0887\"], [0.1111111111111111, \"#46039f\"], [0.2222222222222222, \"#7201a8\"], [0.3333333333333333, \"#9c179e\"], [0.4444444444444444, \"#bd3786\"], [0.5555555555555556, \"#d8576b\"], [0.6666666666666666, \"#ed7953\"], [0.7777777777777778, \"#fb9f3a\"], [0.8888888888888888, \"#fdca26\"], [1.0, \"#f0f921\"]]}, \"colorway\": [\"#636efa\", \"#EF553B\", \"#00cc96\", \"#ab63fa\", \"#FFA15A\", \"#19d3f3\", \"#FF6692\", \"#B6E880\", \"#FF97FF\", \"#FECB52\"], \"font\": {\"color\": \"#2a3f5f\"}, \"geo\": {\"bgcolor\": \"white\", \"lakecolor\": \"white\", \"landcolor\": \"#E5ECF6\", \"showlakes\": true, \"showland\": true, \"subunitcolor\": \"white\"}, \"hoverlabel\": {\"align\": \"left\"}, \"hovermode\": \"closest\", \"mapbox\": {\"style\": \"light\"}, \"paper_bgcolor\": \"white\", \"plot_bgcolor\": \"#E5ECF6\", \"polar\": {\"angularaxis\": {\"gridcolor\": \"white\", \"linecolor\": \"white\", \"ticks\": \"\"}, \"bgcolor\": \"#E5ECF6\", \"radialaxis\": {\"gridcolor\": \"white\", \"linecolor\": \"white\", \"ticks\": \"\"}}, \"scene\": {\"xaxis\": {\"backgroundcolor\": \"#E5ECF6\", \"gridcolor\": \"white\", \"gridwidth\": 2, \"linecolor\": \"white\", \"showbackground\": true, \"ticks\": \"\", \"zerolinecolor\": \"white\"}, \"yaxis\": {\"backgroundcolor\": \"#E5ECF6\", \"gridcolor\": \"white\", \"gridwidth\": 2, \"linecolor\": \"white\", \"showbackground\": true, \"ticks\": \"\", \"zerolinecolor\": \"white\"}, \"zaxis\": {\"backgroundcolor\": \"#E5ECF6\", \"gridcolor\": \"white\", \"gridwidth\": 2, \"linecolor\": \"white\", \"showbackground\": true, \"ticks\": \"\", \"zerolinecolor\": \"white\"}}, \"shapedefaults\": {\"line\": {\"color\": \"#2a3f5f\"}}, \"ternary\": {\"aaxis\": {\"gridcolor\": \"white\", \"linecolor\": \"white\", \"ticks\": \"\"}, \"baxis\": {\"gridcolor\": \"white\", \"linecolor\": \"white\", \"ticks\": \"\"}, \"bgcolor\": \"#E5ECF6\", \"caxis\": {\"gridcolor\": \"white\", \"linecolor\": \"white\", \"ticks\": \"\"}}, \"title\": {\"x\": 0.05}, \"xaxis\": {\"automargin\": true, \"gridcolor\": \"white\", \"linecolor\": \"white\", \"ticks\": \"\", \"title\": {\"standoff\": 15}, \"zerolinecolor\": \"white\", \"zerolinewidth\": 2}, \"yaxis\": {\"automargin\": true, \"gridcolor\": \"white\", \"linecolor\": \"white\", \"ticks\": \"\", \"title\": {\"standoff\": 15}, \"zerolinecolor\": \"white\", \"zerolinewidth\": 2}}}, \"title\": {\"text\": \"community\"}},                        {\"responsive\": true}                    ).then(function(){\n",
       "                            \n",
       "var gd = document.getElementById('24606d3a-80fe-49f6-80c1-031498ad5d53');\n",
       "var x = new MutationObserver(function (mutations, observer) {{\n",
       "        var display = window.getComputedStyle(gd).display;\n",
       "        if (!display || display === 'none') {{\n",
       "            console.log([gd, 'removed!']);\n",
       "            Plotly.purge(gd);\n",
       "            observer.disconnect();\n",
       "        }}\n",
       "}});\n",
       "\n",
       "// Listen for the removal of the full notebook cells\n",
       "var notebookContainer = gd.closest('#notebook-container');\n",
       "if (notebookContainer) {{\n",
       "    x.observe(notebookContainer, {childList: true});\n",
       "}}\n",
       "\n",
       "// Listen for the clearing of the current output cell\n",
       "var outputEl = gd.closest('.output');\n",
       "if (outputEl) {{\n",
       "    x.observe(outputEl, {childList: true});\n",
       "}}\n",
       "\n",
       "                        })                };                });            </script>        </div>"
      ]
     },
     "metadata": {},
     "output_type": "display_data"
    }
   ],
   "source": [
    "import plotly.graph_objects as go\n",
    "\n",
    "fig =go.Figure(go.Sunburst(\n",
    "    labels=[\"youtube\", \"딴지방송국\", \"[공식]새날\", \"이동형tv\", \"김용민tv\", \"김성회의 옳은소리\", \"알리미 황희두\", \"박시영tv\"],\n",
    "    parents=[\"\", \"youtube\", \"youtube\", \"youtube\", \"youtube\", \"youtube\", \"youtube\", \"youtube\"],\n",
    "    values=[14434,808,4693,1121,1191,531,5617,473],\n",
    "    textinfo= 'label+value+percent entry',\n",
    "    branchvalues= \"total\"))\n",
    "\n",
    "fig= fig.update_layout(title_text=\"community\",margin = dict(t=100, l=10, r=100, b=100))\n",
    "fig.show()"
   ]
  },
  {
   "cell_type": "code",
   "execution_count": 38,
   "metadata": {
    "scrolled": false
   },
   "outputs": [
    {
     "name": "stdout",
     "output_type": "stream",
     "text": [
      "\n",
      "\n",
      "=====   도메인 : 딴지 분석 내용입니다.   =====\n",
      "\n",
      "\n",
      "상위 1 위의 작성 관련 키워드입니다.\n",
      "작성자명 : 서둘\n",
      "유저 서둘의 이낙연 관련 키워드 활동 수는 53 입니다.\n",
      "유저 서둘의 이재명 관련 키워드 활동 수는 171 입니다.\n",
      "해당 유저는 이재명 키워드 관련 유저입니다.\n",
      "\n",
      "\n",
      "상위 2 위의 작성 관련 키워드입니다.\n",
      "작성자명 : realreality\n",
      "유저 realreality의 이낙연 관련 키워드 활동 수는 80 입니다.\n",
      "유저 realreality의 이재명 관련 키워드 활동 수는 3 입니다.\n",
      "해당 유저는 이낙연 키워드 관련 유저입니다.\n",
      "\n",
      "\n",
      "상위 3 위의 작성 관련 키워드입니다.\n",
      "작성자명 : 지안군\n",
      "유저 지안군의 이낙연 관련 키워드 활동 수는 17 입니다.\n",
      "유저 지안군의 이재명 관련 키워드 활동 수는 54 입니다.\n",
      "해당 유저는 이재명 키워드 관련 유저입니다.\n",
      "\n",
      "\n",
      "상위 4 위의 작성 관련 키워드입니다.\n",
      "작성자명 : 로이거\n",
      "유저 로이거의 이낙연 관련 키워드 활동 수는 20 입니다.\n",
      "유저 로이거의 이재명 관련 키워드 활동 수는 39 입니다.\n",
      "해당 유저는 한쪽 키워드에 대한 편향이 적은 유저입니다.\n",
      "\n",
      "\n",
      "상위 5 위의 작성 관련 키워드입니다.\n",
      "작성자명 : 기이임밥\n",
      "유저 기이임밥의 이낙연 관련 키워드 활동 수는 46 입니다.\n",
      "유저 기이임밥의 이재명 관련 키워드 활동 수는 7 입니다.\n",
      "해당 유저는 이낙연 키워드 관련 유저입니다.\n",
      "\n",
      "\n",
      "상위 6 위의 작성 관련 키워드입니다.\n",
      "작성자명 : 빵꾸뿡뿡\n",
      "유저 빵꾸뿡뿡의 이낙연 관련 키워드 활동 수는 6 입니다.\n",
      "유저 빵꾸뿡뿡의 이재명 관련 키워드 활동 수는 42 입니다.\n",
      "해당 유저는 이재명 키워드 관련 유저입니다.\n",
      "\n",
      "\n",
      "상위 7 위의 작성 관련 키워드입니다.\n",
      "작성자명 : 홀리파워\n",
      "유저 홀리파워의 이낙연 관련 키워드 활동 수는 36 입니다.\n",
      "유저 홀리파워의 이재명 관련 키워드 활동 수는 11 입니다.\n",
      "해당 유저는 이낙연 키워드 관련 유저입니다.\n",
      "\n",
      "\n",
      "상위 8 위의 작성 관련 키워드입니다.\n",
      "작성자명 : 'soulking'\n",
      "유저 'soulking'의 이낙연 관련 키워드 활동 수는 40 입니다.\n",
      "유저 'soulking'의 이재명 관련 키워드 활동 수는 7 입니다.\n",
      "해당 유저는 이낙연 키워드 관련 유저입니다.\n",
      "\n",
      "\n",
      "상위 9 위의 작성 관련 키워드입니다.\n",
      "작성자명 : 하긔개새끠무새\n",
      "유저 하긔개새끠무새의 이낙연 관련 키워드 활동 수는 45 입니다.\n",
      "유저 하긔개새끠무새의 이재명 관련 키워드 활동 수는 0 입니다.\n",
      "해당 유저는 이낙연 키워드 관련 유저입니다.\n",
      "\n",
      "\n",
      "상위 10 위의 작성 관련 키워드입니다.\n",
      "작성자명 : MastarG\n",
      "유저 MastarG의 이낙연 관련 키워드 활동 수는 29 입니다.\n",
      "유저 MastarG의 이재명 관련 키워드 활동 수는 12 입니다.\n",
      "해당 유저는 이낙연 키워드 관련 유저입니다.\n"
     ]
    },
    {
     "data": {
      "image/png": "[encoded data removed]",
      "text/plain": [
       "<Figure size 864x576 with 1 Axes>"
      ]
     },
     "metadata": {
      "needs_background": "light"
     },
     "output_type": "display_data"
    },
    {
     "name": "stdout",
     "output_type": "stream",
     "text": [
      "\n",
      "\n",
      "=====   도메인 : 클리앙 분석 내용입니다.   =====\n",
      "\n",
      "\n",
      "상위 1 위의 작성 관련 키워드입니다.\n",
      "작성자명 : 대머리찰스\n",
      "유저 대머리찰스의 이낙연 관련 키워드 활동 수는 28 입니다.\n",
      "유저 대머리찰스의 이재명 관련 키워드 활동 수는 35 입니다.\n",
      "해당 유저는 한쪽 키워드에 대한 편향이 적은 유저입니다.\n",
      "\n",
      "\n",
      "상위 2 위의 작성 관련 키워드입니다.\n",
      "작성자명 : kagajotaro\n",
      "유저 kagajotaro의 이낙연 관련 키워드 활동 수는 50 입니다.\n",
      "유저 kagajotaro의 이재명 관련 키워드 활동 수는 4 입니다.\n",
      "해당 유저는 이낙연 키워드 관련 유저입니다.\n",
      "\n",
      "\n",
      "상위 3 위의 작성 관련 키워드입니다.\n",
      "작성자명 : Castle\n",
      "유저 Castle의 이낙연 관련 키워드 활동 수는 34 입니다.\n",
      "유저 Castle의 이재명 관련 키워드 활동 수는 5 입니다.\n",
      "해당 유저는 이낙연 키워드 관련 유저입니다.\n",
      "\n",
      "\n",
      "상위 4 위의 작성 관련 키워드입니다.\n",
      "작성자명 : Goodwillfind\n",
      "유저 Goodwillfind의 이낙연 관련 키워드 활동 수는 34 입니다.\n",
      "유저 Goodwillfind의 이재명 관련 키워드 활동 수는 0 입니다.\n",
      "해당 유저는 이낙연 키워드 관련 유저입니다.\n",
      "\n",
      "\n",
      "상위 5 위의 작성 관련 키워드입니다.\n",
      "작성자명 : sian\n",
      "유저 sian의 이낙연 관련 키워드 활동 수는 29 입니다.\n",
      "유저 sian의 이재명 관련 키워드 활동 수는 3 입니다.\n",
      "해당 유저는 이낙연 키워드 관련 유저입니다.\n",
      "\n",
      "\n",
      "상위 6 위의 작성 관련 키워드입니다.\n",
      "작성자명 : love114\n",
      "유저 love114의 이낙연 관련 키워드 활동 수는 17 입니다.\n",
      "유저 love114의 이재명 관련 키워드 활동 수는 15 입니다.\n",
      "해당 유저는 한쪽 키워드에 대한 편향이 적은 유저입니다.\n",
      "\n",
      "\n",
      "상위 7 위의 작성 관련 키워드입니다.\n",
      "작성자명 : blowtorch\n",
      "유저 blowtorch의 이낙연 관련 키워드 활동 수는 19 입니다.\n",
      "유저 blowtorch의 이재명 관련 키워드 활동 수는 8 입니다.\n",
      "해당 유저는 이낙연 키워드 관련 유저입니다.\n",
      "\n",
      "\n",
      "상위 8 위의 작성 관련 키워드입니다.\n",
      "작성자명 : 코쿠\n",
      "유저 코쿠의 이낙연 관련 키워드 활동 수는 21 입니다.\n",
      "유저 코쿠의 이재명 관련 키워드 활동 수는 3 입니다.\n",
      "해당 유저는 이낙연 키워드 관련 유저입니다.\n",
      "\n",
      "\n",
      "상위 9 위의 작성 관련 키워드입니다.\n",
      "작성자명 : 똥간귀신\n",
      "유저 똥간귀신의 이낙연 관련 키워드 활동 수는 23 입니다.\n",
      "유저 똥간귀신의 이재명 관련 키워드 활동 수는 0 입니다.\n",
      "해당 유저는 이낙연 키워드 관련 유저입니다.\n",
      "\n",
      "\n",
      "상위 10 위의 작성 관련 키워드입니다.\n",
      "작성자명 : 역사의시작\n",
      "유저 역사의시작의 이낙연 관련 키워드 활동 수는 19 입니다.\n",
      "유저 역사의시작의 이재명 관련 키워드 활동 수는 3 입니다.\n",
      "해당 유저는 이낙연 키워드 관련 유저입니다.\n"
     ]
    },
    {
     "data": {
      "image/png": "[encoded data removed]",
      "text/plain": [
       "<Figure size 864x576 with 1 Axes>"
      ]
     },
     "metadata": {
      "needs_background": "light"
     },
     "output_type": "display_data"
    },
    {
     "name": "stdout",
     "output_type": "stream",
     "text": [
      "\n",
      "\n",
      "=====   도메인 : 보배드림 분석 내용입니다.   =====\n",
      "\n",
      "\n",
      "상위 1 위의 작성 관련 키워드입니다.\n",
      "작성자명 : 보배다\n",
      "유저 보배다의 이낙연 관련 키워드 활동 수는 4 입니다.\n",
      "유저 보배다의 이재명 관련 키워드 활동 수는 10 입니다.\n",
      "해당 유저는 이재명 키워드 관련 유저입니다.\n",
      "\n",
      "\n",
      "상위 2 위의 작성 관련 키워드입니다.\n",
      "작성자명 : 이웃과함께\n",
      "유저 이웃과함께의 이낙연 관련 키워드 활동 수는 4 입니다.\n",
      "유저 이웃과함께의 이재명 관련 키워드 활동 수는 9 입니다.\n",
      "해당 유저는 한쪽 키워드에 대한 편향이 적은 유저입니다.\n",
      "\n",
      "\n",
      "상위 3 위의 작성 관련 키워드입니다.\n",
      "작성자명 : 치킨데이\n",
      "유저 치킨데이의 이낙연 관련 키워드 활동 수는 6 입니다.\n",
      "유저 치킨데이의 이재명 관련 키워드 활동 수는 5 입니다.\n",
      "해당 유저는 한쪽 키워드에 대한 편향이 적은 유저입니다.\n",
      "\n",
      "\n",
      "상위 4 위의 작성 관련 키워드입니다.\n",
      "작성자명 : 뉘링부르2\n",
      "유저 뉘링부르2의 이낙연 관련 키워드 활동 수는 6 입니다.\n",
      "유저 뉘링부르2의 이재명 관련 키워드 활동 수는 4 입니다.\n",
      "해당 유저는 한쪽 키워드에 대한 편향이 적은 유저입니다.\n",
      "\n",
      "\n",
      "상위 5 위의 작성 관련 키워드입니다.\n",
      "작성자명 : 복수는처절하게\n",
      "유저 복수는처절하게의 이낙연 관련 키워드 활동 수는 6 입니다.\n",
      "유저 복수는처절하게의 이재명 관련 키워드 활동 수는 4 입니다.\n",
      "해당 유저는 한쪽 키워드에 대한 편향이 적은 유저입니다.\n",
      "\n",
      "\n",
      "상위 6 위의 작성 관련 키워드입니다.\n",
      "작성자명 : 달려누냐\n",
      "유저 달려누냐의 이낙연 관련 키워드 활동 수는 6 입니다.\n",
      "유저 달려누냐의 이재명 관련 키워드 활동 수는 3 입니다.\n",
      "해당 유저는 한쪽 키워드에 대한 편향이 적은 유저입니다.\n",
      "\n",
      "\n",
      "상위 7 위의 작성 관련 키워드입니다.\n",
      "작성자명 : Natureman\n",
      "유저 Natureman의 이낙연 관련 키워드 활동 수는 8 입니다.\n",
      "유저 Natureman의 이재명 관련 키워드 활동 수는 0 입니다.\n",
      "해당 유저는 이낙연 키워드 관련 유저입니다.\n",
      "\n",
      "\n",
      "상위 8 위의 작성 관련 키워드입니다.\n",
      "작성자명 : 닉네임없음3\n",
      "유저 닉네임없음3의 이낙연 관련 키워드 활동 수는 0 입니다.\n",
      "유저 닉네임없음3의 이재명 관련 키워드 활동 수는 6 입니다.\n",
      "해당 유저는 이재명 키워드 관련 유저입니다.\n",
      "\n",
      "\n",
      "상위 9 위의 작성 관련 키워드입니다.\n",
      "작성자명 : 흑백논리파괴자\n",
      "유저 흑백논리파괴자의 이낙연 관련 키워드 활동 수는 1 입니다.\n",
      "유저 흑백논리파괴자의 이재명 관련 키워드 활동 수는 5 입니다.\n",
      "해당 유저는 이재명 키워드 관련 유저입니다.\n",
      "\n",
      "\n",
      "상위 10 위의 작성 관련 키워드입니다.\n",
      "작성자명 : l문재인l\n",
      "유저 l문재인l의 이낙연 관련 키워드 활동 수는 6 입니다.\n",
      "유저 l문재인l의 이재명 관련 키워드 활동 수는 0 입니다.\n",
      "해당 유저는 이낙연 키워드 관련 유저입니다.\n"
     ]
    },
    {
     "data": {
      "image/png": "[encoded data removed]",
      "text/plain": [
       "<Figure size 864x576 with 1 Axes>"
      ]
     },
     "metadata": {
      "needs_background": "light"
     },
     "output_type": "display_data"
    }
   ],
   "source": [
    "# 성향 분석\n",
    "\n",
    "for i in range(len(df_list)) :\n",
    "    print(\"\\n\")\n",
    "    domain = df_list[i]['domain'][0]\n",
    "    print(f\"=====   도메인 : {domain} 분석 내용입니다.   =====\")\n",
    "    \n",
    "    df_tend = pd.DataFrame()\n",
    "    name_tend = []\n",
    "    이낙연_tend = []\n",
    "    이재명_tend = []    \n",
    "    \n",
    "    for j in range(len(df_new)) :\n",
    "        rank = j + 1\n",
    "        name = df_new.iloc[j,2*i]\n",
    "        \n",
    "        print(\"\\n\")\n",
    "        print(f\"상위 {rank} 위의 작성 관련 키워드입니다.\")\n",
    "        print(f\"작성자명 : {name}\")  \n",
    "\n",
    "        keyword_list = []\n",
    "        \n",
    "        for k in range(len(df_list[i])) :\n",
    "            if df_list[i]['writer'][k] == name :\n",
    "                keyword_list.append(df_list[i]['keyword'][k])\n",
    "        \n",
    "        keyword_list.sort()\n",
    "        \n",
    "        이재명 = []\n",
    "        이낙연 = []\n",
    "        \n",
    "        for k in keyword_list :\n",
    "            if k == \"이낙연\" :\n",
    "                이낙연.append(k)\n",
    "            else :\n",
    "                이재명.append(k)\n",
    "                \n",
    "        name_tend.append(name)\n",
    "        이낙연_tend.append(len(이낙연))\n",
    "        이재명_tend.append(len(이재명))\n",
    "                \n",
    "        print(f\"유저 {name}의 이낙연 관련 키워드 활동 수는 {len(이낙연)} 입니다.\")\n",
    "        print(f\"유저 {name}의 이재명 관련 키워드 활동 수는 {len(이재명)} 입니다.\")    \n",
    "        \n",
    "        if len(이낙연)/(len(이낙연)+len(이재명)) >= .7 :\n",
    "            print(\"해당 유저는 이낙연 키워드 관련 유저입니다.\")\n",
    "        elif len(이재명)/(len(이낙연)+len(이재명)) >= .7 :\n",
    "            print(\"해당 유저는 이재명 키워드 관련 유저입니다.\")\n",
    "        else :\n",
    "            print(\"해당 유저는 한쪽 키워드에 대한 편향이 적은 유저입니다.\")\n",
    "            \n",
    "    df_tend['name'] = pd.Series(name_tend)\n",
    "    df_tend['이재명 관련 게시'] = pd.Series(이재명_tend)\n",
    "    df_tend['이낙연 관련 게시'] = pd.Series(이낙연_tend)\n",
    "    \n",
    "    df_tend.set_index('name').plot(kind='bar', figsize=(12,8))\n",
    "    plt.xlabel('name', fontsize=0)\n",
    "    plt.suptitle(f'{domain} 유저별 keyword 추세', fontsize=30)\n",
    "    plt.show()\n",
    "#         print(keyword_list)        \n",
    "        \n",
    "        "
   ]
  },
  {
   "cell_type": "code",
   "execution_count": 1,
   "metadata": {},
   "outputs": [
    {
     "name": "stderr",
     "output_type": "stream",
     "text": [
      "c:\\python38\\lib\\site-packages\\gensim\\similarities\\__init__.py:15: UserWarning: The gensim.similarities.levenshtein submodule is disabled, because the optional Levenshtein package <https://pypi.org/project/python-Levenshtein/> is unavailable. Install Levenhstein (e.g. `pip install python-Levenshtein`) to suppress this warning.\n",
      "  warnings.warn(msg)\n"
     ]
    }
   ],
   "source": [
    "import numpy as np\n",
    "import pandas as pd\n",
    "import json\n",
    "from tqdm import *\n",
    "\n",
    "import numpy as np\n",
    "import pandas as pd\n",
    "import re, nltk, spacy, gensim\n",
    "\n",
    "# Sklearn\n",
    "from sklearn.decomposition import LatentDirichletAllocation, TruncatedSVD\n",
    "from sklearn.feature_extraction.text import CountVectorizer, TfidfVectorizer\n",
    "from sklearn.model_selection import GridSearchCV\n",
    "from pprint import pprint\n",
    "\n",
    "# Plotting tools\n",
    "import pyLDAvis\n",
    "import pyLDAvis.sklearn\n",
    "import matplotlib.pyplot as plt"
   ]
  },
  {
   "cell_type": "code",
   "execution_count": null,
   "metadata": {},
   "outputs": [],
   "source": [
    "# 성향 분석 - LDA\n",
    "\n",
    "target_df = df1\n",
    "target_name = \"서둘\"\n",
    "\n",
    "\n",
    "df = target_df\n",
    "df = df[df['writer']==target_name]\n",
    "df = df.reset_index(drop=True, inplace=True)\n",
    "\n",
    "# Convert to list\n",
    "data = df.user_text.values.tolist()\n",
    "\n",
    "# user text에서 명사만 추출 \n",
    "\n",
    "from konlpy.tag import *\n",
    "from nltk import Text\n",
    "\n",
    "okt = Okt()\n",
    "\n",
    "data_morph = []\n",
    "for i in range(len(data)):\n",
    "    data_morph.append(\" \".join(okt.nouns(data[i])))\n",
    "\n",
    "vectorizer = CountVectorizer(analyzer='word',       \n",
    "                         min_df=3,   # 특정 횟수 이상 언급된 것만 따로                      \n",
    "                         max_features=50000,             \n",
    "                        )\n",
    "\n",
    "data_vectorized = vectorizer.fit_transform(data_morph)\n",
    "\n",
    "\n",
    "NUM_TOPICS = 3 # 분류하는 카테고리 숫자\n",
    "lda_model = LatentDirichletAllocation(\n",
    "                        n_components=NUM_TOPICS,              \n",
    "                        max_iter=10,               \n",
    "                        learning_method='online',   \n",
    "                        random_state=100,          \n",
    "                        batch_size=128,            \n",
    "                        evaluate_every = -1,       \n",
    "                        #n_jobs = -1,               \n",
    "                    )\n",
    "lda_output = lda_model.fit_transform(data_vectorized)\n",
    "log = lda_model.score(data_vectorized)\n",
    "per = lda_model.perplexity(data_vectorized)\n",
    "\n",
    "# Create Document - Topic Matrix\n",
    "lda_output = lda_model.transform(data_vectorized)\n",
    "\n",
    "# column names\n",
    "topicnames = [\"Topic\" + str(i) for i in range(lda_model.n_components)]\n",
    "\n",
    "# index names\n",
    "docnames = [\"Doc\" + str(i) for i in range(len(data))]\n",
    "\n",
    "# Make the pandas dataframe\n",
    "df_document_topic = pd.DataFrame(np.round(lda_output, 2), columns=topicnames, index=docnames)\n",
    "\n",
    "# Get dominant topic for each document\n",
    "dominant_topic = np.argmax(df_document_topic.values, axis=1)\n",
    "df_document_topic['dominant_topic'] = dominant_topic\n",
    "\n",
    "# Styling\n",
    "def color_green(val):\n",
    "    color = 'green' if val > .1 else 'black'\n",
    "    return 'color: {col}'.format(col=color)\n",
    "\n",
    "def make_bold(val):\n",
    "    weight = 700 if val > .1 else 400\n",
    "    return 'font-weight: {weight}'.format(weight=weight)\n",
    "\n",
    "# Apply Style\n",
    "df_document_topics = df_document_topic.head(15).style.applymap(color_green).applymap(make_bold)\n",
    "\n",
    "# Create Document - Topic Matrix\n",
    "lda_output = lda_model.transform(data_vectorized)\n",
    "\n",
    "# column names\n",
    "topicnames = [\"Topic\" + str(i) for i in range(lda_model.n_components)]\n",
    "\n",
    "# index names\n",
    "docnames = [\"Doc\" + str(i) for i in range(len(data))]\n",
    "\n",
    "# Make the pandas dataframe\n",
    "df_document_topic = pd.DataFrame(np.round(lda_output, 2), columns=topicnames, index=docnames)\n",
    "\n",
    "# Get dominant topic for each document\n",
    "dominant_topic = np.argmax(df_document_topic.values, axis=1)\n",
    "df_document_topic['dominant_topic'] = dominant_topic\n",
    "\n",
    "# Styling\n",
    "def color_green(val):\n",
    "    color = 'green' if val > .1 else 'black'\n",
    "    return 'color: {col}'.format(col=color)\n",
    "\n",
    "def make_bold(val):\n",
    "    weight = 700 if val > .1 else 400\n",
    "    return 'font-weight: {weight}'.format(weight=weight)\n",
    "\n",
    "# Apply Style\n",
    "df_document_topics = df_document_topic.head(15).style.applymap(color_green).applymap(make_bold)\n",
    "print(df_document_topics)\n",
    "\n",
    "name_02 = name + \"_reference\" + \".html\"\n",
    "\n",
    "pyLDAvis.enable_notebook()\n",
    "p = pyLDAvis.sklearn.prepare(lda_model, data_vectorized, vectorizer)\n",
    "\n",
    "pyLDAvis.save_html(p,name_02)\n",
    "\n",
    "    # Show top n keywords for each topic\n",
    "def show_topics(vectorizer=vectorizer, lda_model=lda_model, n_words=20):\n",
    "    keywords = np.array(vectorizer.get_feature_names())\n",
    "    topic_keywords = []\n",
    "    for topic_weights in lda_model.components_:\n",
    "        top_keyword_locs = (-topic_weights).argsort()[:n_words]\n",
    "        topic_keywords.append(keywords.take(top_keyword_locs))\n",
    "    return topic_keywords\n",
    "\n",
    "topic_keywords = show_topics(vectorizer=vectorizer, lda_model=lda_model, n_words=11) \n",
    "\n",
    "name_03 = name + \"_reference\" +\".csv\"\n",
    "pd.DataFrame(topic_keywords).to_csv(name_03, index=False, encoding='utf-8-sig')\n",
    "print(pd.DataFrame(topic_keywords));\n",
    "\n",
    "pyLDAvis.enable_notebook()\n",
    "pyLDAvis.sklearn.prepare(lda_model, data_vectorized, vectorizer)"
   ]
  },
  {
   "cell_type": "code",
   "execution_count": null,
   "metadata": {},
   "outputs": [],
   "source": []
  }
 ],
 "metadata": {
  "kernelspec": {
   "display_name": "Python 3",
   "language": "python",
   "name": "python3"
  },
  "language_info": {
   "codemirror_mode": {
    "name": "ipython",
    "version": 3
   },
   "file_extension": ".py",
   "mimetype": "text/x-python",
   "name": "python",
   "nbconvert_exporter": "python",
   "pygments_lexer": "ipython3",
   "version": "3.8.6"
  }
 },
 "nbformat": 4,
 "nbformat_minor": 4
}
