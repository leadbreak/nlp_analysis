{
 "cells": [
  {
   "cell_type": "markdown",
   "metadata": {},
   "source": [
    "## STEP 01. Import Modules"
   ]
  },
  {
   "cell_type": "code",
   "execution_count": 1,
   "metadata": {},
   "outputs": [
    {
     "name": "stderr",
     "output_type": "stream",
     "text": [
      "/usr/local/lib/python3.8/dist-packages/past/builtins/misc.py:45: DeprecationWarning: the imp module is deprecated in favour of importlib; see the module's documentation for alternative uses\n",
      "  from imp import reload\n"
     ]
    }
   ],
   "source": [
    "import numpy as np\n",
    "import pandas as pd\n",
    "import json\n",
    "from tqdm import *\n",
    "\n",
    "import numpy as np\n",
    "import pandas as pd\n",
    "\n",
    "# Sklearn\n",
    "from sklearn.decomposition import LatentDirichletAllocation, TruncatedSVD\n",
    "from sklearn.feature_extraction.text import CountVectorizer, TfidfVectorizer\n",
    "from sklearn.model_selection import GridSearchCV\n",
    "from pprint import pprint\n",
    "\n",
    "# Plotting tools\n",
    "import pyLDAvis\n",
    "import pyLDAvis.sklearn\n",
    "import matplotlib.pyplot as plt"
   ]
  },
  {
   "cell_type": "code",
   "execution_count": 2,
   "metadata": {},
   "outputs": [],
   "source": [
    "import os\n",
    "os.getcwd();"
   ]
  },
  {
   "cell_type": "markdown",
   "metadata": {},
   "source": [
    "## STEP 02. Set Target csv File List"
   ]
  },
  {
   "cell_type": "code",
   "execution_count": 3,
   "metadata": {},
   "outputs": [],
   "source": [
    "list = [ 'data']"
   ]
  },
  {
   "cell_type": "markdown",
   "metadata": {},
   "source": [
    "## STEP 04. Drawing LDA"
   ]
  },
  {
   "cell_type": "code",
   "execution_count": 4,
   "metadata": {},
   "outputs": [
    {
     "data": {
      "text/html": [
       "<div>\n",
       "<style scoped>\n",
       "    .dataframe tbody tr th:only-of-type {\n",
       "        vertical-align: middle;\n",
       "    }\n",
       "\n",
       "    .dataframe tbody tr th {\n",
       "        vertical-align: top;\n",
       "    }\n",
       "\n",
       "    .dataframe thead th {\n",
       "        text-align: right;\n",
       "    }\n",
       "</style>\n",
       "<table border=\"1\" class=\"dataframe\">\n",
       "  <thead>\n",
       "    <tr style=\"text-align: right;\">\n",
       "      <th></th>\n",
       "      <th>title</th>\n",
       "      <th>cleanBody</th>\n",
       "      <th>category</th>\n",
       "    </tr>\n",
       "  </thead>\n",
       "  <tbody>\n",
       "    <tr>\n",
       "      <th>0</th>\n",
       "      <td>\"아시안 증오를 멈춰라\"…미 전역서 규탄·추모 시위</td>\n",
       "      <td>[앵커] 애틀랜타 총격 사건으로 미국 시민들은 또한번 거리로 나왔습니다. 슬프고, ...</td>\n",
       "      <td>international</td>\n",
       "    </tr>\n",
       "    <tr>\n",
       "      <th>1</th>\n",
       "      <td>한인 4명 신원 공개…희생자 아들 \"명백한 증오범죄\"</td>\n",
       "      <td>[앵커] 이번 사건에서 희생된 한인 4명의 신원이 사흘 만에 공개됐습니다. 유가족과...</td>\n",
       "      <td>international</td>\n",
       "    </tr>\n",
       "    <tr>\n",
       "      <th>2</th>\n",
       "      <td>오늘(12일) 소상공인 버팀목자금 '짝수' 신청날…13일부터 모두 신청</td>\n",
       "      <td>12일 오전 8시부터 '버팀목자금.kr'을 통해 짝수 소상공인들로부터 버팀목자금 신...</td>\n",
       "      <td>economy</td>\n",
       "    </tr>\n",
       "    <tr>\n",
       "      <th>3</th>\n",
       "      <td>\"노래방에서 혼자 노래 중입니다\"…새벽에도 들어온 '버팀목자금'</td>\n",
       "      <td>11일 오후 서울 황학동 중앙시장 중고가전제품 판매점에 진열된 TV에서 문재인 대통...</td>\n",
       "      <td>economy</td>\n",
       "    </tr>\n",
       "    <tr>\n",
       "      <th>4</th>\n",
       "      <td>'실종 2주째' 고양시 발달장애인 점퍼 한강서 발견</td>\n",
       "      <td>'실종 2주째' 고양시 발달장애인 점퍼 한강서 발견 경기 고양시 행주산성둘레길에서 ...</td>\n",
       "      <td>society</td>\n",
       "    </tr>\n",
       "    <tr>\n",
       "      <th>...</th>\n",
       "      <td>...</td>\n",
       "      <td>...</td>\n",
       "      <td>...</td>\n",
       "    </tr>\n",
       "    <tr>\n",
       "      <th>3133</th>\n",
       "      <td>日코로나 신규확진 600명…\"인슐린주사기로 백신1병에 7회\"</td>\n",
       "      <td>일본 수도권 일부 지역에 신종 코로나바이러스 감염증(코로나19) 긴급사태가 발령 중...</td>\n",
       "      <td>society</td>\n",
       "    </tr>\n",
       "    <tr>\n",
       "      <th>3134</th>\n",
       "      <td>[슬라이드 뉴스] 이지은 누구? '금홍아 금홍아'로 신인상 휩쓴 '청춘스타'</td>\n",
       "      <td>숨진 채 발견된 배우 이지은에 대해 관심이 쏠리고 있다. 1971년생인 이지은은 1...</td>\n",
       "      <td>entertain</td>\n",
       "    </tr>\n",
       "    <tr>\n",
       "      <th>3135</th>\n",
       "      <td>文 “검찰 공정성 신뢰 나아지지 않아… 기소·수사권 분리, 나아가야 할 방향”</td>\n",
       "      <td>문재인 캐리커처 문재인(얼굴) 대통령은 8일 \"기소권과 수사권 분리는 앞으로도 꾸준...</td>\n",
       "      <td>politics</td>\n",
       "    </tr>\n",
       "    <tr>\n",
       "      <th>3136</th>\n",
       "      <td>中, '백신여권' 도입에 \"편리한 인원왕래 요구 절실\"</td>\n",
       "      <td>[서울=뉴시스] 중국 외교부가 '중국판 백신 여권'에 대해 추가적인 설명을 내놓았다...</td>\n",
       "      <td>international</td>\n",
       "    </tr>\n",
       "    <tr>\n",
       "      <th>3137</th>\n",
       "      <td>獨 여당 의원, 중국산 마스크 중개수수료 꿀꺽…메르켈에 부담 [인더머니]</td>\n",
       "      <td>[AP] 앙겔라 메르켈 독일 총리가 소속된 기독민주당(CDU)·기독사회당(CSU) ...</td>\n",
       "      <td>international</td>\n",
       "    </tr>\n",
       "  </tbody>\n",
       "</table>\n",
       "<p>3138 rows × 3 columns</p>\n",
       "</div>"
      ],
      "text/plain": [
       "                                            title  \\\n",
       "0                    \"아시안 증오를 멈춰라\"…미 전역서 규탄·추모 시위   \n",
       "1                   한인 4명 신원 공개…희생자 아들 \"명백한 증오범죄\"   \n",
       "2         오늘(12일) 소상공인 버팀목자금 '짝수' 신청날…13일부터 모두 신청   \n",
       "3             \"노래방에서 혼자 노래 중입니다\"…새벽에도 들어온 '버팀목자금'   \n",
       "4                    '실종 2주째' 고양시 발달장애인 점퍼 한강서 발견   \n",
       "...                                           ...   \n",
       "3133            日코로나 신규확진 600명…\"인슐린주사기로 백신1병에 7회\"   \n",
       "3134   [슬라이드 뉴스] 이지은 누구? '금홍아 금홍아'로 신인상 휩쓴 '청춘스타'   \n",
       "3135  文 “검찰 공정성 신뢰 나아지지 않아… 기소·수사권 분리, 나아가야 할 방향”   \n",
       "3136               中, '백신여권' 도입에 \"편리한 인원왕래 요구 절실\"   \n",
       "3137     獨 여당 의원, 중국산 마스크 중개수수료 꿀꺽…메르켈에 부담 [인더머니]   \n",
       "\n",
       "                                              cleanBody       category  \n",
       "0     [앵커] 애틀랜타 총격 사건으로 미국 시민들은 또한번 거리로 나왔습니다. 슬프고, ...  international  \n",
       "1     [앵커] 이번 사건에서 희생된 한인 4명의 신원이 사흘 만에 공개됐습니다. 유가족과...  international  \n",
       "2     12일 오전 8시부터 '버팀목자금.kr'을 통해 짝수 소상공인들로부터 버팀목자금 신...        economy  \n",
       "3     11일 오후 서울 황학동 중앙시장 중고가전제품 판매점에 진열된 TV에서 문재인 대통...        economy  \n",
       "4     '실종 2주째' 고양시 발달장애인 점퍼 한강서 발견 경기 고양시 행주산성둘레길에서 ...        society  \n",
       "...                                                 ...            ...  \n",
       "3133  일본 수도권 일부 지역에 신종 코로나바이러스 감염증(코로나19) 긴급사태가 발령 중...        society  \n",
       "3134  숨진 채 발견된 배우 이지은에 대해 관심이 쏠리고 있다. 1971년생인 이지은은 1...      entertain  \n",
       "3135  문재인 캐리커처 문재인(얼굴) 대통령은 8일 \"기소권과 수사권 분리는 앞으로도 꾸준...       politics  \n",
       "3136  [서울=뉴시스] 중국 외교부가 '중국판 백신 여권'에 대해 추가적인 설명을 내놓았다...  international  \n",
       "3137  [AP] 앙겔라 메르켈 독일 총리가 소속된 기독민주당(CDU)·기독사회당(CSU) ...  international  \n",
       "\n",
       "[3138 rows x 3 columns]"
      ]
     },
     "execution_count": 4,
     "metadata": {},
     "output_type": "execute_result"
    }
   ],
   "source": [
    "df = pd.read_csv(\"data.csv\")\n",
    "df"
   ]
  },
  {
   "cell_type": "code",
   "execution_count": 5,
   "metadata": {},
   "outputs": [
    {
     "data": {
      "text/html": [
       "<div>\n",
       "<style scoped>\n",
       "    .dataframe tbody tr th:only-of-type {\n",
       "        vertical-align: middle;\n",
       "    }\n",
       "\n",
       "    .dataframe tbody tr th {\n",
       "        vertical-align: top;\n",
       "    }\n",
       "\n",
       "    .dataframe thead th {\n",
       "        text-align: right;\n",
       "    }\n",
       "</style>\n",
       "<table border=\"1\" class=\"dataframe\">\n",
       "  <thead>\n",
       "    <tr style=\"text-align: right;\">\n",
       "      <th></th>\n",
       "      <th>title</th>\n",
       "      <th>cleanBody</th>\n",
       "      <th>category</th>\n",
       "    </tr>\n",
       "  </thead>\n",
       "  <tbody>\n",
       "    <tr>\n",
       "      <th>0</th>\n",
       "      <td>\"아시안 증오를 멈춰라\"…미 전역서 규탄·추모 시위</td>\n",
       "      <td>[앵커] 애틀랜타 총격 사건으로 미국 시민들은 또한번 거리로 나왔습니다. 슬프고, ...</td>\n",
       "      <td>international</td>\n",
       "    </tr>\n",
       "    <tr>\n",
       "      <th>1</th>\n",
       "      <td>한인 4명 신원 공개…희생자 아들 \"명백한 증오범죄\"</td>\n",
       "      <td>[앵커] 이번 사건에서 희생된 한인 4명의 신원이 사흘 만에 공개됐습니다. 유가족과...</td>\n",
       "      <td>international</td>\n",
       "    </tr>\n",
       "    <tr>\n",
       "      <th>2</th>\n",
       "      <td>오늘(12일) 소상공인 버팀목자금 '짝수' 신청날…13일부터 모두 신청</td>\n",
       "      <td>12일 오전 8시부터 '버팀목자금.kr'을 통해 짝수 소상공인들로부터 버팀목자금 신...</td>\n",
       "      <td>economy</td>\n",
       "    </tr>\n",
       "    <tr>\n",
       "      <th>3</th>\n",
       "      <td>\"노래방에서 혼자 노래 중입니다\"…새벽에도 들어온 '버팀목자금'</td>\n",
       "      <td>11일 오후 서울 황학동 중앙시장 중고가전제품 판매점에 진열된 TV에서 문재인 대통...</td>\n",
       "      <td>economy</td>\n",
       "    </tr>\n",
       "    <tr>\n",
       "      <th>4</th>\n",
       "      <td>'실종 2주째' 고양시 발달장애인 점퍼 한강서 발견</td>\n",
       "      <td>'실종 2주째' 고양시 발달장애인 점퍼 한강서 발견 경기 고양시 행주산성둘레길에서 ...</td>\n",
       "      <td>society</td>\n",
       "    </tr>\n",
       "    <tr>\n",
       "      <th>...</th>\n",
       "      <td>...</td>\n",
       "      <td>...</td>\n",
       "      <td>...</td>\n",
       "    </tr>\n",
       "    <tr>\n",
       "      <th>3133</th>\n",
       "      <td>日코로나 신규확진 600명…\"인슐린주사기로 백신1병에 7회\"</td>\n",
       "      <td>일본 수도권 일부 지역에 신종 코로나바이러스 감염증(코로나19) 긴급사태가 발령 중...</td>\n",
       "      <td>society</td>\n",
       "    </tr>\n",
       "    <tr>\n",
       "      <th>3134</th>\n",
       "      <td>[슬라이드 뉴스] 이지은 누구? '금홍아 금홍아'로 신인상 휩쓴 '청춘스타'</td>\n",
       "      <td>숨진 채 발견된 배우 이지은에 대해 관심이 쏠리고 있다. 1971년생인 이지은은 1...</td>\n",
       "      <td>entertain</td>\n",
       "    </tr>\n",
       "    <tr>\n",
       "      <th>3135</th>\n",
       "      <td>文 “검찰 공정성 신뢰 나아지지 않아… 기소·수사권 분리, 나아가야 할 방향”</td>\n",
       "      <td>문재인 캐리커처 문재인(얼굴) 대통령은 8일 \"기소권과 수사권 분리는 앞으로도 꾸준...</td>\n",
       "      <td>politics</td>\n",
       "    </tr>\n",
       "    <tr>\n",
       "      <th>3136</th>\n",
       "      <td>中, '백신여권' 도입에 \"편리한 인원왕래 요구 절실\"</td>\n",
       "      <td>[서울=뉴시스] 중국 외교부가 '중국판 백신 여권'에 대해 추가적인 설명을 내놓았다...</td>\n",
       "      <td>international</td>\n",
       "    </tr>\n",
       "    <tr>\n",
       "      <th>3137</th>\n",
       "      <td>獨 여당 의원, 중국산 마스크 중개수수료 꿀꺽…메르켈에 부담 [인더머니]</td>\n",
       "      <td>[AP] 앙겔라 메르켈 독일 총리가 소속된 기독민주당(CDU)·기독사회당(CSU) ...</td>\n",
       "      <td>international</td>\n",
       "    </tr>\n",
       "  </tbody>\n",
       "</table>\n",
       "<p>3138 rows × 3 columns</p>\n",
       "</div>"
      ],
      "text/plain": [
       "                                            title  \\\n",
       "0                    \"아시안 증오를 멈춰라\"…미 전역서 규탄·추모 시위   \n",
       "1                   한인 4명 신원 공개…희생자 아들 \"명백한 증오범죄\"   \n",
       "2         오늘(12일) 소상공인 버팀목자금 '짝수' 신청날…13일부터 모두 신청   \n",
       "3             \"노래방에서 혼자 노래 중입니다\"…새벽에도 들어온 '버팀목자금'   \n",
       "4                    '실종 2주째' 고양시 발달장애인 점퍼 한강서 발견   \n",
       "...                                           ...   \n",
       "3133            日코로나 신규확진 600명…\"인슐린주사기로 백신1병에 7회\"   \n",
       "3134   [슬라이드 뉴스] 이지은 누구? '금홍아 금홍아'로 신인상 휩쓴 '청춘스타'   \n",
       "3135  文 “검찰 공정성 신뢰 나아지지 않아… 기소·수사권 분리, 나아가야 할 방향”   \n",
       "3136               中, '백신여권' 도입에 \"편리한 인원왕래 요구 절실\"   \n",
       "3137     獨 여당 의원, 중국산 마스크 중개수수료 꿀꺽…메르켈에 부담 [인더머니]   \n",
       "\n",
       "                                              cleanBody       category  \n",
       "0     [앵커] 애틀랜타 총격 사건으로 미국 시민들은 또한번 거리로 나왔습니다. 슬프고, ...  international  \n",
       "1     [앵커] 이번 사건에서 희생된 한인 4명의 신원이 사흘 만에 공개됐습니다. 유가족과...  international  \n",
       "2     12일 오전 8시부터 '버팀목자금.kr'을 통해 짝수 소상공인들로부터 버팀목자금 신...        economy  \n",
       "3     11일 오후 서울 황학동 중앙시장 중고가전제품 판매점에 진열된 TV에서 문재인 대통...        economy  \n",
       "4     '실종 2주째' 고양시 발달장애인 점퍼 한강서 발견 경기 고양시 행주산성둘레길에서 ...        society  \n",
       "...                                                 ...            ...  \n",
       "3133  일본 수도권 일부 지역에 신종 코로나바이러스 감염증(코로나19) 긴급사태가 발령 중...        society  \n",
       "3134  숨진 채 발견된 배우 이지은에 대해 관심이 쏠리고 있다. 1971년생인 이지은은 1...      entertain  \n",
       "3135  문재인 캐리커처 문재인(얼굴) 대통령은 8일 \"기소권과 수사권 분리는 앞으로도 꾸준...       politics  \n",
       "3136  [서울=뉴시스] 중국 외교부가 '중국판 백신 여권'에 대해 추가적인 설명을 내놓았다...  international  \n",
       "3137  [AP] 앙겔라 메르켈 독일 총리가 소속된 기독민주당(CDU)·기독사회당(CSU) ...  international  \n",
       "\n",
       "[3138 rows x 3 columns]"
      ]
     },
     "execution_count": 5,
     "metadata": {},
     "output_type": "execute_result"
    }
   ],
   "source": [
    "df.dropna()"
   ]
  },
  {
   "cell_type": "code",
   "execution_count": 6,
   "metadata": {},
   "outputs": [],
   "source": [
    "list = ['data']\n",
    "min_df = 3\n",
    "max_iteration = 20\n",
    "NUM_TOPICS = 8"
   ]
  },
  {
   "cell_type": "code",
   "execution_count": 8,
   "metadata": {},
   "outputs": [
    {
     "data": {
      "text/plain": [
       "array(['international', 'economy', 'society', 'sport', 'it', 'politics',\n",
       "       'entertain', 'culture'], dtype=object)"
      ]
     },
     "execution_count": 8,
     "metadata": {},
     "output_type": "execute_result"
    }
   ],
   "source": [
    "df['category'].unique()"
   ]
  },
  {
   "cell_type": "code",
   "execution_count": 9,
   "metadata": {},
   "outputs": [
    {
     "name": "stdout",
     "output_type": "stream",
     "text": [
      "<pandas.io.formats.style.Styler object at 0x7facb67c40d0>\n"
     ]
    },
    {
     "name": "stderr",
     "output_type": "stream",
     "text": [
      "/usr/local/lib/python3.8/dist-packages/sklearn/utils/deprecation.py:87: FutureWarning: Function get_feature_names is deprecated; get_feature_names is deprecated in 1.0 and will be removed in 1.2. Please use get_feature_names_out instead.\n",
      "  warnings.warn(msg, category=FutureWarning)\n",
      "/usr/local/lib/python3.8/dist-packages/pyLDAvis/_prepare.py:246: FutureWarning: In a future version of pandas all arguments of DataFrame.drop except for the argument 'labels' will be keyword-only.\n",
      "  default_term_info = default_term_info.sort_values(\n",
      "/usr/local/lib/python3.8/dist-packages/past/builtins/misc.py:45: DeprecationWarning: the imp module is deprecated in favour of importlib; see the module's documentation for alternative uses\n",
      "  from imp import reload\n",
      "/usr/local/lib/python3.8/dist-packages/past/builtins/misc.py:45: DeprecationWarning: the imp module is deprecated in favour of importlib; see the module's documentation for alternative uses\n",
      "  from imp import reload\n",
      "/usr/local/lib/python3.8/dist-packages/sklearn/utils/deprecation.py:87: FutureWarning: Function get_feature_names is deprecated; get_feature_names is deprecated in 1.0 and will be removed in 1.2. Please use get_feature_names_out instead.\n",
      "  warnings.warn(msg, category=FutureWarning)\n",
      "/usr/local/lib/python3.8/dist-packages/sklearn/utils/deprecation.py:87: FutureWarning: Function get_feature_names is deprecated; get_feature_names is deprecated in 1.0 and will be removed in 1.2. Please use get_feature_names_out instead.\n",
      "  warnings.warn(msg, category=FutureWarning)\n"
     ]
    },
    {
     "name": "stdout",
     "output_type": "stream",
     "text": [
      "    0    1    2    3    4    5    6     7    8    9    10\n",
      "0  대통령  트럼프  바이든   미국  당선인   선거   대선    중국   북한  행정부   결과\n",
      "1   운하   사고   호기  수에즈   작업   선박   볼더    에버  텍사스   사망  원자로\n",
      "2  대통령  트럼프   탄핵   미국   의회   대한   의원    상원  민주당   이번   하원\n",
      "3   화성   매출   진입  우주선   고스  라이프   차량    업종   유행   데뷔   오른\n",
      "4   백신  미얀마   접종  코로나   미국   군부  화이자    시위   영국   승인   현지\n",
      "5  트럼프  대통령  줄리아  백악관   파티  마스크  변호사   주니어   참석   줄리   미국\n",
      "6   백신   접종  코로나   중국   일본   발생   정부    지진   지역   의료   총리\n",
      "7  코로나   미국   영국   진자   현지   시간  사망자  바이러스   지난   후보   개표\n"
     ]
    },
    {
     "name": "stderr",
     "output_type": "stream",
     "text": [
      "/usr/local/lib/python3.8/dist-packages/pyLDAvis/_prepare.py:246: FutureWarning: In a future version of pandas all arguments of DataFrame.drop except for the argument 'labels' will be keyword-only.\n",
      "  default_term_info = default_term_info.sort_values(\n",
      "/usr/local/lib/python3.8/dist-packages/past/builtins/misc.py:45: DeprecationWarning: the imp module is deprecated in favour of importlib; see the module's documentation for alternative uses\n",
      "  from imp import reload\n",
      "/usr/local/lib/python3.8/dist-packages/past/builtins/misc.py:45: DeprecationWarning: the imp module is deprecated in favour of importlib; see the module's documentation for alternative uses\n",
      "  from imp import reload\n"
     ]
    },
    {
     "name": "stdout",
     "output_type": "stream",
     "text": [
      "<pandas.io.formats.style.Styler object at 0x7fad79fda5e0>\n"
     ]
    },
    {
     "name": "stderr",
     "output_type": "stream",
     "text": [
      "/usr/local/lib/python3.8/dist-packages/sklearn/utils/deprecation.py:87: FutureWarning: Function get_feature_names is deprecated; get_feature_names is deprecated in 1.0 and will be removed in 1.2. Please use get_feature_names_out instead.\n",
      "  warnings.warn(msg, category=FutureWarning)\n",
      "/usr/local/lib/python3.8/dist-packages/pyLDAvis/_prepare.py:246: FutureWarning: In a future version of pandas all arguments of DataFrame.drop except for the argument 'labels' will be keyword-only.\n",
      "  default_term_info = default_term_info.sort_values(\n",
      "/usr/local/lib/python3.8/dist-packages/past/builtins/misc.py:45: DeprecationWarning: the imp module is deprecated in favour of importlib; see the module's documentation for alternative uses\n",
      "  from imp import reload\n",
      "/usr/local/lib/python3.8/dist-packages/past/builtins/misc.py:45: DeprecationWarning: the imp module is deprecated in favour of importlib; see the module's documentation for alternative uses\n",
      "  from imp import reload\n",
      "/usr/local/lib/python3.8/dist-packages/sklearn/utils/deprecation.py:87: FutureWarning: Function get_feature_names is deprecated; get_feature_names is deprecated in 1.0 and will be removed in 1.2. Please use get_feature_names_out instead.\n",
      "  warnings.warn(msg, category=FutureWarning)\n",
      "/usr/local/lib/python3.8/dist-packages/sklearn/utils/deprecation.py:87: FutureWarning: Function get_feature_names is deprecated; get_feature_names is deprecated in 1.0 and will be removed in 1.2. Please use get_feature_names_out instead.\n",
      "  warnings.warn(msg, category=FutureWarning)\n"
     ]
    },
    {
     "name": "stdout",
     "output_type": "stream",
     "text": [
      "    0    1     2   3     4    5   6    7      8    9    10\n",
      "0   청약   주택    직원  공급    사업   부정  개발  신도시     정보   분양  국토부\n",
      "1   상승   달러    하락  증가    삼성   올해  기록   전자    반도체   대비   보유\n",
      "2   백신  코로나    진자  항공  아시아나   발생  지역   대한     치료   허가   한진\n",
      "3   기업   시장   전기차  미국    사업  배터리  계획   기술     회장   업체   통해\n",
      "4   공단   개성    정부  기업    대책   지원  지급   재개     원금   주택   마련\n",
      "5  공매도  현대차    애플  자율    그룹   주행  주가   금지     종목  투자자   한국\n",
      "6   배송   고객   이벤트  이번   서비스   바로  적용  코로나  크리스마스   제공   도착\n",
      "7   주가   금리  비트코인  거래    국채  테슬라  투자   가치    브라질   미국   기술\n"
     ]
    },
    {
     "name": "stderr",
     "output_type": "stream",
     "text": [
      "/usr/local/lib/python3.8/dist-packages/pyLDAvis/_prepare.py:246: FutureWarning: In a future version of pandas all arguments of DataFrame.drop except for the argument 'labels' will be keyword-only.\n",
      "  default_term_info = default_term_info.sort_values(\n",
      "/usr/local/lib/python3.8/dist-packages/past/builtins/misc.py:45: DeprecationWarning: the imp module is deprecated in favour of importlib; see the module's documentation for alternative uses\n",
      "  from imp import reload\n",
      "/usr/local/lib/python3.8/dist-packages/past/builtins/misc.py:45: DeprecationWarning: the imp module is deprecated in favour of importlib; see the module's documentation for alternative uses\n",
      "  from imp import reload\n"
     ]
    },
    {
     "name": "stdout",
     "output_type": "stream",
     "text": [
      "<pandas.io.formats.style.Styler object at 0x7facb4119310>\n"
     ]
    },
    {
     "name": "stderr",
     "output_type": "stream",
     "text": [
      "/usr/local/lib/python3.8/dist-packages/sklearn/utils/deprecation.py:87: FutureWarning: Function get_feature_names is deprecated; get_feature_names is deprecated in 1.0 and will be removed in 1.2. Please use get_feature_names_out instead.\n",
      "  warnings.warn(msg, category=FutureWarning)\n",
      "/usr/local/lib/python3.8/dist-packages/pyLDAvis/_prepare.py:246: FutureWarning: In a future version of pandas all arguments of DataFrame.drop except for the argument 'labels' will be keyword-only.\n",
      "  default_term_info = default_term_info.sort_values(\n",
      "/usr/local/lib/python3.8/dist-packages/joblib/externals/loky/process_executor.py:702: UserWarning: A worker stopped while some jobs were given to the executor. This can be caused by a too short worker timeout or by a memory leak.\n",
      "  warnings.warn(\n",
      "/usr/local/lib/python3.8/dist-packages/past/builtins/misc.py:45: DeprecationWarning: the imp module is deprecated in favour of importlib; see the module's documentation for alternative uses\n",
      "  from imp import reload\n",
      "/usr/local/lib/python3.8/dist-packages/sklearn/utils/deprecation.py:87: FutureWarning: Function get_feature_names is deprecated; get_feature_names is deprecated in 1.0 and will be removed in 1.2. Please use get_feature_names_out instead.\n",
      "  warnings.warn(msg, category=FutureWarning)\n",
      "/usr/local/lib/python3.8/dist-packages/sklearn/utils/deprecation.py:87: FutureWarning: Function get_feature_names is deprecated; get_feature_names is deprecated in 1.0 and will be removed in 1.2. Please use get_feature_names_out instead.\n",
      "  warnings.warn(msg, category=FutureWarning)\n"
     ]
    },
    {
     "name": "stdout",
     "output_type": "stream",
     "text": [
      "   0    1    2    3    4    5    6     7    8   9     10\n",
      "0  진자  코로나   감염   방역   단계   검사   발생    시설   거리  두기    확진\n",
      "1  학생   학교   교육   교사  교육청  교육부  자사고    소송   해당  수업    학년\n",
      "2  접종   백신   교수   이상   반응   아이   의사  예방접종   입학  조씨    사회\n",
      "3  경찰   영상   조사   여성   지원   지난   기사    통해   당시  차관    발견\n",
      "4  사업   시장   지역   주민   위해   시민   차량    센터  서울시  계획    통해\n",
      "5  혐의   재판  피해자   경찰   선고   사건   사실    대해   검찰  수사    조사\n",
      "6  서울   기온   오늘  구치소   사고   아침   도로    지역   호텔  영하    오전\n",
      "7  총장   징계  법무부   검찰   장관   검사   수사    대한   감찰  사건  검찰총장\n"
     ]
    },
    {
     "name": "stderr",
     "output_type": "stream",
     "text": [
      "/usr/local/lib/python3.8/dist-packages/pyLDAvis/_prepare.py:246: FutureWarning: In a future version of pandas all arguments of DataFrame.drop except for the argument 'labels' will be keyword-only.\n",
      "  default_term_info = default_term_info.sort_values(\n"
     ]
    },
    {
     "name": "stdout",
     "output_type": "stream",
     "text": [
      "<pandas.io.formats.style.Styler object at 0x7facb4119310>\n"
     ]
    },
    {
     "name": "stderr",
     "output_type": "stream",
     "text": [
      "/usr/local/lib/python3.8/dist-packages/sklearn/utils/deprecation.py:87: FutureWarning: Function get_feature_names is deprecated; get_feature_names is deprecated in 1.0 and will be removed in 1.2. Please use get_feature_names_out instead.\n",
      "  warnings.warn(msg, category=FutureWarning)\n",
      "/usr/local/lib/python3.8/dist-packages/pyLDAvis/_prepare.py:246: FutureWarning: In a future version of pandas all arguments of DataFrame.drop except for the argument 'labels' will be keyword-only.\n",
      "  default_term_info = default_term_info.sort_values(\n",
      "/usr/local/lib/python3.8/dist-packages/sklearn/utils/deprecation.py:87: FutureWarning: Function get_feature_names is deprecated; get_feature_names is deprecated in 1.0 and will be removed in 1.2. Please use get_feature_names_out instead.\n",
      "  warnings.warn(msg, category=FutureWarning)\n",
      "/usr/local/lib/python3.8/dist-packages/sklearn/utils/deprecation.py:87: FutureWarning: Function get_feature_names is deprecated; get_feature_names is deprecated in 1.0 and will be removed in 1.2. Please use get_feature_names_out instead.\n",
      "  warnings.warn(msg, category=FutureWarning)\n",
      "/usr/local/lib/python3.8/dist-packages/pyLDAvis/_prepare.py:246: FutureWarning: In a future version of pandas all arguments of DataFrame.drop except for the argument 'labels' will be keyword-only.\n",
      "  default_term_info = default_term_info.sort_values(\n"
     ]
    },
    {
     "name": "stdout",
     "output_type": "stream",
     "text": [
      "    0      1    2    3    4    5   6    7      8   9     10\n",
      "0  손흥민    토트넘   경기   점슛   기록   케인  시즌   전반     후반  수비    슈팅\n",
      "1  손흥민     레알   선수   경기   시즌  토트넘  계약   이적     활약  축구    도움\n",
      "2   전북     두산  박지성   삼성   리그  정수빈  선수   현대     구단  역할    소년\n",
      "3   선수     한국   경기   리그  코로나   구단  출전   우승     시즌  대회    축구\n",
      "4   경기   한국전력   선수  라운드  김연경   상황  감독   리그    분위기  승점   시리즈\n",
      "5   경기     선발   루수   시범   이닝   포수  등판  김광현     안타  실점    타자\n",
      "6   계약  메이저리그   투수   연봉   달러   기록  홈런   시즌  샌디에이고  타점  탬파베이\n",
      "7  판공비    이대호   선수   회장   협회   대해  논란   사용     인상  생각    관련\n",
      "<pandas.io.formats.style.Styler object at 0x7fada1f74d60>\n"
     ]
    },
    {
     "name": "stderr",
     "output_type": "stream",
     "text": [
      "/usr/local/lib/python3.8/dist-packages/sklearn/utils/deprecation.py:87: FutureWarning: Function get_feature_names is deprecated; get_feature_names is deprecated in 1.0 and will be removed in 1.2. Please use get_feature_names_out instead.\n",
      "  warnings.warn(msg, category=FutureWarning)\n",
      "/usr/local/lib/python3.8/dist-packages/pyLDAvis/_prepare.py:246: FutureWarning: In a future version of pandas all arguments of DataFrame.drop except for the argument 'labels' will be keyword-only.\n",
      "  default_term_info = default_term_info.sort_values(\n",
      "/usr/local/lib/python3.8/dist-packages/sklearn/utils/deprecation.py:87: FutureWarning: Function get_feature_names is deprecated; get_feature_names is deprecated in 1.0 and will be removed in 1.2. Please use get_feature_names_out instead.\n",
      "  warnings.warn(msg, category=FutureWarning)\n",
      "/usr/local/lib/python3.8/dist-packages/sklearn/utils/deprecation.py:87: FutureWarning: Function get_feature_names is deprecated; get_feature_names is deprecated in 1.0 and will be removed in 1.2. Please use get_feature_names_out instead.\n",
      "  warnings.warn(msg, category=FutureWarning)\n",
      "/usr/local/lib/python3.8/dist-packages/pyLDAvis/_prepare.py:246: FutureWarning: In a future version of pandas all arguments of DataFrame.drop except for the argument 'labels' will be keyword-only.\n",
      "  default_term_info = default_term_info.sort_values(\n",
      "/usr/local/lib/python3.8/dist-packages/past/builtins/misc.py:45: DeprecationWarning: the imp module is deprecated in favour of importlib; see the module's documentation for alternative uses\n",
      "  from imp import reload\n",
      "/usr/local/lib/python3.8/dist-packages/past/builtins/misc.py:45: DeprecationWarning: the imp module is deprecated in favour of importlib; see the module's documentation for alternative uses\n",
      "  from imp import reload\n"
     ]
    },
    {
     "name": "stdout",
     "output_type": "stream",
     "text": [
      "    0      1    2   3     4      5     6    7    8    9    10\n",
      "0   증가     발생   기후  대기    태풍     연구    변화   격자   농도   이상   감소\n",
      "1  카카오  스포티파이  서비스  국내    음원    이용자    위성   구글   장애   제공   한국\n",
      "2  에어팟     애플   무선  출시    프로     제품    주변  이어폰   시장   소리   인식\n",
      "3  갤럭시     기능   개발  전자  프로그램   스마트폰   카메라   구글   기술   공개  울트라\n",
      "4   할당     대가  텔레콤  구축    투자     이통    무선   개편   이상   가격  기지국\n",
      "5  서비스     제공  카카오  개발    기술    콘텐츠  클라우드  장애인  텔레콤   표준  차세대\n",
      "6   개발     연구   소재  효율    반응     전자    사회   기술   위해  스카이   물질\n",
      "7  인증서    데이터   공인  활용  전자서명  소프트웨어    인증  서비스   기관   사용   발급\n",
      "<pandas.io.formats.style.Styler object at 0x7facb41198b0>\n"
     ]
    },
    {
     "name": "stderr",
     "output_type": "stream",
     "text": [
      "/usr/local/lib/python3.8/dist-packages/sklearn/utils/deprecation.py:87: FutureWarning: Function get_feature_names is deprecated; get_feature_names is deprecated in 1.0 and will be removed in 1.2. Please use get_feature_names_out instead.\n",
      "  warnings.warn(msg, category=FutureWarning)\n",
      "/usr/local/lib/python3.8/dist-packages/pyLDAvis/_prepare.py:246: FutureWarning: In a future version of pandas all arguments of DataFrame.drop except for the argument 'labels' will be keyword-only.\n",
      "  default_term_info = default_term_info.sort_values(\n",
      "/usr/local/lib/python3.8/dist-packages/past/builtins/misc.py:45: DeprecationWarning: the imp module is deprecated in favour of importlib; see the module's documentation for alternative uses\n",
      "  from imp import reload\n",
      "/usr/local/lib/python3.8/dist-packages/past/builtins/misc.py:45: DeprecationWarning: the imp module is deprecated in favour of importlib; see the module's documentation for alternative uses\n",
      "  from imp import reload\n",
      "/usr/local/lib/python3.8/dist-packages/sklearn/utils/deprecation.py:87: FutureWarning: Function get_feature_names is deprecated; get_feature_names is deprecated in 1.0 and will be removed in 1.2. Please use get_feature_names_out instead.\n",
      "  warnings.warn(msg, category=FutureWarning)\n",
      "/usr/local/lib/python3.8/dist-packages/sklearn/utils/deprecation.py:87: FutureWarning: Function get_feature_names is deprecated; get_feature_names is deprecated in 1.0 and will be removed in 1.2. Please use get_feature_names_out instead.\n",
      "  warnings.warn(msg, category=FutureWarning)\n",
      "/usr/local/lib/python3.8/dist-packages/pyLDAvis/_prepare.py:246: FutureWarning: In a future version of pandas all arguments of DataFrame.drop except for the argument 'labels' will be keyword-only.\n",
      "  default_term_info = default_term_info.sort_values(\n"
     ]
    },
    {
     "name": "stdout",
     "output_type": "stream",
     "text": [
      "    0   1    2    3    4     5    6    7   8    9     10\n",
      "0   진자  진료   수출   확진   병원   코로나   신규   판정  확인   추가    접촉\n",
      "1   북한  미국   발사   한국  미사일    지난  바이든  위원장  우리   한미    대해\n",
      "2   의원  국민  민주당   국회  대통령    정부   의혹   관련  라며   서울    대해\n",
      "3   투표  오전   사건   상황   경계    이번   부대  관계자  조사   당시    해안\n",
      "4   후보  국민   대표  민주당   의원  서울시장   선거   일화  야권   총장  여론조사\n",
      "5   공항  부산  가덕도   의원   검증    김해   의회   지역  대구   경북   특별법\n",
      "6  대통령  장관   국민   검찰   정부   청와대   백신  문재인  개혁  법무부    대한\n",
      "7   북한  방역   단계   거리   두기    중앙   열병   대회  회의   정부   김정은\n"
     ]
    },
    {
     "name": "stderr",
     "output_type": "stream",
     "text": [
      "/usr/local/lib/python3.8/dist-packages/past/builtins/misc.py:45: DeprecationWarning: the imp module is deprecated in favour of importlib; see the module's documentation for alternative uses\n",
      "  from imp import reload\n",
      "/usr/local/lib/python3.8/dist-packages/past/builtins/misc.py:45: DeprecationWarning: the imp module is deprecated in favour of importlib; see the module's documentation for alternative uses\n",
      "  from imp import reload\n"
     ]
    },
    {
     "name": "stdout",
     "output_type": "stream",
     "text": [
      "<pandas.io.formats.style.Styler object at 0x7facb40bb460>\n"
     ]
    },
    {
     "name": "stderr",
     "output_type": "stream",
     "text": [
      "/usr/local/lib/python3.8/dist-packages/sklearn/utils/deprecation.py:87: FutureWarning: Function get_feature_names is deprecated; get_feature_names is deprecated in 1.0 and will be removed in 1.2. Please use get_feature_names_out instead.\n",
      "  warnings.warn(msg, category=FutureWarning)\n",
      "/usr/local/lib/python3.8/dist-packages/pyLDAvis/_prepare.py:246: FutureWarning: In a future version of pandas all arguments of DataFrame.drop except for the argument 'labels' will be keyword-only.\n",
      "  default_term_info = default_term_info.sort_values(\n",
      "/usr/local/lib/python3.8/dist-packages/past/builtins/misc.py:45: DeprecationWarning: the imp module is deprecated in favour of importlib; see the module's documentation for alternative uses\n",
      "  from imp import reload\n",
      "/usr/local/lib/python3.8/dist-packages/past/builtins/misc.py:45: DeprecationWarning: the imp module is deprecated in favour of importlib; see the module's documentation for alternative uses\n",
      "  from imp import reload\n",
      "/usr/local/lib/python3.8/dist-packages/sklearn/utils/deprecation.py:87: FutureWarning: Function get_feature_names is deprecated; get_feature_names is deprecated in 1.0 and will be removed in 1.2. Please use get_feature_names_out instead.\n",
      "  warnings.warn(msg, category=FutureWarning)\n",
      "/usr/local/lib/python3.8/dist-packages/sklearn/utils/deprecation.py:87: FutureWarning: Function get_feature_names is deprecated; get_feature_names is deprecated in 1.0 and will be removed in 1.2. Please use get_feature_names_out instead.\n",
      "  warnings.warn(msg, category=FutureWarning)\n",
      "/usr/local/lib/python3.8/dist-packages/pyLDAvis/_prepare.py:246: FutureWarning: In a future version of pandas all arguments of DataFrame.drop except for the argument 'labels' will be keyword-only.\n",
      "  default_term_info = default_term_info.sort_values(\n",
      "/usr/local/lib/python3.8/dist-packages/past/builtins/misc.py:45: DeprecationWarning: the imp module is deprecated in favour of importlib; see the module's documentation for alternative uses\n",
      "  from imp import reload\n",
      "/usr/local/lib/python3.8/dist-packages/past/builtins/misc.py:45: DeprecationWarning: the imp module is deprecated in favour of importlib; see the module's documentation for alternative uses\n",
      "  from imp import reload\n"
     ]
    },
    {
     "name": "stdout",
     "output_type": "stream",
     "text": [
      "    0    1    2       3    4    5   6    7    8   9     10\n",
      "0  황하나   혐의   방역      마약  코로나   지난  자신   라며   관리  투약    경찰\n",
      "1   대해   사실   자신      생각   사과  소속사  입장   당시   대한  통해    이후\n",
      "2  박수홍   친형   법인      주장   횡령   측은  명의   대표   대한  갈등  여자친구\n",
      "3  홍현희   빌딩  한남동      매입   매각   외모  건물  고소장   접수  소재    수년\n",
      "4  조병규   출연   학폭      사람   폭력   의혹  주장  요아리   학교  태연    사실\n",
      "5  양지은   트롯   무대      미스   출연   사랑  지난   통해   영화  자리   라운드\n",
      "6   남편   방송   아내      결혼  함소원   출연  공개   사람   이혼  사랑    라며\n",
      "7  콘텐츠  글로벌  카카오  엔터테인먼트  시상식  플랫폼  음악   산업  경쟁력  사업    지민\n",
      "<pandas.io.formats.style.Styler object at 0x7facb40bb460>\n"
     ]
    },
    {
     "name": "stderr",
     "output_type": "stream",
     "text": [
      "/usr/local/lib/python3.8/dist-packages/sklearn/utils/deprecation.py:87: FutureWarning: Function get_feature_names is deprecated; get_feature_names is deprecated in 1.0 and will be removed in 1.2. Please use get_feature_names_out instead.\n",
      "  warnings.warn(msg, category=FutureWarning)\n",
      "/usr/local/lib/python3.8/dist-packages/pyLDAvis/_prepare.py:246: FutureWarning: In a future version of pandas all arguments of DataFrame.drop except for the argument 'labels' will be keyword-only.\n",
      "  default_term_info = default_term_info.sort_values(\n",
      "/usr/local/lib/python3.8/dist-packages/past/builtins/misc.py:45: DeprecationWarning: the imp module is deprecated in favour of importlib; see the module's documentation for alternative uses\n",
      "  from imp import reload\n",
      "/usr/local/lib/python3.8/dist-packages/past/builtins/misc.py:45: DeprecationWarning: the imp module is deprecated in favour of importlib; see the module's documentation for alternative uses\n",
      "  from imp import reload\n",
      "/usr/local/lib/python3.8/dist-packages/sklearn/utils/deprecation.py:87: FutureWarning: Function get_feature_names is deprecated; get_feature_names is deprecated in 1.0 and will be removed in 1.2. Please use get_feature_names_out instead.\n",
      "  warnings.warn(msg, category=FutureWarning)\n",
      "/usr/local/lib/python3.8/dist-packages/sklearn/utils/deprecation.py:87: FutureWarning: Function get_feature_names is deprecated; get_feature_names is deprecated in 1.0 and will be removed in 1.2. Please use get_feature_names_out instead.\n",
      "  warnings.warn(msg, category=FutureWarning)\n",
      "/usr/local/lib/python3.8/dist-packages/pyLDAvis/_prepare.py:246: FutureWarning: In a future version of pandas all arguments of DataFrame.drop except for the argument 'labels' will be keyword-only.\n",
      "  default_term_info = default_term_info.sort_values(\n",
      "/usr/local/lib/python3.8/dist-packages/past/builtins/misc.py:45: DeprecationWarning: the imp module is deprecated in favour of importlib; see the module's documentation for alternative uses\n",
      "  from imp import reload\n",
      "/usr/local/lib/python3.8/dist-packages/past/builtins/misc.py:45: DeprecationWarning: the imp module is deprecated in favour of importlib; see the module's documentation for alternative uses\n",
      "  from imp import reload\n"
     ]
    },
    {
     "name": "stdout",
     "output_type": "stream",
     "text": [
      "    0      1     2      3    4    5     6     7    8    9   10\n",
      "0  미나리     후보    영화    윤여정   올해   외신  아카데미    미국   감독   연상  연기\n",
      "1  윤여정     후보    미국   아카데미  미나리  시상식    영화   오스카   배우  비평가  협회\n",
      "2   아이     작품    영화     생각   후보   감독    촬영    전시   행사   대표  사람\n",
      "3   작품     영화    감독     아이   생각  이야기    사람    전시  캐릭터  드라마  논란\n",
      "4   감독    미나리    미국  골든글로브   후보  영화상   외국어    영화   작품  시상식  한국\n",
      "5   내일     영화    예정     논란   남편  시사회    배우    미래   언론   일정  배급\n",
      "6   배우     영화   윤여정     후보   한국  미나리   시상식  아카데미   미국   연상  여우\n",
      "7   기록  방탄소년단  문화유산     미국  빌보드   후보    유산   그래미   한국   인류  무대\n"
     ]
    }
   ],
   "source": [
    "from konlpy.tag import *\n",
    "from nltk import Text\n",
    "\n",
    "okt = Okt()\n",
    "for keyword in df['category'].unique() :\n",
    "    for name in list :\n",
    "        name_01 = name + \".csv\"\n",
    "        keyword = keyword\n",
    "        \n",
    "        df = pd.read_csv(name_01).dropna()\n",
    "        df2 = df[df['category'] == keyword]\n",
    "        # Convert to list\n",
    "        data = df2.cleanBody.values.tolist()\n",
    "\n",
    "        # user text에서 명사만 추출 \n",
    "        data_morph = []\n",
    "        for i in range(len(data)):\n",
    "            data_morph.append(\" \".join(okt.nouns(data[i])))\n",
    "\n",
    "        vectorizer = CountVectorizer(analyzer='word',       \n",
    "                                min_df=min_df,   # 특정 횟수 이상 언급된 것만 따로                      \n",
    "                                max_features=50000,             \n",
    "                                )\n",
    "\n",
    "        data_vectorized = vectorizer.fit_transform(data_morph)\n",
    "\n",
    "\n",
    "        NUM_TOPICS = NUM_TOPICS # 분류하는 카테고리 숫자\n",
    "        lda_model = LatentDirichletAllocation(\n",
    "                                n_components=NUM_TOPICS,              \n",
    "                                max_iter=max_iteration,               \n",
    "                                learning_method='online',   \n",
    "                                random_state=100,          \n",
    "                                batch_size=128,            \n",
    "                                evaluate_every = -1,       \n",
    "                                #n_jobs = -1,               \n",
    "                            )\n",
    "        lda_output = lda_model.fit_transform(data_vectorized)\n",
    "        log = lda_model.score(data_vectorized)\n",
    "        per = lda_model.perplexity(data_vectorized)\n",
    "        \n",
    "        # Create Document - Topic Matrix\n",
    "        lda_output = lda_model.transform(data_vectorized)\n",
    "\n",
    "        # column names\n",
    "        topicnames = [\"Topic\" + str(i) for i in range(lda_model.n_components)]\n",
    "\n",
    "        # index names\n",
    "        docnames = [\"Doc\" + str(i) for i in range(len(data))]\n",
    "\n",
    "        # Make the pandas dataframe\n",
    "        df_document_topic = pd.DataFrame(np.round(lda_output, 2), columns=topicnames, index=docnames)\n",
    "\n",
    "        # Get dominant topic for each document\n",
    "        dominant_topic = np.argmax(df_document_topic.values, axis=1)\n",
    "        df_document_topic['dominant_topic'] = dominant_topic\n",
    "\n",
    "        # Styling\n",
    "        def color_green(val):\n",
    "            color = 'green' if val > .1 else 'black'\n",
    "            return 'color: {col}'.format(col=color)\n",
    "\n",
    "        def make_bold(val):\n",
    "            weight = 700 if val > .1 else 400\n",
    "            return 'font-weight: {weight}'.format(weight=weight)\n",
    "\n",
    "        # Apply Style\n",
    "        df_document_topics = df_document_topic.head(15).style.applymap(color_green).applymap(make_bold)\n",
    "        \n",
    "        # Create Document - Topic Matrix\n",
    "        lda_output = lda_model.transform(data_vectorized)\n",
    "\n",
    "        # column names\n",
    "        topicnames = [\"Topic\" + str(i) for i in range(lda_model.n_components)]\n",
    "\n",
    "        # index names\n",
    "        docnames = [\"Doc\" + str(i) for i in range(len(data))]\n",
    "\n",
    "        # Make the pandas dataframe\n",
    "        df_document_topic = pd.DataFrame(np.round(lda_output, 2), columns=topicnames, index=docnames)\n",
    "\n",
    "        # Get dominant topic for each document\n",
    "        dominant_topic = np.argmax(df_document_topic.values, axis=1)\n",
    "        df_document_topic['dominant_topic'] = dominant_topic\n",
    "\n",
    "        # Styling\n",
    "        def color_green(val):\n",
    "            color = 'green' if val > .1 else 'black'\n",
    "            return 'color: {col}'.format(col=color)\n",
    "\n",
    "        def make_bold(val):\n",
    "            weight = 700 if val > .1 else 400\n",
    "            return 'font-weight: {weight}'.format(weight=weight)\n",
    "\n",
    "        # Apply Style\n",
    "        df_document_topics = df_document_topic.head(15).style.applymap(color_green).applymap(make_bold)\n",
    "        print(df_document_topics)\n",
    "        \n",
    "        name_02 = keyword + \"_reference\" + \".html\"\n",
    "            \n",
    "        pyLDAvis.enable_notebook()\n",
    "        p = pyLDAvis.sklearn.prepare(lda_model, data_vectorized, vectorizer)\n",
    "        \n",
    "        pyLDAvis.save_html(p,name_02)\n",
    "        \n",
    "            # Show top n keywords for each topic\n",
    "        def show_topics(vectorizer=vectorizer, lda_model=lda_model, n_words=20):\n",
    "            keywords = np.array(vectorizer.get_feature_names())\n",
    "            topic_keywords = []\n",
    "            for topic_weights in lda_model.components_:\n",
    "                top_keyword_locs = (-topic_weights).argsort()[:n_words]\n",
    "                topic_keywords.append(keywords.take(top_keyword_locs))\n",
    "            return topic_keywords\n",
    "\n",
    "        topic_keywords = show_topics(vectorizer=vectorizer, lda_model=lda_model, n_words=11) \n",
    "        \n",
    "        name_03 = keyword +  \"_reference\" +\".csv\"\n",
    "        pd.DataFrame(topic_keywords).to_csv(name_03, index=False, encoding='utf-8-sig')\n",
    "        print(pd.DataFrame(topic_keywords));\n",
    "\n",
    "    pyLDAvis.enable_notebook()\n",
    "    pyLDAvis.sklearn.prepare(lda_model, data_vectorized, vectorizer)"
   ]
  },
  {
   "cell_type": "code",
   "execution_count": 10,
   "metadata": {},
   "outputs": [
    {
     "name": "stdout",
     "output_type": "stream",
     "text": [
      "<pandas.io.formats.style.Styler object at 0x7facb6416f40>\n"
     ]
    },
    {
     "name": "stderr",
     "output_type": "stream",
     "text": [
      "/usr/local/lib/python3.8/dist-packages/sklearn/utils/deprecation.py:87: FutureWarning: Function get_feature_names is deprecated; get_feature_names is deprecated in 1.0 and will be removed in 1.2. Please use get_feature_names_out instead.\n",
      "  warnings.warn(msg, category=FutureWarning)\n",
      "/usr/local/lib/python3.8/dist-packages/pyLDAvis/_prepare.py:246: FutureWarning: In a future version of pandas all arguments of DataFrame.drop except for the argument 'labels' will be keyword-only.\n",
      "  default_term_info = default_term_info.sort_values(\n",
      "/usr/local/lib/python3.8/dist-packages/past/builtins/misc.py:45: DeprecationWarning: the imp module is deprecated in favour of importlib; see the module's documentation for alternative uses\n",
      "  from imp import reload\n",
      "/usr/local/lib/python3.8/dist-packages/past/builtins/misc.py:45: DeprecationWarning: the imp module is deprecated in favour of importlib; see the module's documentation for alternative uses\n",
      "  from imp import reload\n",
      "/usr/local/lib/python3.8/dist-packages/sklearn/utils/deprecation.py:87: FutureWarning: Function get_feature_names is deprecated; get_feature_names is deprecated in 1.0 and will be removed in 1.2. Please use get_feature_names_out instead.\n",
      "  warnings.warn(msg, category=FutureWarning)\n",
      "/usr/local/lib/python3.8/dist-packages/sklearn/utils/deprecation.py:87: FutureWarning: Function get_feature_names is deprecated; get_feature_names is deprecated in 1.0 and will be removed in 1.2. Please use get_feature_names_out instead.\n",
      "  warnings.warn(msg, category=FutureWarning)\n",
      "/usr/local/lib/python3.8/dist-packages/pyLDAvis/_prepare.py:246: FutureWarning: In a future version of pandas all arguments of DataFrame.drop except for the argument 'labels' will be keyword-only.\n",
      "  default_term_info = default_term_info.sort_values(\n",
      "/usr/local/lib/python3.8/dist-packages/past/builtins/misc.py:45: DeprecationWarning: the imp module is deprecated in favour of importlib; see the module's documentation for alternative uses\n",
      "  from imp import reload\n",
      "/usr/local/lib/python3.8/dist-packages/past/builtins/misc.py:45: DeprecationWarning: the imp module is deprecated in favour of importlib; see the module's documentation for alternative uses\n",
      "  from imp import reload\n"
     ]
    },
    {
     "name": "stdout",
     "output_type": "stream",
     "text": [
      "     0    1    2     3      4    5    6     7    8    9    10\n",
      "0  스페이스   화성   스타    여성    우주선   착륙   이사  하시모토   폭발   비행   회장\n",
      "1    열차   대만  화장실    호국     비밀   터널   린지    경호   소년   잠정   창문\n",
      "2   레이디   가가   산책    마리     주인   총격   안정    지장   남자  의사당   생명\n",
      "3   세이브   부금  리더십  아메리카   웹사이트   비용   기부    분배   모금   회계   검표\n",
      "4    백신  미얀마   군부    시위     접종   미국   북한    중국  바이든  쿠데타   경찰\n",
      "5   코로나   일본   진자   대통령     중국   접종  바이든    축구   긴급   미국   백신\n",
      "6    운하  수에즈   에버    선박  컨테이너선   라비   좌초    청장   븐호   예인  이집트\n",
      "7   트럼프  대통령  코로나    미국     진자  바이든   백신    탄핵  당선인   선거   연방\n",
      "<pandas.io.formats.style.Styler object at 0x7facb6416f40>\n"
     ]
    },
    {
     "name": "stderr",
     "output_type": "stream",
     "text": [
      "/usr/local/lib/python3.8/dist-packages/sklearn/utils/deprecation.py:87: FutureWarning: Function get_feature_names is deprecated; get_feature_names is deprecated in 1.0 and will be removed in 1.2. Please use get_feature_names_out instead.\n",
      "  warnings.warn(msg, category=FutureWarning)\n",
      "/usr/local/lib/python3.8/dist-packages/pyLDAvis/_prepare.py:246: FutureWarning: In a future version of pandas all arguments of DataFrame.drop except for the argument 'labels' will be keyword-only.\n",
      "  default_term_info = default_term_info.sort_values(\n",
      "/usr/local/lib/python3.8/dist-packages/past/builtins/misc.py:45: DeprecationWarning: the imp module is deprecated in favour of importlib; see the module's documentation for alternative uses\n",
      "  from imp import reload\n",
      "/usr/local/lib/python3.8/dist-packages/past/builtins/misc.py:45: DeprecationWarning: the imp module is deprecated in favour of importlib; see the module's documentation for alternative uses\n",
      "  from imp import reload\n",
      "/usr/local/lib/python3.8/dist-packages/sklearn/utils/deprecation.py:87: FutureWarning: Function get_feature_names is deprecated; get_feature_names is deprecated in 1.0 and will be removed in 1.2. Please use get_feature_names_out instead.\n",
      "  warnings.warn(msg, category=FutureWarning)\n",
      "/usr/local/lib/python3.8/dist-packages/sklearn/utils/deprecation.py:87: FutureWarning: Function get_feature_names is deprecated; get_feature_names is deprecated in 1.0 and will be removed in 1.2. Please use get_feature_names_out instead.\n",
      "  warnings.warn(msg, category=FutureWarning)\n",
      "/usr/local/lib/python3.8/dist-packages/pyLDAvis/_prepare.py:246: FutureWarning: In a future version of pandas all arguments of DataFrame.drop except for the argument 'labels' will be keyword-only.\n",
      "  default_term_info = default_term_info.sort_values(\n",
      "/usr/local/lib/python3.8/dist-packages/past/builtins/misc.py:45: DeprecationWarning: the imp module is deprecated in favour of importlib; see the module's documentation for alternative uses\n",
      "  from imp import reload\n",
      "/usr/local/lib/python3.8/dist-packages/past/builtins/misc.py:45: DeprecationWarning: the imp module is deprecated in favour of importlib; see the module's documentation for alternative uses\n",
      "  from imp import reload\n"
     ]
    },
    {
     "name": "stdout",
     "output_type": "stream",
     "text": [
      "    0     1     2    3    4    5    6    7    8     9      10\n",
      "0   청약    주택    공급   부정   당첨  국토부   분양   자격  아파트    단지     가구\n",
      "1   수출    취업    사업   구간   감소   증가   수입   전자   인천    가장  디스플레이\n",
      "2   직원    배송   신도시  이벤트   고객   정보   보상   업무   토지    개발    텔레콤\n",
      "3   사고   아파트    차량   직원   운수   후원   택시  코로나   양평   거래량     종사\n",
      "4   부부  신혼부부    유족  공무원  광화문   전보   연차   잔액   벌이  국정감사     자녀\n",
      "5  부회장    삼성    준법  이재용   선고   재판  상속세   파기   환송    보사     농단\n",
      "6  신세계    증여   부회장   총괄   내야  이마트   부연   아들   할증    부친     납세\n",
      "7   공단    달러  비트코인   주가   미국   외환   거래   상승   기업    금리     하락\n",
      "<pandas.io.formats.style.Styler object at 0x7facb6413d00>\n"
     ]
    },
    {
     "name": "stderr",
     "output_type": "stream",
     "text": [
      "/usr/local/lib/python3.8/dist-packages/sklearn/utils/deprecation.py:87: FutureWarning: Function get_feature_names is deprecated; get_feature_names is deprecated in 1.0 and will be removed in 1.2. Please use get_feature_names_out instead.\n",
      "  warnings.warn(msg, category=FutureWarning)\n",
      "/usr/local/lib/python3.8/dist-packages/pyLDAvis/_prepare.py:246: FutureWarning: In a future version of pandas all arguments of DataFrame.drop except for the argument 'labels' will be keyword-only.\n",
      "  default_term_info = default_term_info.sort_values(\n",
      "/usr/local/lib/python3.8/dist-packages/past/builtins/misc.py:45: DeprecationWarning: the imp module is deprecated in favour of importlib; see the module's documentation for alternative uses\n",
      "  from imp import reload\n",
      "/usr/local/lib/python3.8/dist-packages/past/builtins/misc.py:45: DeprecationWarning: the imp module is deprecated in favour of importlib; see the module's documentation for alternative uses\n",
      "  from imp import reload\n",
      "/usr/local/lib/python3.8/dist-packages/sklearn/utils/deprecation.py:87: FutureWarning: Function get_feature_names is deprecated; get_feature_names is deprecated in 1.0 and will be removed in 1.2. Please use get_feature_names_out instead.\n",
      "  warnings.warn(msg, category=FutureWarning)\n",
      "/usr/local/lib/python3.8/dist-packages/sklearn/utils/deprecation.py:87: FutureWarning: Function get_feature_names is deprecated; get_feature_names is deprecated in 1.0 and will be removed in 1.2. Please use get_feature_names_out instead.\n",
      "  warnings.warn(msg, category=FutureWarning)\n",
      "/usr/local/lib/python3.8/dist-packages/pyLDAvis/_prepare.py:246: FutureWarning: In a future version of pandas all arguments of DataFrame.drop except for the argument 'labels' will be keyword-only.\n",
      "  default_term_info = default_term_info.sort_values(\n",
      "/usr/local/lib/python3.8/dist-packages/past/builtins/misc.py:45: DeprecationWarning: the imp module is deprecated in favour of importlib; see the module's documentation for alternative uses\n",
      "  from imp import reload\n"
     ]
    },
    {
     "name": "stdout",
     "output_type": "stream",
     "text": [
      "    0    1    2    3    4     5     6    7     8      9     10\n",
      "0   산불  동해안   영동   산림  양양군    논산    진화   천리    일출     등지    창고\n",
      "1   단계   두기   거리   시설   방역    금지   수도권   실내    체육     영업    사회\n",
      "2   임신   석씨   접종   휴가   출산    백신  예방접종   병원    수면    구급차    센터\n",
      "3   전씨   압류  연희동   본채   별채   이순자    검사   재산   전두환     전화    주말\n",
      "4  자사고   고교  세화고  배재고   학점  학교법인    외고  국제고   신일고    숭문고  배재학당\n",
      "5   사격   헬기   신부  전두환   조비    사자   회고록  민주화  명예훼손  거짓말쟁이    사탄\n",
      "6   기온   영하   아침   추위   한파    황사   기상청   도로    최고     내일    북부\n",
      "7   진자  코로나   검사   감염   혐의    경찰    검찰   방역    총장     단계    징계\n"
     ]
    },
    {
     "name": "stderr",
     "output_type": "stream",
     "text": [
      "/usr/local/lib/python3.8/dist-packages/past/builtins/misc.py:45: DeprecationWarning: the imp module is deprecated in favour of importlib; see the module's documentation for alternative uses\n",
      "  from imp import reload\n"
     ]
    },
    {
     "name": "stdout",
     "output_type": "stream",
     "text": [
      "<pandas.io.formats.style.Styler object at 0x7facb40bb460>\n"
     ]
    },
    {
     "name": "stderr",
     "output_type": "stream",
     "text": [
      "/usr/local/lib/python3.8/dist-packages/sklearn/utils/deprecation.py:87: FutureWarning: Function get_feature_names is deprecated; get_feature_names is deprecated in 1.0 and will be removed in 1.2. Please use get_feature_names_out instead.\n",
      "  warnings.warn(msg, category=FutureWarning)\n",
      "/usr/local/lib/python3.8/dist-packages/pyLDAvis/_prepare.py:246: FutureWarning: In a future version of pandas all arguments of DataFrame.drop except for the argument 'labels' will be keyword-only.\n",
      "  default_term_info = default_term_info.sort_values(\n",
      "/usr/local/lib/python3.8/dist-packages/past/builtins/misc.py:45: DeprecationWarning: the imp module is deprecated in favour of importlib; see the module's documentation for alternative uses\n",
      "  from imp import reload\n",
      "/usr/local/lib/python3.8/dist-packages/past/builtins/misc.py:45: DeprecationWarning: the imp module is deprecated in favour of importlib; see the module's documentation for alternative uses\n",
      "  from imp import reload\n",
      "/usr/local/lib/python3.8/dist-packages/sklearn/utils/deprecation.py:87: FutureWarning: Function get_feature_names is deprecated; get_feature_names is deprecated in 1.0 and will be removed in 1.2. Please use get_feature_names_out instead.\n",
      "  warnings.warn(msg, category=FutureWarning)\n",
      "/usr/local/lib/python3.8/dist-packages/sklearn/utils/deprecation.py:87: FutureWarning: Function get_feature_names is deprecated; get_feature_names is deprecated in 1.0 and will be removed in 1.2. Please use get_feature_names_out instead.\n",
      "  warnings.warn(msg, category=FutureWarning)\n",
      "/usr/local/lib/python3.8/dist-packages/pyLDAvis/_prepare.py:246: FutureWarning: In a future version of pandas all arguments of DataFrame.drop except for the argument 'labels' will be keyword-only.\n",
      "  default_term_info = default_term_info.sort_values(\n",
      "/usr/local/lib/python3.8/dist-packages/past/builtins/misc.py:45: DeprecationWarning: the imp module is deprecated in favour of importlib; see the module's documentation for alternative uses\n",
      "  from imp import reload\n",
      "/usr/local/lib/python3.8/dist-packages/past/builtins/misc.py:45: DeprecationWarning: the imp module is deprecated in favour of importlib; see the module's documentation for alternative uses\n",
      "  from imp import reload\n"
     ]
    },
    {
     "name": "stdout",
     "output_type": "stream",
     "text": [
      "    0     1      2    3    4    5     6    7     8        9   10\n",
      "0  손흥민    점슛    토트넘   경기   케인   후반    기록   전반    슈팅       수비  득점\n",
      "1  판공비   이대호     회장   인상   사용  선수협    지급   협회    연봉       논란  카드\n",
      "2   폭력   가해자    피해자   학폭   학교   박상    선수   주장    구단       게시  사실\n",
      "3  기성용    투어     대회   진영   상금   더파  챔피언십   공동    버디       최종  골프\n",
      "4   경기  한국전력    김연경   선수  시리즈   루수    감독  김태형  흥국생명       안타  투수\n",
      "5  김광현   나성범     삼성   경기  이강인  셰필드    선수   실점    사실    스트라이크  소식\n",
      "6  노선영   김보름  평창올림픽   추월   청구   소송    왕따   주행  손해배상  스피드스케이팅  허위\n",
      "7   축구   손흥민    코로나  대표팀   선수  토트넘    판정   리그    전북       출전  일본\n",
      "<pandas.io.formats.style.Styler object at 0x7faf09659d60>\n"
     ]
    },
    {
     "name": "stderr",
     "output_type": "stream",
     "text": [
      "/usr/local/lib/python3.8/dist-packages/sklearn/utils/deprecation.py:87: FutureWarning: Function get_feature_names is deprecated; get_feature_names is deprecated in 1.0 and will be removed in 1.2. Please use get_feature_names_out instead.\n",
      "  warnings.warn(msg, category=FutureWarning)\n",
      "/usr/local/lib/python3.8/dist-packages/pyLDAvis/_prepare.py:246: FutureWarning: In a future version of pandas all arguments of DataFrame.drop except for the argument 'labels' will be keyword-only.\n",
      "  default_term_info = default_term_info.sort_values(\n",
      "/usr/local/lib/python3.8/dist-packages/past/builtins/misc.py:45: DeprecationWarning: the imp module is deprecated in favour of importlib; see the module's documentation for alternative uses\n",
      "  from imp import reload\n",
      "/usr/local/lib/python3.8/dist-packages/past/builtins/misc.py:45: DeprecationWarning: the imp module is deprecated in favour of importlib; see the module's documentation for alternative uses\n",
      "  from imp import reload\n",
      "/usr/local/lib/python3.8/dist-packages/sklearn/utils/deprecation.py:87: FutureWarning: Function get_feature_names is deprecated; get_feature_names is deprecated in 1.0 and will be removed in 1.2. Please use get_feature_names_out instead.\n",
      "  warnings.warn(msg, category=FutureWarning)\n",
      "/usr/local/lib/python3.8/dist-packages/sklearn/utils/deprecation.py:87: FutureWarning: Function get_feature_names is deprecated; get_feature_names is deprecated in 1.0 and will be removed in 1.2. Please use get_feature_names_out instead.\n",
      "  warnings.warn(msg, category=FutureWarning)\n",
      "/usr/local/lib/python3.8/dist-packages/pyLDAvis/_prepare.py:246: FutureWarning: In a future version of pandas all arguments of DataFrame.drop except for the argument 'labels' will be keyword-only.\n",
      "  default_term_info = default_term_info.sort_values(\n",
      "/usr/local/lib/python3.8/dist-packages/past/builtins/misc.py:45: DeprecationWarning: the imp module is deprecated in favour of importlib; see the module's documentation for alternative uses\n",
      "  from imp import reload\n",
      "/usr/local/lib/python3.8/dist-packages/past/builtins/misc.py:45: DeprecationWarning: the imp module is deprecated in favour of importlib; see the module's documentation for alternative uses\n",
      "  from imp import reload\n"
     ]
    },
    {
     "name": "stdout",
     "output_type": "stream",
     "text": [
      "      0     1     2    3      4    5    6     7     8    9    10\n",
      "0     기후    태풍    증가   대기     제품   발생   화면    영상    농도   격자   연구\n",
      "1  스포티파이   카카오    음원  텔레콤    서비스   위성   장애    반응    국내  이용자   개발\n",
      "2    갤럭시   에어팟    애플   기능    카메라   주변   제품    무선    인식   전자  울트라\n",
      "3   프로그램    개발    무료  개발자     과정  일반인   작업    언어  프로젝트   공개   배포\n",
      "4     개발  프로그램    올해   평균     개편   윤리  텔레콤    위해   개발자   센터   시간\n",
      "5     할당    대가  클라우드   궤도    서비스   기술  트래픽    챗봇   카카오   개발   표준\n",
      "6     분리    확산    소재   차이     연구   온도   교수    속도    저온   구조   기술\n",
      "7    인증서    공인    사회   전자  소프트웨어   구글   효율  전자서명   데이터   자바   인증\n",
      "<pandas.io.formats.style.Styler object at 0x7facb40dc220>\n"
     ]
    },
    {
     "name": "stderr",
     "output_type": "stream",
     "text": [
      "/usr/local/lib/python3.8/dist-packages/sklearn/utils/deprecation.py:87: FutureWarning: Function get_feature_names is deprecated; get_feature_names is deprecated in 1.0 and will be removed in 1.2. Please use get_feature_names_out instead.\n",
      "  warnings.warn(msg, category=FutureWarning)\n",
      "/usr/local/lib/python3.8/dist-packages/pyLDAvis/_prepare.py:246: FutureWarning: In a future version of pandas all arguments of DataFrame.drop except for the argument 'labels' will be keyword-only.\n",
      "  default_term_info = default_term_info.sort_values(\n",
      "/usr/local/lib/python3.8/dist-packages/past/builtins/misc.py:45: DeprecationWarning: the imp module is deprecated in favour of importlib; see the module's documentation for alternative uses\n",
      "  from imp import reload\n",
      "/usr/local/lib/python3.8/dist-packages/past/builtins/misc.py:45: DeprecationWarning: the imp module is deprecated in favour of importlib; see the module's documentation for alternative uses\n",
      "  from imp import reload\n",
      "/usr/local/lib/python3.8/dist-packages/sklearn/utils/deprecation.py:87: FutureWarning: Function get_feature_names is deprecated; get_feature_names is deprecated in 1.0 and will be removed in 1.2. Please use get_feature_names_out instead.\n",
      "  warnings.warn(msg, category=FutureWarning)\n",
      "/usr/local/lib/python3.8/dist-packages/sklearn/utils/deprecation.py:87: FutureWarning: Function get_feature_names is deprecated; get_feature_names is deprecated in 1.0 and will be removed in 1.2. Please use get_feature_names_out instead.\n",
      "  warnings.warn(msg, category=FutureWarning)\n",
      "/usr/local/lib/python3.8/dist-packages/pyLDAvis/_prepare.py:246: FutureWarning: In a future version of pandas all arguments of DataFrame.drop except for the argument 'labels' will be keyword-only.\n",
      "  default_term_info = default_term_info.sort_values(\n",
      "/usr/local/lib/python3.8/dist-packages/past/builtins/misc.py:45: DeprecationWarning: the imp module is deprecated in favour of importlib; see the module's documentation for alternative uses\n",
      "  from imp import reload\n",
      "/usr/local/lib/python3.8/dist-packages/past/builtins/misc.py:45: DeprecationWarning: the imp module is deprecated in favour of importlib; see the module's documentation for alternative uses\n",
      "  from imp import reload\n"
     ]
    },
    {
     "name": "stdout",
     "output_type": "stream",
     "text": [
      "   0    1    2    3    4    5    6     7    8    9   10\n",
      "0  수출   증대   매년   개척   겨울   요건   상담    소독   상당   조사  수당\n",
      "1  후보   부부  대통령   국민  김여정   의원   이번    규명   야권   인사  공급\n",
      "2  북한   미국   발사  김정은   대회  노동당   부부   미사일  바이든   한미  열병\n",
      "3  후보   학습   공사   대해   의원  주차장   현장   김현미   법원  감사원  교육\n",
      "4  후보   의원   국민  대통령   대표  민주당   장관  서울시장   일화   총장  정부\n",
      "5  공항   의원   장관  대통령   김해  가덕도   검증    수용   재선   후보  사진\n",
      "6  접종  대통령   백신   대표   국민   장관   사면   개정안   후보  민주당  의원\n",
      "7  후보   차장  후보자   국민   처법   장관  외교부    조사   의원   주택  추천\n",
      "<pandas.io.formats.style.Styler object at 0x7fada1f74d00>\n"
     ]
    },
    {
     "name": "stderr",
     "output_type": "stream",
     "text": [
      "/usr/local/lib/python3.8/dist-packages/sklearn/utils/deprecation.py:87: FutureWarning: Function get_feature_names is deprecated; get_feature_names is deprecated in 1.0 and will be removed in 1.2. Please use get_feature_names_out instead.\n",
      "  warnings.warn(msg, category=FutureWarning)\n",
      "/usr/local/lib/python3.8/dist-packages/pyLDAvis/_prepare.py:246: FutureWarning: In a future version of pandas all arguments of DataFrame.drop except for the argument 'labels' will be keyword-only.\n",
      "  default_term_info = default_term_info.sort_values(\n",
      "/usr/local/lib/python3.8/dist-packages/past/builtins/misc.py:45: DeprecationWarning: the imp module is deprecated in favour of importlib; see the module's documentation for alternative uses\n",
      "  from imp import reload\n",
      "/usr/local/lib/python3.8/dist-packages/past/builtins/misc.py:45: DeprecationWarning: the imp module is deprecated in favour of importlib; see the module's documentation for alternative uses\n",
      "  from imp import reload\n",
      "/usr/local/lib/python3.8/dist-packages/sklearn/utils/deprecation.py:87: FutureWarning: Function get_feature_names is deprecated; get_feature_names is deprecated in 1.0 and will be removed in 1.2. Please use get_feature_names_out instead.\n",
      "  warnings.warn(msg, category=FutureWarning)\n",
      "/usr/local/lib/python3.8/dist-packages/sklearn/utils/deprecation.py:87: FutureWarning: Function get_feature_names is deprecated; get_feature_names is deprecated in 1.0 and will be removed in 1.2. Please use get_feature_names_out instead.\n",
      "  warnings.warn(msg, category=FutureWarning)\n",
      "/usr/local/lib/python3.8/dist-packages/pyLDAvis/_prepare.py:246: FutureWarning: In a future version of pandas all arguments of DataFrame.drop except for the argument 'labels' will be keyword-only.\n",
      "  default_term_info = default_term_info.sort_values(\n",
      "/usr/local/lib/python3.8/dist-packages/past/builtins/misc.py:45: DeprecationWarning: the imp module is deprecated in favour of importlib; see the module's documentation for alternative uses\n",
      "  from imp import reload\n",
      "/usr/local/lib/python3.8/dist-packages/past/builtins/misc.py:45: DeprecationWarning: the imp module is deprecated in favour of importlib; see the module's documentation for alternative uses\n",
      "  from imp import reload\n"
     ]
    },
    {
     "name": "stdout",
     "output_type": "stream",
     "text": [
      "     0      1    2      3    4    5     6    7    8    9     10\n",
      "0   박수홍     친형   법인     사랑   횡령   관심    갈등   명의   주장   통장  여자친구\n",
      "1    남편    함소원  조병규     자신   결혼   이혼    아내   출연   소식   방송    배우\n",
      "2    신인     러브   모델     발견   영화   협회    경찰  드라마  젊은이  며느리    원인\n",
      "3    지민  뮤직비디오   안무  방탄소년단   레이   착용    멤버   댄스   공개   영상    버전\n",
      "4    트롯     미스  조병규    양지은   태연   폭력    학교  시상식  열애설   사람   진달래\n",
      "5   박시연    설민석  이승환   음주운전   음원   대리  전국체전   운전  세계사  윤석열    사고\n",
      "6   요아리     게인   싱어     빅죠  생방송   오늘    자퇴  박나래  이나래   독자    의혹\n",
      "7  아나운서    콘텐츠  글로벌    카카오  황하나  김보경   아이언   마약  경쟁력   혐의   플랫폼\n",
      "<pandas.io.formats.style.Styler object at 0x7faf08a27460>\n"
     ]
    },
    {
     "name": "stderr",
     "output_type": "stream",
     "text": [
      "/usr/local/lib/python3.8/dist-packages/sklearn/utils/deprecation.py:87: FutureWarning: Function get_feature_names is deprecated; get_feature_names is deprecated in 1.0 and will be removed in 1.2. Please use get_feature_names_out instead.\n",
      "  warnings.warn(msg, category=FutureWarning)\n",
      "/usr/local/lib/python3.8/dist-packages/pyLDAvis/_prepare.py:246: FutureWarning: In a future version of pandas all arguments of DataFrame.drop except for the argument 'labels' will be keyword-only.\n",
      "  default_term_info = default_term_info.sort_values(\n",
      "/usr/local/lib/python3.8/dist-packages/past/builtins/misc.py:45: DeprecationWarning: the imp module is deprecated in favour of importlib; see the module's documentation for alternative uses\n",
      "  from imp import reload\n",
      "/usr/local/lib/python3.8/dist-packages/past/builtins/misc.py:45: DeprecationWarning: the imp module is deprecated in favour of importlib; see the module's documentation for alternative uses\n",
      "  from imp import reload\n",
      "/usr/local/lib/python3.8/dist-packages/sklearn/utils/deprecation.py:87: FutureWarning: Function get_feature_names is deprecated; get_feature_names is deprecated in 1.0 and will be removed in 1.2. Please use get_feature_names_out instead.\n",
      "  warnings.warn(msg, category=FutureWarning)\n",
      "/usr/local/lib/python3.8/dist-packages/sklearn/utils/deprecation.py:87: FutureWarning: Function get_feature_names is deprecated; get_feature_names is deprecated in 1.0 and will be removed in 1.2. Please use get_feature_names_out instead.\n",
      "  warnings.warn(msg, category=FutureWarning)\n",
      "/usr/local/lib/python3.8/dist-packages/pyLDAvis/_prepare.py:246: FutureWarning: In a future version of pandas all arguments of DataFrame.drop except for the argument 'labels' will be keyword-only.\n",
      "  default_term_info = default_term_info.sort_values(\n",
      "/usr/local/lib/python3.8/dist-packages/past/builtins/misc.py:45: DeprecationWarning: the imp module is deprecated in favour of importlib; see the module's documentation for alternative uses\n",
      "  from imp import reload\n",
      "/usr/local/lib/python3.8/dist-packages/past/builtins/misc.py:45: DeprecationWarning: the imp module is deprecated in favour of importlib; see the module's documentation for alternative uses\n",
      "  from imp import reload\n"
     ]
    },
    {
     "name": "stdout",
     "output_type": "stream",
     "text": [
      "        0     1     2     3    4       5     6      7    8     9      10\n",
      "0     문화유산    인류    유산    행사  위원회      문화    국가     대표   보존  우리나라     정부\n",
      "1       감독   미나리   윤여정    후보   미국      영화  아카데미     배우  시상식   오스카  골든글로브\n",
      "2       전시    지원    생각    아트   작품     아버지    예술     사람  제작비    배경     계획\n",
      "3    방탄소년단   빌보드    아이   그래미   감독  다이너마이트   캐릭터    드라마   영화    기록     무대\n",
      "4       강조  독립영화   이야기  할리우드   전국      작업    시작     기록   조성    진행     전시\n",
      "5  미국배우조합상    평단  오스카상    매년   중인      시대    비롯     미래   이유   시사회     조성\n",
      "6      윤여정    영화    배우    한국  시상식      사람   미나리    한예리   작품    여우   아카데미\n",
      "7       작품    대상    남녀   라미란   후보      효과    배우  애니메이션   주연    최고     세계\n"
     ]
    }
   ],
   "source": [
    "from konlpy.tag import *\n",
    "from nltk import Text\n",
    "\n",
    "okt = Okt()\n",
    "for keyword in df['category'].unique() :\n",
    "    for name in list :\n",
    "        name_01 = name + \".csv\"\n",
    "        keyword = keyword\n",
    "        \n",
    "        df = pd.read_csv(name_01).dropna()\n",
    "        df2 = df[df['category'] == keyword]\n",
    "        # Convert to list\n",
    "        data = df2.cleanBody.values.tolist()\n",
    "\n",
    "        # user text에서 명사만 추출 \n",
    "        data_morph = []\n",
    "        for i in range(len(data)):\n",
    "            data_morph.append(\" \".join(okt.nouns(data[i])))\n",
    "\n",
    "        vectorizer = TfidfVectorizer(analyzer='word',       \n",
    "                                min_df=min_df,   # 특정 횟수 이상 언급된 것만 따로                      \n",
    "                                max_features=50000,             \n",
    "                                )\n",
    "\n",
    "        data_vectorized = vectorizer.fit_transform(data_morph)\n",
    "\n",
    "\n",
    "        NUM_TOPICS = NUM_TOPICS # 분류하는 카테고리 숫자\n",
    "        lda_model = LatentDirichletAllocation(\n",
    "                                n_components=NUM_TOPICS,              \n",
    "                                max_iter=max_iteration,               \n",
    "                                learning_method='online',   \n",
    "                                random_state=100,          \n",
    "                                batch_size=128,            \n",
    "                                evaluate_every = -1,       \n",
    "                                #n_jobs = -1,               \n",
    "                            )\n",
    "        lda_output = lda_model.fit_transform(data_vectorized)\n",
    "        log = lda_model.score(data_vectorized)\n",
    "        per = lda_model.perplexity(data_vectorized)\n",
    "        \n",
    "        # Create Document - Topic Matrix\n",
    "        lda_output = lda_model.transform(data_vectorized)\n",
    "\n",
    "        # column names\n",
    "        topicnames = [\"Topic\" + str(i) for i in range(lda_model.n_components)]\n",
    "\n",
    "        # index names\n",
    "        docnames = [\"Doc\" + str(i) for i in range(len(data))]\n",
    "\n",
    "        # Make the pandas dataframe\n",
    "        df_document_topic = pd.DataFrame(np.round(lda_output, 2), columns=topicnames, index=docnames)\n",
    "\n",
    "        # Get dominant topic for each document\n",
    "        dominant_topic = np.argmax(df_document_topic.values, axis=1)\n",
    "        df_document_topic['dominant_topic'] = dominant_topic\n",
    "\n",
    "        # Styling\n",
    "        def color_green(val):\n",
    "            color = 'green' if val > .1 else 'black'\n",
    "            return 'color: {col}'.format(col=color)\n",
    "\n",
    "        def make_bold(val):\n",
    "            weight = 700 if val > .1 else 400\n",
    "            return 'font-weight: {weight}'.format(weight=weight)\n",
    "\n",
    "        # Apply Style\n",
    "        df_document_topics = df_document_topic.head(15).style.applymap(color_green).applymap(make_bold)\n",
    "        \n",
    "        # Create Document - Topic Matrix\n",
    "        lda_output = lda_model.transform(data_vectorized)\n",
    "\n",
    "        # column names\n",
    "        topicnames = [\"Topic\" + str(i) for i in range(lda_model.n_components)]\n",
    "\n",
    "        # index names\n",
    "        docnames = [\"Doc\" + str(i) for i in range(len(data))]\n",
    "\n",
    "        # Make the pandas dataframe\n",
    "        df_document_topic = pd.DataFrame(np.round(lda_output, 2), columns=topicnames, index=docnames)\n",
    "\n",
    "        # Get dominant topic for each document\n",
    "        dominant_topic = np.argmax(df_document_topic.values, axis=1)\n",
    "        df_document_topic['dominant_topic'] = dominant_topic\n",
    "\n",
    "        # Styling\n",
    "        def color_green(val):\n",
    "            color = 'green' if val > .1 else 'black'\n",
    "            return 'color: {col}'.format(col=color)\n",
    "\n",
    "        def make_bold(val):\n",
    "            weight = 700 if val > .1 else 400\n",
    "            return 'font-weight: {weight}'.format(weight=weight)\n",
    "\n",
    "        # Apply Style\n",
    "        df_document_topics = df_document_topic.head(15).style.applymap(color_green).applymap(make_bold)\n",
    "        print(df_document_topics)\n",
    "        \n",
    "        name_02 = keyword + \"_reference\" + \".html\"\n",
    "            \n",
    "        pyLDAvis.enable_notebook()\n",
    "        p = pyLDAvis.sklearn.prepare(lda_model, data_vectorized, vectorizer)\n",
    "        \n",
    "        pyLDAvis.save_html(p,name_02)\n",
    "        \n",
    "            # Show top n keywords for each topic\n",
    "        def show_topics(vectorizer=vectorizer, lda_model=lda_model, n_words=20):\n",
    "            keywords = np.array(vectorizer.get_feature_names())\n",
    "            topic_keywords = []\n",
    "            for topic_weights in lda_model.components_:\n",
    "                top_keyword_locs = (-topic_weights).argsort()[:n_words]\n",
    "                topic_keywords.append(keywords.take(top_keyword_locs))\n",
    "            return topic_keywords\n",
    "\n",
    "        topic_keywords = show_topics(vectorizer=vectorizer, lda_model=lda_model, n_words=11) \n",
    "        \n",
    "        name_03 = keyword +  \"_reference\" +\".csv\"\n",
    "        pd.DataFrame(topic_keywords).to_csv(name_03, index=False, encoding='utf-8-sig')\n",
    "        print(pd.DataFrame(topic_keywords));\n",
    "\n",
    "    pyLDAvis.enable_notebook()\n",
    "    pyLDAvis.sklearn.prepare(lda_model, data_vectorized, vectorizer)"
   ]
  }
 ],
 "metadata": {
  "kernelspec": {
   "display_name": "Python 3.8.10 64-bit",
   "language": "python",
   "name": "python3"
  },
  "language_info": {
   "codemirror_mode": {
    "name": "ipython",
    "version": 3
   },
   "file_extension": ".py",
   "mimetype": "text/x-python",
   "name": "python",
   "nbconvert_exporter": "python",
   "pygments_lexer": "ipython3",
   "version": "3.8.10"
  },
  "vscode": {
   "interpreter": {
    "hash": "916dbcbb3f70747c44a77c7bcd40155683ae19c65e1c03b4aa3499c5328201f1"
   }
  }
 },
 "nbformat": 4,
 "nbformat_minor": 2
}
